{
  "nbformat": 4,
  "nbformat_minor": 0,
  "metadata": {
    "colab": {
      "name": "ДЗ 2.Полносвязные сети, обучающая и тестовая выборки.ipynb",
      "provenance": [],
      "collapsed_sections": [
        "ccR_-0nMIC2w",
        "wzRWk0TsOJ3p",
        "ok2DN4eIbWtJ",
        "KyID5ZF8opXh"
      ]
    },
    "kernelspec": {
      "name": "python3",
      "display_name": "Python 3"
    },
    "accelerator": "GPU"
  },
  "cells": [
    {
      "cell_type": "code",
      "metadata": {
        "id": "hpjq_ZDhHyci"
      },
      "source": [
        "# загрузка библиотек\n",
        "from tensorflow.keras.datasets import mnist\n",
        "from tensorflow.keras.models import Sequential\n",
        "from tensorflow.keras.layers import Dense, BatchNormalization, Dropout, Activation\n",
        "from tensorflow.keras.optimizers import Adam\n",
        "from tensorflow.keras import utils\n",
        "from tensorflow.keras.preprocessing import image\n",
        "\n",
        "import numpy as np\n",
        "import pandas as pd\n",
        "from google.colab import files\n",
        "import matplotlib.pyplot as plt\n",
        "import plotly as px\n",
        "from PIL import Image\n",
        "from sklearn.preprocessing import LabelEncoder, StandardScaler, MinMaxScaler\n",
        "from sklearn import preprocessing\n",
        "from sklearn.model_selection import train_test_split\n",
        "\n",
        "%matplotlib inline"
      ],
      "execution_count": null,
      "outputs": []
    },
    {
      "cell_type": "markdown",
      "metadata": {
        "id": "ccR_-0nMIC2w"
      },
      "source": [
        "#Задание Ultra Lite\n",
        "\n",
        "Создайте модель для распознавания рукописных цифр из набора MNIST (можно воспользоваться ноутбуком 1-го занятия) и проведите ряд тестов:\n",
        "\n",
        "Запустите сеть с различными размерами обучающей и проверочной выборок:\n",
        "\n",
        "* Размер test_size=0.1\n",
        "* Размер test_size=0.5\n",
        "* Размер test_size=0.9\n",
        "\n",
        "Напишите выводы, как изменение test_size влияет на точность сети."
      ]
    },
    {
      "cell_type": "code",
      "metadata": {
        "colab": {
          "base_uri": "https://localhost:8080/",
          "height": 239
        },
        "id": "DyR72mvfIElT",
        "outputId": "7c4fd88d-6735-4b39-85ba-de6901267823"
      },
      "source": [
        "# загрузка данных\n",
        "(x_train_org, y_train_org), (x_test_org, y_test_org) = mnist.load_data()\n",
        "# решейп данных (28,28) -> (784)\n",
        "x_train = x_train_org.reshape(x_train_org.shape[0],x_train_org.shape[1]*x_train_org.shape[2])\n",
        "x_test = x_test_org.reshape(x_test_org.shape[0],x_test_org.shape[1]*x_test_org.shape[2])\n",
        "# нормировка данных\n",
        "x_train = x_train.astype('float32')\n",
        "x_test = x_test.astype('float32')\n",
        "x_train = x_train / 255\n",
        "x_test = x_test / 255\n",
        "# приводим y\n",
        "y_train = utils.to_categorical(y_train_org,10)\n",
        "y_test = utils.to_categorical(y_test_org,10)"
      ],
      "execution_count": null,
      "outputs": [
        {
          "output_type": "error",
          "ename": "NameError",
          "evalue": "ignored",
          "traceback": [
            "\u001b[0;31m---------------------------------------------------------------------------\u001b[0m",
            "\u001b[0;31mNameError\u001b[0m                                 Traceback (most recent call last)",
            "\u001b[0;32m<ipython-input-1-475fc961aef2>\u001b[0m in \u001b[0;36m<module>\u001b[0;34m()\u001b[0m\n\u001b[1;32m      1\u001b[0m \u001b[0;31m# загрузка данных\u001b[0m\u001b[0;34m\u001b[0m\u001b[0;34m\u001b[0m\u001b[0;34m\u001b[0m\u001b[0m\n\u001b[0;32m----> 2\u001b[0;31m \u001b[0;34m(\u001b[0m\u001b[0mx_train_org\u001b[0m\u001b[0;34m,\u001b[0m \u001b[0my_train_org\u001b[0m\u001b[0;34m)\u001b[0m\u001b[0;34m,\u001b[0m \u001b[0;34m(\u001b[0m\u001b[0mx_test_org\u001b[0m\u001b[0;34m,\u001b[0m \u001b[0my_test_org\u001b[0m\u001b[0;34m)\u001b[0m \u001b[0;34m=\u001b[0m \u001b[0mmnist\u001b[0m\u001b[0;34m.\u001b[0m\u001b[0mload_data\u001b[0m\u001b[0;34m(\u001b[0m\u001b[0;34m)\u001b[0m\u001b[0;34m\u001b[0m\u001b[0;34m\u001b[0m\u001b[0m\n\u001b[0m\u001b[1;32m      3\u001b[0m \u001b[0;31m# решейп данных (28,28) -> (784)\u001b[0m\u001b[0;34m\u001b[0m\u001b[0;34m\u001b[0m\u001b[0;34m\u001b[0m\u001b[0m\n\u001b[1;32m      4\u001b[0m \u001b[0mx_train\u001b[0m \u001b[0;34m=\u001b[0m \u001b[0mx_train_org\u001b[0m\u001b[0;34m.\u001b[0m\u001b[0mreshape\u001b[0m\u001b[0;34m(\u001b[0m\u001b[0mx_train_org\u001b[0m\u001b[0;34m.\u001b[0m\u001b[0mshape\u001b[0m\u001b[0;34m[\u001b[0m\u001b[0;36m0\u001b[0m\u001b[0;34m]\u001b[0m\u001b[0;34m,\u001b[0m\u001b[0mx_train_org\u001b[0m\u001b[0;34m.\u001b[0m\u001b[0mshape\u001b[0m\u001b[0;34m[\u001b[0m\u001b[0;36m1\u001b[0m\u001b[0;34m]\u001b[0m\u001b[0;34m*\u001b[0m\u001b[0mx_train_org\u001b[0m\u001b[0;34m.\u001b[0m\u001b[0mshape\u001b[0m\u001b[0;34m[\u001b[0m\u001b[0;36m2\u001b[0m\u001b[0;34m]\u001b[0m\u001b[0;34m)\u001b[0m\u001b[0;34m\u001b[0m\u001b[0;34m\u001b[0m\u001b[0m\n\u001b[1;32m      5\u001b[0m \u001b[0mx_test\u001b[0m \u001b[0;34m=\u001b[0m \u001b[0mx_test_org\u001b[0m\u001b[0;34m.\u001b[0m\u001b[0mreshape\u001b[0m\u001b[0;34m(\u001b[0m\u001b[0mx_test_org\u001b[0m\u001b[0;34m.\u001b[0m\u001b[0mshape\u001b[0m\u001b[0;34m[\u001b[0m\u001b[0;36m0\u001b[0m\u001b[0;34m]\u001b[0m\u001b[0;34m,\u001b[0m\u001b[0mx_test_org\u001b[0m\u001b[0;34m.\u001b[0m\u001b[0mshape\u001b[0m\u001b[0;34m[\u001b[0m\u001b[0;36m1\u001b[0m\u001b[0;34m]\u001b[0m\u001b[0;34m*\u001b[0m\u001b[0mx_test_org\u001b[0m\u001b[0;34m.\u001b[0m\u001b[0mshape\u001b[0m\u001b[0;34m[\u001b[0m\u001b[0;36m2\u001b[0m\u001b[0;34m]\u001b[0m\u001b[0;34m)\u001b[0m\u001b[0;34m\u001b[0m\u001b[0;34m\u001b[0m\u001b[0m\n",
            "\u001b[0;31mNameError\u001b[0m: name 'mnist' is not defined"
          ]
        }
      ]
    },
    {
      "cell_type": "code",
      "metadata": {
        "id": "HP7aA5INLCqO"
      },
      "source": [
        "print('Размерность обучающей выборки ', x_train.shape)\n",
        "print('Размерность тестовой выборки ', x_test.shape)"
      ],
      "execution_count": null,
      "outputs": []
    },
    {
      "cell_type": "code",
      "metadata": {
        "id": "LUHbuhb7Kbkg"
      },
      "source": [
        "# разделим на обучающую и проверочную выборки (x_train)\n",
        "x_tr, x_val, y_tr, y_val = train_test_split(x_train, y_train, test_size=0.1, shuffle=True)\n",
        "print('Размерность обучающей выборки ', x_tr.shape)\n",
        "print('Размерность проверочной выборки ', x_val.shape)\n",
        "print('Размерность обучающей выборки ', y_tr.shape)\n",
        "print('Размерность проверочной выборки ', y_val.shape)\n",
        "# либо можно использовать validation_split при вызове метода fit"
      ],
      "execution_count": null,
      "outputs": []
    },
    {
      "cell_type": "code",
      "metadata": {
        "id": "jNE3CfSvMhCg"
      },
      "source": [
        "# создаем модель\n",
        "def createModel():\n",
        "\n",
        "  # Создаем сеть\n",
        "  model = Sequential()\n",
        "\n",
        "  # Добавляем слои\n",
        "  model.add(Dense(512, input_dim=x_train.shape[1], activation='relu'))\n",
        "  model.add(Dense(256,  activation='relu'))\n",
        "  model.add(Dense(10, activation='sigmoid'))\n",
        "\n",
        "  # Компилируем сеть\n",
        "  model.compile(loss='categorical_crossentropy', optimizer=Adam(lr=0.001), metrics=['accuracy'])\n",
        "\n",
        "  return model # Возвращаем созданную сеть"
      ],
      "execution_count": null,
      "outputs": []
    },
    {
      "cell_type": "code",
      "metadata": {
        "id": "aOHWVlJOMxhu"
      },
      "source": [
        "# размер test_size=0.1\n",
        "model01 = createModel()\n",
        "\n",
        "model01.fit(x_train, y_train,\n",
        "            batch_size=128,\n",
        "            epochs=20,\n",
        "            validation_split=0.1, # 10% - для проверочной выборки\n",
        "            verbose=1)"
      ],
      "execution_count": null,
      "outputs": []
    },
    {
      "cell_type": "markdown",
      "metadata": {
        "id": "J8eiTXoQOrvD"
      },
      "source": [
        "на последней эпохе обучения:\n",
        "\n",
        "ошибка на обучающем наборе accuracy = 99.79%\n",
        "\n",
        "ошибка на проверочном наборе val_accuracy = 98.40%\n",
        "\n",
        "получили хорошую точность на проверочном наборе - делаем вывод, что сеть не переобучается на обучающем наборе, т.е. на проверочном выделяет нужные признаки"
      ]
    },
    {
      "cell_type": "code",
      "metadata": {
        "id": "n4Bb6HKlNqRX"
      },
      "source": [
        "# размер test_size=0.1\n",
        "model01 = createModel()\n",
        "# зададим через validation_data\n",
        "model01.fit(x_tr, y_tr,\n",
        "            batch_size=128,\n",
        "            epochs=20,\n",
        "            validation_data=(x_val,y_val), \n",
        "            verbose=1)"
      ],
      "execution_count": null,
      "outputs": []
    },
    {
      "cell_type": "markdown",
      "metadata": {
        "id": "4tDysuJXPjzU"
      },
      "source": [
        "на последней эпохе обучения:\n",
        "\n",
        "ошибка на обучающем наборе accuracy = 99.85%\n",
        "\n",
        "ошибка на проверочном наборе val_accuracy = 98.08%\n",
        "\n",
        "в целом та же точность "
      ]
    },
    {
      "cell_type": "code",
      "metadata": {
        "id": "2XpJJCNMNGA4"
      },
      "source": [
        "# размер test_size=0.5\n",
        "model05 = createModel()\n",
        "\n",
        "model05.fit(x_train, y_train,\n",
        "            batch_size=128,\n",
        "            epochs=20,\n",
        "            validation_split=0.5, # 50% - для проверочной выборки\n",
        "            verbose=1)"
      ],
      "execution_count": null,
      "outputs": []
    },
    {
      "cell_type": "markdown",
      "metadata": {
        "id": "WQQgKthgPlec"
      },
      "source": [
        "на последней эпохе обучения:\n",
        "\n",
        "ошибка на обучающем наборе accuracy = 99.71%\n",
        "\n",
        "ошибка на проверочном наборе val_accuracy = 96.78%\n",
        "\n",
        "уменьшили обучющую выборку - точность на проверочной снизилась (+ на проверочной выборке стало больше данных)"
      ]
    },
    {
      "cell_type": "code",
      "metadata": {
        "id": "kCeIESCkNI0f"
      },
      "source": [
        "# размер test_size=0.9\n",
        "model09 = createModel()\n",
        "\n",
        "model09.fit(x_train, y_train,\n",
        "            batch_size=128,\n",
        "            epochs=20,\n",
        "            validation_split=0.9, # 90% - для провероной выборки\n",
        "            verbose=1)"
      ],
      "execution_count": null,
      "outputs": []
    },
    {
      "cell_type": "markdown",
      "metadata": {
        "id": "ktC0kc8VPyzE"
      },
      "source": [
        "на последней эпохе обучения:\n",
        "\n",
        "ошибка на обучающем наборе accuracy = 100%\n",
        "\n",
        "ошибка на проверочном наборе val_accuracy = 94.82%\n",
        "\n",
        "маленькая обучающая выборка - точность быстро становится равной 100%\n",
        "\n",
        "на проверочной выборке - неплохие результаты - точность больше 90%\n",
        "\n",
        "в итоге при выборе размера обучающей и проверочной выборки требуется чтобы обучающая выборка была больше проверочной, но в то же время проверочная выборка должна содержать все примеры обучающей, чтобы по проверочной точности можно было оценить работу всей сети"
      ]
    },
    {
      "cell_type": "markdown",
      "metadata": {
        "id": "wzRWk0TsOJ3p"
      },
      "source": [
        "#Задание Lite\n",
        "\n",
        "Создайте модель для распознавания рукописных цифр из набора MNIST (можно воспользоваться ноутбуком 1-го занятия) и проведите ряд тестов:\n",
        "\n",
        "1. Запустите сеть с различными размерами обучающей и проверочной выборок:\n",
        "\n",
        "* Обучающая выборка 50.000 примеров\n",
        "* Обучающая выборка 10.000 примеров\n",
        "* Обучающая выборка 500 примеров\n",
        "\n",
        "2. Создайте еще два варианта сети и сравните значения точности на проверочной выборке (на последней эпохе) и на тестовой выборке. \n",
        "3. Создайте сеть следующей архитектуры:\n",
        "\n",
        "* 4 Dense слоя\n",
        "* 3 Dropout слоя\n",
        "* 3 BatchNormalization слоя\n",
        "\n",
        "Напишите свои выводы по результатам проведенных тестов."
      ]
    },
    {
      "cell_type": "markdown",
      "metadata": {
        "id": "DSzMMaGFSoQt"
      },
      "source": [
        "## 1. Сети с различными размерами обучающей и проверочной выборками"
      ]
    },
    {
      "cell_type": "code",
      "metadata": {
        "colab": {
          "base_uri": "https://localhost:8080/"
        },
        "id": "NFxqouOjOSJN",
        "outputId": "5fb217a3-b357-4b1a-b20e-8de9a7f5112e"
      },
      "source": [
        "model50 = createModel()\n",
        "n_len = x_train.shape[0]\n",
        "n_val = n_len - 50000\n",
        "\n",
        "# обучаем сеть\n",
        "model50.fit(x_train[:n_len-n_val], # 50.000 примеров\n",
        "          y_train[:n_len-n_val], \n",
        "          batch_size=128, \n",
        "          epochs=20,\n",
        "          validation_data=(x_train[n_len-n_val:], y_train[n_len-n_val:]), \n",
        "          verbose=1)"
      ],
      "execution_count": null,
      "outputs": [
        {
          "output_type": "stream",
          "text": [
            "Epoch 1/20\n",
            "391/391 [==============================] - 4s 5ms/step - loss: 0.4485 - accuracy: 0.8715 - val_loss: 0.1313 - val_accuracy: 0.9598\n",
            "Epoch 2/20\n",
            "391/391 [==============================] - 1s 3ms/step - loss: 0.0995 - accuracy: 0.9700 - val_loss: 0.0921 - val_accuracy: 0.9725\n",
            "Epoch 3/20\n",
            "391/391 [==============================] - 1s 3ms/step - loss: 0.0568 - accuracy: 0.9826 - val_loss: 0.0821 - val_accuracy: 0.9758\n",
            "Epoch 4/20\n",
            "391/391 [==============================] - 1s 4ms/step - loss: 0.0363 - accuracy: 0.9887 - val_loss: 0.0968 - val_accuracy: 0.9735\n",
            "Epoch 5/20\n",
            "391/391 [==============================] - 1s 4ms/step - loss: 0.0255 - accuracy: 0.9923 - val_loss: 0.0792 - val_accuracy: 0.9774\n",
            "Epoch 6/20\n",
            "391/391 [==============================] - 1s 3ms/step - loss: 0.0181 - accuracy: 0.9946 - val_loss: 0.0791 - val_accuracy: 0.9784\n",
            "Epoch 7/20\n",
            "391/391 [==============================] - 1s 4ms/step - loss: 0.0142 - accuracy: 0.9952 - val_loss: 0.0889 - val_accuracy: 0.9774\n",
            "Epoch 8/20\n",
            "391/391 [==============================] - 1s 3ms/step - loss: 0.0153 - accuracy: 0.9951 - val_loss: 0.0789 - val_accuracy: 0.9796\n",
            "Epoch 9/20\n",
            "391/391 [==============================] - 1s 4ms/step - loss: 0.0108 - accuracy: 0.9966 - val_loss: 0.0888 - val_accuracy: 0.9793\n",
            "Epoch 10/20\n",
            "391/391 [==============================] - 1s 3ms/step - loss: 0.0087 - accuracy: 0.9973 - val_loss: 0.0893 - val_accuracy: 0.9795\n",
            "Epoch 11/20\n",
            "391/391 [==============================] - 1s 3ms/step - loss: 0.0071 - accuracy: 0.9975 - val_loss: 0.0983 - val_accuracy: 0.9797\n",
            "Epoch 12/20\n",
            "391/391 [==============================] - 1s 4ms/step - loss: 0.0180 - accuracy: 0.9941 - val_loss: 0.0920 - val_accuracy: 0.9792\n",
            "Epoch 13/20\n",
            "391/391 [==============================] - 1s 4ms/step - loss: 0.0082 - accuracy: 0.9973 - val_loss: 0.0958 - val_accuracy: 0.9816\n",
            "Epoch 14/20\n",
            "391/391 [==============================] - 1s 4ms/step - loss: 0.0101 - accuracy: 0.9966 - val_loss: 0.0887 - val_accuracy: 0.9808\n",
            "Epoch 15/20\n",
            "391/391 [==============================] - 1s 4ms/step - loss: 0.0063 - accuracy: 0.9976 - val_loss: 0.1070 - val_accuracy: 0.9782\n",
            "Epoch 16/20\n",
            "391/391 [==============================] - 1s 4ms/step - loss: 0.0088 - accuracy: 0.9969 - val_loss: 0.0998 - val_accuracy: 0.9813\n",
            "Epoch 17/20\n",
            "391/391 [==============================] - 1s 4ms/step - loss: 0.0061 - accuracy: 0.9983 - val_loss: 0.1027 - val_accuracy: 0.9804\n",
            "Epoch 18/20\n",
            "391/391 [==============================] - 1s 3ms/step - loss: 0.0053 - accuracy: 0.9983 - val_loss: 0.1140 - val_accuracy: 0.9787\n",
            "Epoch 19/20\n",
            "391/391 [==============================] - 1s 3ms/step - loss: 0.0101 - accuracy: 0.9973 - val_loss: 0.1116 - val_accuracy: 0.9795\n",
            "Epoch 20/20\n",
            "391/391 [==============================] - 1s 3ms/step - loss: 0.0072 - accuracy: 0.9978 - val_loss: 0.1003 - val_accuracy: 0.9811\n"
          ],
          "name": "stdout"
        },
        {
          "output_type": "execute_result",
          "data": {
            "text/plain": [
              "<tensorflow.python.keras.callbacks.History at 0x7f0160564210>"
            ]
          },
          "metadata": {
            "tags": []
          },
          "execution_count": 6
        }
      ]
    },
    {
      "cell_type": "markdown",
      "metadata": {
        "id": "2vel_cOxSxQj"
      },
      "source": [
        "обучающая выборка 50.000 примеров -  проверочная выборка 10.000 примеров\n",
        "\n",
        "accuracy = 99.78% val_accuracy = 98.11%"
      ]
    },
    {
      "cell_type": "code",
      "metadata": {
        "id": "OezugLaUSgcf",
        "colab": {
          "base_uri": "https://localhost:8080/"
        },
        "outputId": "d8f55205-f1ba-492c-e355-433e64e5b354"
      },
      "source": [
        "model10 = createModel()\n",
        "n_len = x_train.shape[0]\n",
        "n_val = n_len - 10000\n",
        "print()\n",
        "# обучаем сеть\n",
        "model10.fit(x_train[:n_len-n_val], # 10.000 примеров\n",
        "          y_train[:n_len-n_val], \n",
        "          batch_size=128, \n",
        "          epochs=20,\n",
        "          validation_data=(x_train[n_len-n_val:], y_train[n_len-n_val:]), \n",
        "          verbose=1)"
      ],
      "execution_count": null,
      "outputs": [
        {
          "output_type": "stream",
          "text": [
            "\n",
            "Epoch 1/20\n",
            "79/79 [==============================] - 2s 18ms/step - loss: 0.9041 - accuracy: 0.7390 - val_loss: 0.2796 - val_accuracy: 0.9191\n",
            "Epoch 2/20\n",
            "79/79 [==============================] - 1s 16ms/step - loss: 0.1917 - accuracy: 0.9463 - val_loss: 0.2047 - val_accuracy: 0.9397\n",
            "Epoch 3/20\n",
            "79/79 [==============================] - 1s 15ms/step - loss: 0.1278 - accuracy: 0.9639 - val_loss: 0.1932 - val_accuracy: 0.9408\n",
            "Epoch 4/20\n",
            "79/79 [==============================] - 1s 15ms/step - loss: 0.0800 - accuracy: 0.9778 - val_loss: 0.1822 - val_accuracy: 0.9467\n",
            "Epoch 5/20\n",
            "79/79 [==============================] - 1s 16ms/step - loss: 0.0573 - accuracy: 0.9826 - val_loss: 0.1679 - val_accuracy: 0.9526\n",
            "Epoch 6/20\n",
            "79/79 [==============================] - 1s 16ms/step - loss: 0.0345 - accuracy: 0.9913 - val_loss: 0.1763 - val_accuracy: 0.9497\n",
            "Epoch 7/20\n",
            "79/79 [==============================] - 1s 16ms/step - loss: 0.0192 - accuracy: 0.9963 - val_loss: 0.1803 - val_accuracy: 0.9516\n",
            "Epoch 8/20\n",
            "79/79 [==============================] - 1s 14ms/step - loss: 0.0229 - accuracy: 0.9945 - val_loss: 0.1735 - val_accuracy: 0.9543\n",
            "Epoch 9/20\n",
            "79/79 [==============================] - 1s 14ms/step - loss: 0.0074 - accuracy: 0.9996 - val_loss: 0.1798 - val_accuracy: 0.9551\n",
            "Epoch 10/20\n",
            "79/79 [==============================] - 1s 16ms/step - loss: 0.0357 - accuracy: 0.9891 - val_loss: 0.1988 - val_accuracy: 0.9491\n",
            "Epoch 11/20\n",
            "79/79 [==============================] - 1s 14ms/step - loss: 0.0134 - accuracy: 0.9967 - val_loss: 0.1895 - val_accuracy: 0.9560\n",
            "Epoch 12/20\n",
            "79/79 [==============================] - 1s 14ms/step - loss: 0.0055 - accuracy: 0.9992 - val_loss: 0.1839 - val_accuracy: 0.9567\n",
            "Epoch 13/20\n",
            "79/79 [==============================] - 1s 14ms/step - loss: 0.0031 - accuracy: 0.9996 - val_loss: 0.1702 - val_accuracy: 0.9603\n",
            "Epoch 14/20\n",
            "79/79 [==============================] - 1s 16ms/step - loss: 0.0011 - accuracy: 1.0000 - val_loss: 0.1724 - val_accuracy: 0.9612\n",
            "Epoch 15/20\n",
            "79/79 [==============================] - 1s 16ms/step - loss: 7.1145e-04 - accuracy: 1.0000 - val_loss: 0.1762 - val_accuracy: 0.9610\n",
            "Epoch 16/20\n",
            "79/79 [==============================] - 1s 15ms/step - loss: 6.3531e-04 - accuracy: 1.0000 - val_loss: 0.1780 - val_accuracy: 0.9610\n",
            "Epoch 17/20\n",
            "79/79 [==============================] - 1s 14ms/step - loss: 4.8477e-04 - accuracy: 1.0000 - val_loss: 0.1797 - val_accuracy: 0.9612\n",
            "Epoch 18/20\n",
            "79/79 [==============================] - 1s 14ms/step - loss: 4.7172e-04 - accuracy: 1.0000 - val_loss: 0.1814 - val_accuracy: 0.9614\n",
            "Epoch 19/20\n",
            "79/79 [==============================] - 1s 14ms/step - loss: 4.3037e-04 - accuracy: 1.0000 - val_loss: 0.1832 - val_accuracy: 0.9612\n",
            "Epoch 20/20\n",
            "79/79 [==============================] - 1s 15ms/step - loss: 3.6286e-04 - accuracy: 1.0000 - val_loss: 0.1850 - val_accuracy: 0.9611\n"
          ],
          "name": "stdout"
        },
        {
          "output_type": "execute_result",
          "data": {
            "text/plain": [
              "<tensorflow.python.keras.callbacks.History at 0x7f0128177550>"
            ]
          },
          "metadata": {
            "tags": []
          },
          "execution_count": 8
        }
      ]
    },
    {
      "cell_type": "markdown",
      "metadata": {
        "id": "LdazpeRNS8gQ"
      },
      "source": [
        "обучающая выборка 10.000 примеров -  проверочная выборка 50.000 примеров\n",
        "\n",
        "accuracy = 100% val_accuracy = 96.11%"
      ]
    },
    {
      "cell_type": "code",
      "metadata": {
        "colab": {
          "base_uri": "https://localhost:8080/"
        },
        "id": "MrBraYolNOw4",
        "outputId": "12fc47a1-3dd8-46aa-f142-315ee03721ee"
      },
      "source": [
        "model500 = createModel()\n",
        "n_len = x_train.shape[0]\n",
        "n_val = n_len - 500\n",
        "print()\n",
        "# обучаем сеть\n",
        "model500.fit(x_train[:n_len-n_val], # 500 примеров\n",
        "          y_train[:n_len-n_val], \n",
        "          batch_size=128, \n",
        "          epochs=20,\n",
        "          validation_data=(x_train[n_len-n_val:], y_train[n_len-n_val:]), \n",
        "          verbose=1)"
      ],
      "execution_count": null,
      "outputs": [
        {
          "output_type": "stream",
          "text": [
            "\n",
            "Epoch 1/20\n",
            "4/4 [==============================] - 3s 469ms/step - loss: 2.1060 - accuracy: 0.3334 - val_loss: 1.5404 - val_accuracy: 0.6502\n",
            "Epoch 2/20\n",
            "4/4 [==============================] - 1s 333ms/step - loss: 1.1559 - accuracy: 0.8118 - val_loss: 0.9792 - val_accuracy: 0.7390\n",
            "Epoch 3/20\n",
            "4/4 [==============================] - 1s 332ms/step - loss: 0.6004 - accuracy: 0.8814 - val_loss: 0.7059 - val_accuracy: 0.7810\n",
            "Epoch 4/20\n",
            "4/4 [==============================] - 1s 334ms/step - loss: 0.3640 - accuracy: 0.9030 - val_loss: 0.6200 - val_accuracy: 0.8053\n",
            "Epoch 5/20\n",
            "4/4 [==============================] - 1s 335ms/step - loss: 0.2606 - accuracy: 0.9318 - val_loss: 0.5849 - val_accuracy: 0.8129\n",
            "Epoch 6/20\n",
            "4/4 [==============================] - 1s 332ms/step - loss: 0.1937 - accuracy: 0.9375 - val_loss: 0.5642 - val_accuracy: 0.8227\n",
            "Epoch 7/20\n",
            "4/4 [==============================] - 1s 330ms/step - loss: 0.1328 - accuracy: 0.9729 - val_loss: 0.5932 - val_accuracy: 0.8271\n",
            "Epoch 8/20\n",
            "4/4 [==============================] - 1s 326ms/step - loss: 0.0954 - accuracy: 0.9842 - val_loss: 0.5517 - val_accuracy: 0.8373\n",
            "Epoch 9/20\n",
            "4/4 [==============================] - 1s 329ms/step - loss: 0.0566 - accuracy: 0.9942 - val_loss: 0.5435 - val_accuracy: 0.8389\n",
            "Epoch 10/20\n",
            "4/4 [==============================] - 1s 332ms/step - loss: 0.0422 - accuracy: 1.0000 - val_loss: 0.5815 - val_accuracy: 0.8353\n",
            "Epoch 11/20\n",
            "4/4 [==============================] - 1s 334ms/step - loss: 0.0300 - accuracy: 1.0000 - val_loss: 0.5941 - val_accuracy: 0.8378\n",
            "Epoch 12/20\n",
            "4/4 [==============================] - 1s 334ms/step - loss: 0.0208 - accuracy: 1.0000 - val_loss: 0.5875 - val_accuracy: 0.8410\n",
            "Epoch 13/20\n",
            "4/4 [==============================] - 1s 335ms/step - loss: 0.0156 - accuracy: 1.0000 - val_loss: 0.5829 - val_accuracy: 0.8424\n",
            "Epoch 14/20\n",
            "4/4 [==============================] - 1s 339ms/step - loss: 0.0126 - accuracy: 1.0000 - val_loss: 0.5814 - val_accuracy: 0.8451\n",
            "Epoch 15/20\n",
            "4/4 [==============================] - 1s 336ms/step - loss: 0.0110 - accuracy: 1.0000 - val_loss: 0.5874 - val_accuracy: 0.8460\n",
            "Epoch 16/20\n",
            "4/4 [==============================] - 1s 331ms/step - loss: 0.0085 - accuracy: 1.0000 - val_loss: 0.5969 - val_accuracy: 0.8450\n",
            "Epoch 17/20\n",
            "4/4 [==============================] - 1s 332ms/step - loss: 0.0068 - accuracy: 1.0000 - val_loss: 0.6065 - val_accuracy: 0.8438\n",
            "Epoch 18/20\n",
            "4/4 [==============================] - 1s 327ms/step - loss: 0.0060 - accuracy: 1.0000 - val_loss: 0.6119 - val_accuracy: 0.8446\n",
            "Epoch 19/20\n",
            "4/4 [==============================] - 1s 375ms/step - loss: 0.0054 - accuracy: 1.0000 - val_loss: 0.6148 - val_accuracy: 0.8452\n",
            "Epoch 20/20\n",
            "4/4 [==============================] - 1s 337ms/step - loss: 0.0047 - accuracy: 1.0000 - val_loss: 0.6169 - val_accuracy: 0.8453\n"
          ],
          "name": "stdout"
        },
        {
          "output_type": "execute_result",
          "data": {
            "text/plain": [
              "<tensorflow.python.keras.callbacks.History at 0x7faeae4b4e10>"
            ]
          },
          "metadata": {
            "tags": []
          },
          "execution_count": 6
        }
      ]
    },
    {
      "cell_type": "code",
      "metadata": {
        "id": "7_Rg1MUiU-Dh"
      },
      "source": [
        "predict = model500.predict(x_train[n_len-n_val:])\n",
        "y_val_ = y_train[n_len-n_val:]\n",
        "x_val_org = x_train_org[n_len-n_val:]"
      ],
      "execution_count": null,
      "outputs": []
    },
    {
      "cell_type": "code",
      "metadata": {
        "colab": {
          "base_uri": "https://localhost:8080/"
        },
        "id": "nPf4sEPXVqh9",
        "outputId": "fd3a3469-ccc3-4ef2-b418-e81b836676ac"
      },
      "source": [
        "print(predict.shape)\n",
        "print(y_val_.shape)"
      ],
      "execution_count": null,
      "outputs": [
        {
          "output_type": "stream",
          "text": [
            "(59500, 10)\n",
            "(59500, 10)\n"
          ],
          "name": "stdout"
        }
      ]
    },
    {
      "cell_type": "code",
      "metadata": {
        "id": "C7KiOG_xVLo1"
      },
      "source": [
        "error_predict = []\n",
        "for i in range(predict.shape[0]):\n",
        "  if (np.argmax(predict[i]) != np.argmax(y_val_[i])):\n",
        "    error_predict.append(i)\n",
        "error_predict = np.array(error_predict)"
      ],
      "execution_count": null,
      "outputs": []
    },
    {
      "cell_type": "code",
      "metadata": {
        "colab": {
          "base_uri": "https://localhost:8080/"
        },
        "id": "1oaHB6t4WRSF",
        "outputId": "824ab9c9-3963-4a5f-f292-3aa4ff128bbc"
      },
      "source": [
        "error_predict[0:100]"
      ],
      "execution_count": null,
      "outputs": [
        {
          "output_type": "execute_result",
          "data": {
            "text/plain": [
              "array([  0,   3,   4,   6,   9,  12,  27,  28,  33,  40,  44,  47,  58,\n",
              "        61,  74,  76,  88,  89, 101, 102, 103, 108, 110, 111, 113, 114,\n",
              "       126, 127, 129, 130, 131, 135, 144, 146, 159, 165, 167, 170, 196,\n",
              "       199, 204, 212, 218, 220, 240, 245, 248, 249, 260, 270, 272, 278,\n",
              "       282, 286, 292, 301, 308, 326, 328, 343, 344, 346, 350, 354, 363,\n",
              "       364, 379, 384, 386, 389, 392, 399, 402, 403, 416, 424, 429, 430,\n",
              "       433, 438, 443, 446, 465, 466, 474, 477, 495, 497, 505, 514, 515,\n",
              "       516, 519, 524, 529, 532, 535, 547, 555, 574])"
            ]
          },
          "metadata": {
            "tags": []
          },
          "execution_count": 25
        }
      ]
    },
    {
      "cell_type": "code",
      "metadata": {
        "colab": {
          "base_uri": "https://localhost:8080/",
          "height": 318
        },
        "id": "qCrqFW4AWavj",
        "outputId": "6b54b13e-34aa-4da5-b6a0-4254d253aaa5"
      },
      "source": [
        "plt.imshow(Image.fromarray(x_val_org[0]).convert('RGB'))\n",
        "print('Пример картинки')\n",
        "plt.show()\n",
        "print('Распознанное значение цифры ',np.argmax(predict[0]))\n",
        "print('Истинное значение цифры ',np.argmax(y_val_[0]))"
      ],
      "execution_count": null,
      "outputs": [
        {
          "output_type": "stream",
          "text": [
            "Пример картинки\n"
          ],
          "name": "stdout"
        },
        {
          "output_type": "display_data",
          "data": {
            "image/png": "[encoded data removed]",
            "text/plain": [
              "<Figure size 432x288 with 1 Axes>"
            ]
          },
          "metadata": {
            "tags": [],
            "needs_background": "light"
          }
        },
        {
          "output_type": "stream",
          "text": [
            "Распознанное значение цифры  2\n",
            "Истинное значение цифры  3\n"
          ],
          "name": "stdout"
        }
      ]
    },
    {
      "cell_type": "markdown",
      "metadata": {
        "id": "VbUv8LhWXMHY"
      },
      "source": [
        "На этом примере действительно не понятно, что это 3! Я бы тоже предположила, что это 2"
      ]
    },
    {
      "cell_type": "code",
      "metadata": {
        "colab": {
          "base_uri": "https://localhost:8080/",
          "height": 318
        },
        "id": "MLJXeRm7W0zA",
        "outputId": "79792d08-c917-41d1-9d19-bb7ddfd34e2f"
      },
      "source": [
        "plt.imshow(Image.fromarray(x_val_org[4]).convert('RGB'))\n",
        "print('Пример картинки')\n",
        "plt.show()\n",
        "print('Распознанное значение цифры ',np.argmax(predict[4]))\n",
        "print('Истинное значение цифры ',np.argmax(y_val_[4]))"
      ],
      "execution_count": null,
      "outputs": [
        {
          "output_type": "stream",
          "text": [
            "Пример картинки\n"
          ],
          "name": "stdout"
        },
        {
          "output_type": "display_data",
          "data": {
            "image/png": "[encoded data removed]",
            "text/plain": [
              "<Figure size 432x288 with 1 Axes>"
            ]
          },
          "metadata": {
            "tags": [],
            "needs_background": "light"
          }
        },
        {
          "output_type": "stream",
          "text": [
            "Распознанное значение цифры  3\n",
            "Истинное значение цифры  5\n"
          ],
          "name": "stdout"
        }
      ]
    },
    {
      "cell_type": "markdown",
      "metadata": {
        "id": "1TjbqBJ9XU5c"
      },
      "source": [
        "Сети не хватает данных, чтобы верно распознать соответствующую цифру из-за меленькоц базы данных"
      ]
    },
    {
      "cell_type": "markdown",
      "metadata": {
        "id": "NnuPdbW8TJov"
      },
      "source": [
        "обучающая выборка 500 примеров -  проверочная выборка 59.500 примеров\n",
        "\n",
        "accuracy = 100% val_accuracy = 84.53%"
      ]
    },
    {
      "cell_type": "markdown",
      "metadata": {
        "id": "rwrGGcPrTtUO"
      },
      "source": [
        "Выводы:\n",
        "\n",
        "даже при маленькой обучающей выборке - точность на выходе сети неплохая 84.76%, но в обучающей выборке не хватает примеров, поэтому на проверочной существуют такие примеры, которой сети не удается распознать верно\n",
        "\n",
        "в итоге - обучающая выборка должна быть больше проверочной, чтобы выделить максимально много признаков\n"
      ]
    },
    {
      "cell_type": "markdown",
      "metadata": {
        "id": "J-uqy8aMX41a"
      },
      "source": [
        "## 2. Создайте еще два варианта сети и сравните значения точности на проверочной выборке (на последней эпохе) и на тестовой выборке. "
      ]
    },
    {
      "cell_type": "code",
      "metadata": {
        "colab": {
          "base_uri": "https://localhost:8080/"
        },
        "id": "hzKcLKfiX5uW",
        "outputId": "1d0c7190-9dc3-496b-c5d3-35cab5871efe"
      },
      "source": [
        "model_1 = Sequential()\n",
        "model_1.add(Dense(128, input_dim = x_train.shape[1], activation='relu'))\n",
        "model_1.add(Dense(256, activation='relu'))\n",
        "model_1.add(Dense(128, activation='relu'))\n",
        "model_1.add(Dense(10, activation='softmax'))\n",
        "\n",
        "model_1.compile(loss='categorical_crossentropy', optimizer='Adam', metrics=['accuracy'])\n",
        "\n",
        "model_1.fit(x_train,y_train,\n",
        "            epochs=20,\n",
        "            batch_size = 128,\n",
        "            validation_split=0.2,\n",
        "            verbose=1)"
      ],
      "execution_count": null,
      "outputs": [
        {
          "output_type": "stream",
          "text": [
            "Epoch 1/20\n",
            "375/375 [==============================] - 2s 4ms/step - loss: 0.6216 - accuracy: 0.8149 - val_loss: 0.1505 - val_accuracy: 0.9552\n",
            "Epoch 2/20\n",
            "375/375 [==============================] - 1s 3ms/step - loss: 0.1241 - accuracy: 0.9617 - val_loss: 0.1110 - val_accuracy: 0.9661\n",
            "Epoch 3/20\n",
            "375/375 [==============================] - 1s 3ms/step - loss: 0.0833 - accuracy: 0.9748 - val_loss: 0.0959 - val_accuracy: 0.9712\n",
            "Epoch 4/20\n",
            "375/375 [==============================] - 1s 3ms/step - loss: 0.0607 - accuracy: 0.9813 - val_loss: 0.0966 - val_accuracy: 0.9718\n",
            "Epoch 5/20\n",
            "375/375 [==============================] - 1s 3ms/step - loss: 0.0388 - accuracy: 0.9884 - val_loss: 0.0958 - val_accuracy: 0.9717\n",
            "Epoch 6/20\n",
            "375/375 [==============================] - 1s 4ms/step - loss: 0.0368 - accuracy: 0.9884 - val_loss: 0.0962 - val_accuracy: 0.9724\n",
            "Epoch 7/20\n",
            "375/375 [==============================] - 1s 4ms/step - loss: 0.0248 - accuracy: 0.9923 - val_loss: 0.0985 - val_accuracy: 0.9740\n",
            "Epoch 8/20\n",
            "375/375 [==============================] - 1s 3ms/step - loss: 0.0251 - accuracy: 0.9913 - val_loss: 0.1208 - val_accuracy: 0.9701\n",
            "Epoch 9/20\n",
            "375/375 [==============================] - 1s 4ms/step - loss: 0.0202 - accuracy: 0.9939 - val_loss: 0.1047 - val_accuracy: 0.9732\n",
            "Epoch 10/20\n",
            "375/375 [==============================] - 1s 3ms/step - loss: 0.0148 - accuracy: 0.9955 - val_loss: 0.1144 - val_accuracy: 0.9741\n",
            "Epoch 11/20\n",
            "375/375 [==============================] - 1s 4ms/step - loss: 0.0166 - accuracy: 0.9945 - val_loss: 0.1027 - val_accuracy: 0.9761\n",
            "Epoch 12/20\n",
            "375/375 [==============================] - 1s 4ms/step - loss: 0.0129 - accuracy: 0.9954 - val_loss: 0.1018 - val_accuracy: 0.9778\n",
            "Epoch 13/20\n",
            "375/375 [==============================] - 1s 4ms/step - loss: 0.0126 - accuracy: 0.9956 - val_loss: 0.1122 - val_accuracy: 0.9761\n",
            "Epoch 14/20\n",
            "375/375 [==============================] - 1s 4ms/step - loss: 0.0173 - accuracy: 0.9940 - val_loss: 0.1181 - val_accuracy: 0.9749\n",
            "Epoch 15/20\n",
            "375/375 [==============================] - 1s 4ms/step - loss: 0.0117 - accuracy: 0.9963 - val_loss: 0.1102 - val_accuracy: 0.9776\n",
            "Epoch 16/20\n",
            "375/375 [==============================] - 1s 3ms/step - loss: 0.0075 - accuracy: 0.9975 - val_loss: 0.1039 - val_accuracy: 0.9772\n",
            "Epoch 17/20\n",
            "375/375 [==============================] - 1s 3ms/step - loss: 0.0143 - accuracy: 0.9958 - val_loss: 0.1151 - val_accuracy: 0.9769\n",
            "Epoch 18/20\n",
            "375/375 [==============================] - 1s 4ms/step - loss: 0.0098 - accuracy: 0.9967 - val_loss: 0.1270 - val_accuracy: 0.9747\n",
            "Epoch 19/20\n",
            "375/375 [==============================] - 1s 4ms/step - loss: 0.0066 - accuracy: 0.9981 - val_loss: 0.1141 - val_accuracy: 0.9775\n",
            "Epoch 20/20\n",
            "375/375 [==============================] - 1s 4ms/step - loss: 0.0101 - accuracy: 0.9964 - val_loss: 0.1247 - val_accuracy: 0.9762\n"
          ],
          "name": "stdout"
        },
        {
          "output_type": "execute_result",
          "data": {
            "text/plain": [
              "<tensorflow.python.keras.callbacks.History at 0x7fae2e62c2d0>"
            ]
          },
          "metadata": {
            "tags": []
          },
          "execution_count": 29
        }
      ]
    },
    {
      "cell_type": "code",
      "metadata": {
        "colab": {
          "base_uri": "https://localhost:8080/"
        },
        "id": "vYfgzWmjZjoX",
        "outputId": "aa4a6083-22e9-479b-d4c7-1f05daa44fe5"
      },
      "source": [
        "model_2 = Sequential()\n",
        "model_2.add(Dense(10, input_dim = x_train.shape[1], activation='relu'))\n",
        "model_2.add(Dense(10, activation='relu'))\n",
        "model_2.add(Dense(10, activation='relu'))\n",
        "model_2.add(Dense(10, activation='relu'))\n",
        "model_2.add(Dense(10, activation='relu'))\n",
        "model_2.add(Dense(10, activation='relu'))\n",
        "model_2.add(Dense(10, activation='relu'))\n",
        "model_2.add(Dense(10, activation='softmax'))\n",
        "\n",
        "model_2.compile(loss='categorical_crossentropy', optimizer='Adam', metrics=['accuracy'])\n",
        "\n",
        "model_2.fit(x_train,y_train,\n",
        "            epochs=20,\n",
        "            batch_size = 128,\n",
        "            validation_split=0.2,\n",
        "            verbose=1)"
      ],
      "execution_count": null,
      "outputs": [
        {
          "output_type": "stream",
          "text": [
            "Epoch 1/20\n",
            "375/375 [==============================] - 2s 4ms/step - loss: 1.8759 - accuracy: 0.2849 - val_loss: 0.7300 - val_accuracy: 0.7595\n",
            "Epoch 2/20\n",
            "375/375 [==============================] - 1s 3ms/step - loss: 0.6900 - accuracy: 0.7810 - val_loss: 0.5051 - val_accuracy: 0.8493\n",
            "Epoch 3/20\n",
            "375/375 [==============================] - 1s 3ms/step - loss: 0.5129 - accuracy: 0.8444 - val_loss: 0.4177 - val_accuracy: 0.8743\n",
            "Epoch 4/20\n",
            "375/375 [==============================] - 1s 3ms/step - loss: 0.4274 - accuracy: 0.8718 - val_loss: 0.3777 - val_accuracy: 0.8852\n",
            "Epoch 5/20\n",
            "375/375 [==============================] - 1s 3ms/step - loss: 0.3659 - accuracy: 0.8930 - val_loss: 0.3277 - val_accuracy: 0.9056\n",
            "Epoch 6/20\n",
            "375/375 [==============================] - 1s 3ms/step - loss: 0.3229 - accuracy: 0.9075 - val_loss: 0.3070 - val_accuracy: 0.9116\n",
            "Epoch 7/20\n",
            "375/375 [==============================] - 1s 3ms/step - loss: 0.3017 - accuracy: 0.9134 - val_loss: 0.2976 - val_accuracy: 0.9128\n",
            "Epoch 8/20\n",
            "375/375 [==============================] - 1s 3ms/step - loss: 0.2764 - accuracy: 0.9177 - val_loss: 0.2841 - val_accuracy: 0.9163\n",
            "Epoch 9/20\n",
            "375/375 [==============================] - 1s 3ms/step - loss: 0.2626 - accuracy: 0.9211 - val_loss: 0.2702 - val_accuracy: 0.9216\n",
            "Epoch 10/20\n",
            "375/375 [==============================] - 1s 3ms/step - loss: 0.2547 - accuracy: 0.9236 - val_loss: 0.2733 - val_accuracy: 0.9198\n",
            "Epoch 11/20\n",
            "375/375 [==============================] - 1s 3ms/step - loss: 0.2391 - accuracy: 0.9296 - val_loss: 0.2635 - val_accuracy: 0.9226\n",
            "Epoch 12/20\n",
            "375/375 [==============================] - 1s 3ms/step - loss: 0.2438 - accuracy: 0.9279 - val_loss: 0.2552 - val_accuracy: 0.9257\n",
            "Epoch 13/20\n",
            "375/375 [==============================] - 1s 3ms/step - loss: 0.2302 - accuracy: 0.9322 - val_loss: 0.2697 - val_accuracy: 0.9206\n",
            "Epoch 14/20\n",
            "375/375 [==============================] - 1s 3ms/step - loss: 0.2221 - accuracy: 0.9353 - val_loss: 0.2537 - val_accuracy: 0.9252\n",
            "Epoch 15/20\n",
            "375/375 [==============================] - 1s 3ms/step - loss: 0.2228 - accuracy: 0.9338 - val_loss: 0.2646 - val_accuracy: 0.9239\n",
            "Epoch 16/20\n",
            "375/375 [==============================] - 1s 3ms/step - loss: 0.2236 - accuracy: 0.9351 - val_loss: 0.2638 - val_accuracy: 0.9262\n",
            "Epoch 17/20\n",
            "375/375 [==============================] - 1s 3ms/step - loss: 0.2121 - accuracy: 0.9363 - val_loss: 0.2626 - val_accuracy: 0.9258\n",
            "Epoch 18/20\n",
            "375/375 [==============================] - 1s 3ms/step - loss: 0.2115 - accuracy: 0.9367 - val_loss: 0.2473 - val_accuracy: 0.9295\n",
            "Epoch 19/20\n",
            "375/375 [==============================] - 1s 3ms/step - loss: 0.2086 - accuracy: 0.9385 - val_loss: 0.2501 - val_accuracy: 0.9282\n",
            "Epoch 20/20\n",
            "375/375 [==============================] - 1s 3ms/step - loss: 0.2137 - accuracy: 0.9358 - val_loss: 0.2551 - val_accuracy: 0.9283\n"
          ],
          "name": "stdout"
        },
        {
          "output_type": "execute_result",
          "data": {
            "text/plain": [
              "<tensorflow.python.keras.callbacks.History at 0x7fae1f63e290>"
            ]
          },
          "metadata": {
            "tags": []
          },
          "execution_count": 32
        }
      ]
    },
    {
      "cell_type": "markdown",
      "metadata": {
        "id": "uQJgxPx5Zvxg"
      },
      "source": [
        "маленького количества нейронов в слоях не достаточно, для выдления всех признаков"
      ]
    },
    {
      "cell_type": "markdown",
      "metadata": {
        "id": "mlTdEYxAZ0ZD"
      },
      "source": [
        "## 3. Создайте сеть следующей архитектуры:\n",
        "\n",
        "* 4 Dense слоя\n",
        "* 3 Dropout слоя\n",
        "* 3 BatchNormalization слоя\n"
      ]
    },
    {
      "cell_type": "code",
      "metadata": {
        "colab": {
          "base_uri": "https://localhost:8080/"
        },
        "id": "r52-jr89Z4rA",
        "outputId": "a5f82df5-25ae-47d3-ecce-1885bf8dd6c9"
      },
      "source": [
        "model = Sequential()\n",
        "model.add(BatchNormalization(input_dim=x_train.shape[1]))\n",
        "model.add(Dense(512, activation='relu'))\n",
        "model.add(Dropout(0.2))\n",
        "model.add(BatchNormalization())\n",
        "model.add(Dense(256, activation='relu'))\n",
        "model.add(Dropout(0.2))\n",
        "model.add(BatchNormalization())\n",
        "model.add(Dense(128, activation='relu'))\n",
        "model.add(Dropout(0.2))\n",
        "model.add(Dense(10, activation='softmax'))\n",
        "\n",
        "model.compile(loss='categorical_crossentropy', optimizer='Adam', metrics=['accuracy'])\n",
        "\n",
        "model.fit(x_train, y_train,\n",
        "          epochs=20,\n",
        "          batch_size=128,\n",
        "          validation_split=0.2,\n",
        "          verbose=1)"
      ],
      "execution_count": null,
      "outputs": [
        {
          "output_type": "stream",
          "text": [
            "Epoch 1/20\n",
            "375/375 [==============================] - 2s 5ms/step - loss: 0.5511 - accuracy: 0.8268 - val_loss: 0.1188 - val_accuracy: 0.9640\n",
            "Epoch 2/20\n",
            "375/375 [==============================] - 2s 4ms/step - loss: 0.1466 - accuracy: 0.9555 - val_loss: 0.0936 - val_accuracy: 0.9725\n",
            "Epoch 3/20\n",
            "375/375 [==============================] - 2s 4ms/step - loss: 0.0921 - accuracy: 0.9717 - val_loss: 0.0939 - val_accuracy: 0.9721\n",
            "Epoch 4/20\n",
            "375/375 [==============================] - 2s 4ms/step - loss: 0.0768 - accuracy: 0.9753 - val_loss: 0.0840 - val_accuracy: 0.9765\n",
            "Epoch 5/20\n",
            "375/375 [==============================] - 2s 4ms/step - loss: 0.0611 - accuracy: 0.9796 - val_loss: 0.0865 - val_accuracy: 0.9757\n",
            "Epoch 6/20\n",
            "375/375 [==============================] - 2s 4ms/step - loss: 0.0538 - accuracy: 0.9825 - val_loss: 0.0780 - val_accuracy: 0.9779\n",
            "Epoch 7/20\n",
            "375/375 [==============================] - 2s 4ms/step - loss: 0.0492 - accuracy: 0.9835 - val_loss: 0.0882 - val_accuracy: 0.9772\n",
            "Epoch 8/20\n",
            "375/375 [==============================] - 2s 4ms/step - loss: 0.0435 - accuracy: 0.9858 - val_loss: 0.0890 - val_accuracy: 0.9772\n",
            "Epoch 9/20\n",
            "375/375 [==============================] - 2s 4ms/step - loss: 0.0417 - accuracy: 0.9861 - val_loss: 0.0793 - val_accuracy: 0.9797\n",
            "Epoch 10/20\n",
            "375/375 [==============================] - 2s 5ms/step - loss: 0.0346 - accuracy: 0.9894 - val_loss: 0.0826 - val_accuracy: 0.9803\n",
            "Epoch 11/20\n",
            "375/375 [==============================] - 2s 4ms/step - loss: 0.0335 - accuracy: 0.9890 - val_loss: 0.0872 - val_accuracy: 0.9798\n",
            "Epoch 12/20\n",
            "375/375 [==============================] - 2s 4ms/step - loss: 0.0305 - accuracy: 0.9896 - val_loss: 0.0792 - val_accuracy: 0.9806\n",
            "Epoch 13/20\n",
            "375/375 [==============================] - 2s 4ms/step - loss: 0.0277 - accuracy: 0.9912 - val_loss: 0.0855 - val_accuracy: 0.9808\n",
            "Epoch 14/20\n",
            "375/375 [==============================] - 2s 4ms/step - loss: 0.0269 - accuracy: 0.9912 - val_loss: 0.0922 - val_accuracy: 0.9803\n",
            "Epoch 15/20\n",
            "375/375 [==============================] - 2s 4ms/step - loss: 0.0291 - accuracy: 0.9906 - val_loss: 0.0797 - val_accuracy: 0.9817\n",
            "Epoch 16/20\n",
            "375/375 [==============================] - 2s 4ms/step - loss: 0.0262 - accuracy: 0.9913 - val_loss: 0.0843 - val_accuracy: 0.9804\n",
            "Epoch 17/20\n",
            "375/375 [==============================] - 2s 4ms/step - loss: 0.0222 - accuracy: 0.9925 - val_loss: 0.0946 - val_accuracy: 0.9801\n",
            "Epoch 18/20\n",
            "375/375 [==============================] - 2s 4ms/step - loss: 0.0238 - accuracy: 0.9925 - val_loss: 0.0920 - val_accuracy: 0.9808\n",
            "Epoch 19/20\n",
            "375/375 [==============================] - 2s 4ms/step - loss: 0.0209 - accuracy: 0.9933 - val_loss: 0.0832 - val_accuracy: 0.9824\n",
            "Epoch 20/20\n",
            "375/375 [==============================] - 2s 4ms/step - loss: 0.0203 - accuracy: 0.9934 - val_loss: 0.0861 - val_accuracy: 0.9818\n"
          ],
          "name": "stdout"
        },
        {
          "output_type": "execute_result",
          "data": {
            "text/plain": [
              "<tensorflow.python.keras.callbacks.History at 0x7fae1fbe1210>"
            ]
          },
          "metadata": {
            "tags": []
          },
          "execution_count": 36
        }
      ]
    },
    {
      "cell_type": "markdown",
      "metadata": {
        "id": "DBfXeH-gbI1e"
      },
      "source": [
        "Получили хорошую точность на проверочной выборке. "
      ]
    },
    {
      "cell_type": "markdown",
      "metadata": {
        "id": "ok2DN4eIbWtJ"
      },
      "source": [
        "#Задание Pro\n",
        "\n",
        "\n",
        "Повысьте точность модели по обнаружению мин до 90 % на тестовой выборке. \n",
        "\n",
        "Можно использовать различные варианты слоев Dropout и BatchNormalization. Можно менять количество примеров в обучающей и проверочной выборках, но нельзя менять количество примеров в тестовой."
      ]
    },
    {
      "cell_type": "code",
      "metadata": {
        "colab": {
          "base_uri": "https://localhost:8080/"
        },
        "id": "AZiEtd1Sbazp",
        "outputId": "2ad10725-e715-4107-9080-c638822d5dfe"
      },
      "source": [
        "# загрузим диск\n",
        "from google.colab import drive\n",
        "drive.mount('/content/drive')"
      ],
      "execution_count": null,
      "outputs": [
        {
          "output_type": "stream",
          "text": [
            "Go to this URL in a browser: https://accounts.google.com/o/oauth2/auth?client_id=947318989803-6bn6qk8qdgf4n4g3pfee6491hc0brc4i.apps.googleusercontent.com&redirect_uri=urn%3aietf%3awg%3aoauth%3a2.0%3aoob&scope=email%20https%3a%2f%2fwww.googleapis.com%2fauth%2fdocs.test%20https%3a%2f%2fwww.googleapis.com%2fauth%2fdrive%20https%3a%2f%2fwww.googleapis.com%2fauth%2fdrive.photos.readonly%20https%3a%2f%2fwww.googleapis.com%2fauth%2fpeopleapi.readonly%20https%3a%2f%2fwww.googleapis.com%2fauth%2fdrive.activity.readonly%20https%3a%2f%2fwww.googleapis.com%2fauth%2fphotos.native&response_type=code\n",
            "\n",
            "Enter your authorization code:\n",
            "4/1AY0e-g60Q6epzLjOoA7rIZKK00IibeAi60eonsevFr_1Oi2oXlvGqqyZwUE\n",
            "Mounted at /content/drive\n"
          ],
          "name": "stdout"
        }
      ]
    },
    {
      "cell_type": "code",
      "metadata": {
        "colab": {
          "base_uri": "https://localhost:8080/"
        },
        "id": "Nv58gYtUdvLy",
        "outputId": "6484caac-9723-4560-a4e1-50c93925bf0a"
      },
      "source": [
        "# разархивируем архив с данными\n",
        "!unrar x \"/content/drive/MyDrive/base2.rar\""
      ],
      "execution_count": null,
      "outputs": [
        {
          "output_type": "stream",
          "text": [
            "\n",
            "UNRAR 5.50 freeware      Copyright (c) 1993-2017 Alexander Roshal\n",
            "\n",
            "\n",
            "Extracting from /content/drive/MyDrive/base2.rar\n",
            "\n",
            "Extracting  sonar.csv                                                    \b\b\b\b  3%\b\b\b\b\b  OK \n",
            "Extracting  cars_new.csv                                                 \b\b\b\b 99%\b\b\b\b\b  OK \n",
            "All OK\n"
          ],
          "name": "stdout"
        }
      ]
    },
    {
      "cell_type": "code",
      "metadata": {
        "colab": {
          "base_uri": "https://localhost:8080/",
          "height": 214
        },
        "id": "RUwU3ybjeA9i",
        "outputId": "d64ad499-cee5-411f-a9d4-7cf348910c39"
      },
      "source": [
        "# загружаем данные по минам из файла\n",
        "df = pd.read_csv(\"sonar.csv\", header=None)  \n",
        "df.head()"
      ],
      "execution_count": null,
      "outputs": [
        {
          "output_type": "execute_result",
          "data": {
            "text/html": [
              "<div>\n",
              "<style scoped>\n",
              "    .dataframe tbody tr th:only-of-type {\n",
              "        vertical-align: middle;\n",
              "    }\n",
              "\n",
              "    .dataframe tbody tr th {\n",
              "        vertical-align: top;\n",
              "    }\n",
              "\n",
              "    .dataframe thead th {\n",
              "        text-align: right;\n",
              "    }\n",
              "</style>\n",
              "<table border=\"1\" class=\"dataframe\">\n",
              "  <thead>\n",
              "    <tr style=\"text-align: right;\">\n",
              "      <th></th>\n",
              "      <th>0</th>\n",
              "      <th>1</th>\n",
              "      <th>2</th>\n",
              "      <th>3</th>\n",
              "      <th>4</th>\n",
              "      <th>5</th>\n",
              "      <th>6</th>\n",
              "      <th>7</th>\n",
              "      <th>8</th>\n",
              "      <th>9</th>\n",
              "      <th>10</th>\n",
              "      <th>11</th>\n",
              "      <th>12</th>\n",
              "      <th>13</th>\n",
              "      <th>14</th>\n",
              "      <th>15</th>\n",
              "      <th>16</th>\n",
              "      <th>17</th>\n",
              "      <th>18</th>\n",
              "      <th>19</th>\n",
              "      <th>20</th>\n",
              "      <th>21</th>\n",
              "      <th>22</th>\n",
              "      <th>23</th>\n",
              "      <th>24</th>\n",
              "      <th>25</th>\n",
              "      <th>26</th>\n",
              "      <th>27</th>\n",
              "      <th>28</th>\n",
              "      <th>29</th>\n",
              "      <th>30</th>\n",
              "      <th>31</th>\n",
              "      <th>32</th>\n",
              "      <th>33</th>\n",
              "      <th>34</th>\n",
              "      <th>35</th>\n",
              "      <th>36</th>\n",
              "      <th>37</th>\n",
              "      <th>38</th>\n",
              "      <th>39</th>\n",
              "      <th>40</th>\n",
              "      <th>41</th>\n",
              "      <th>42</th>\n",
              "      <th>43</th>\n",
              "      <th>44</th>\n",
              "      <th>45</th>\n",
              "      <th>46</th>\n",
              "      <th>47</th>\n",
              "      <th>48</th>\n",
              "      <th>49</th>\n",
              "      <th>50</th>\n",
              "      <th>51</th>\n",
              "      <th>52</th>\n",
              "      <th>53</th>\n",
              "      <th>54</th>\n",
              "      <th>55</th>\n",
              "      <th>56</th>\n",
              "      <th>57</th>\n",
              "      <th>58</th>\n",
              "      <th>59</th>\n",
              "      <th>60</th>\n",
              "    </tr>\n",
              "  </thead>\n",
              "  <tbody>\n",
              "    <tr>\n",
              "      <th>0</th>\n",
              "      <td>0.0200</td>\n",
              "      <td>0.0371</td>\n",
              "      <td>0.0428</td>\n",
              "      <td>0.0207</td>\n",
              "      <td>0.0954</td>\n",
              "      <td>0.0986</td>\n",
              "      <td>0.1539</td>\n",
              "      <td>0.1601</td>\n",
              "      <td>0.3109</td>\n",
              "      <td>0.2111</td>\n",
              "      <td>0.1609</td>\n",
              "      <td>0.1582</td>\n",
              "      <td>0.2238</td>\n",
              "      <td>0.0645</td>\n",
              "      <td>0.0660</td>\n",
              "      <td>0.2273</td>\n",
              "      <td>0.3100</td>\n",
              "      <td>0.2999</td>\n",
              "      <td>0.5078</td>\n",
              "      <td>0.4797</td>\n",
              "      <td>0.5783</td>\n",
              "      <td>0.5071</td>\n",
              "      <td>0.4328</td>\n",
              "      <td>0.5550</td>\n",
              "      <td>0.6711</td>\n",
              "      <td>0.6415</td>\n",
              "      <td>0.7104</td>\n",
              "      <td>0.8080</td>\n",
              "      <td>0.6791</td>\n",
              "      <td>0.3857</td>\n",
              "      <td>0.1307</td>\n",
              "      <td>0.2604</td>\n",
              "      <td>0.5121</td>\n",
              "      <td>0.7547</td>\n",
              "      <td>0.8537</td>\n",
              "      <td>0.8507</td>\n",
              "      <td>0.6692</td>\n",
              "      <td>0.6097</td>\n",
              "      <td>0.4943</td>\n",
              "      <td>0.2744</td>\n",
              "      <td>0.0510</td>\n",
              "      <td>0.2834</td>\n",
              "      <td>0.2825</td>\n",
              "      <td>0.4256</td>\n",
              "      <td>0.2641</td>\n",
              "      <td>0.1386</td>\n",
              "      <td>0.1051</td>\n",
              "      <td>0.1343</td>\n",
              "      <td>0.0383</td>\n",
              "      <td>0.0324</td>\n",
              "      <td>0.0232</td>\n",
              "      <td>0.0027</td>\n",
              "      <td>0.0065</td>\n",
              "      <td>0.0159</td>\n",
              "      <td>0.0072</td>\n",
              "      <td>0.0167</td>\n",
              "      <td>0.0180</td>\n",
              "      <td>0.0084</td>\n",
              "      <td>0.0090</td>\n",
              "      <td>0.0032</td>\n",
              "      <td>R</td>\n",
              "    </tr>\n",
              "    <tr>\n",
              "      <th>1</th>\n",
              "      <td>0.0453</td>\n",
              "      <td>0.0523</td>\n",
              "      <td>0.0843</td>\n",
              "      <td>0.0689</td>\n",
              "      <td>0.1183</td>\n",
              "      <td>0.2583</td>\n",
              "      <td>0.2156</td>\n",
              "      <td>0.3481</td>\n",
              "      <td>0.3337</td>\n",
              "      <td>0.2872</td>\n",
              "      <td>0.4918</td>\n",
              "      <td>0.6552</td>\n",
              "      <td>0.6919</td>\n",
              "      <td>0.7797</td>\n",
              "      <td>0.7464</td>\n",
              "      <td>0.9444</td>\n",
              "      <td>1.0000</td>\n",
              "      <td>0.8874</td>\n",
              "      <td>0.8024</td>\n",
              "      <td>0.7818</td>\n",
              "      <td>0.5212</td>\n",
              "      <td>0.4052</td>\n",
              "      <td>0.3957</td>\n",
              "      <td>0.3914</td>\n",
              "      <td>0.3250</td>\n",
              "      <td>0.3200</td>\n",
              "      <td>0.3271</td>\n",
              "      <td>0.2767</td>\n",
              "      <td>0.4423</td>\n",
              "      <td>0.2028</td>\n",
              "      <td>0.3788</td>\n",
              "      <td>0.2947</td>\n",
              "      <td>0.1984</td>\n",
              "      <td>0.2341</td>\n",
              "      <td>0.1306</td>\n",
              "      <td>0.4182</td>\n",
              "      <td>0.3835</td>\n",
              "      <td>0.1057</td>\n",
              "      <td>0.1840</td>\n",
              "      <td>0.1970</td>\n",
              "      <td>0.1674</td>\n",
              "      <td>0.0583</td>\n",
              "      <td>0.1401</td>\n",
              "      <td>0.1628</td>\n",
              "      <td>0.0621</td>\n",
              "      <td>0.0203</td>\n",
              "      <td>0.0530</td>\n",
              "      <td>0.0742</td>\n",
              "      <td>0.0409</td>\n",
              "      <td>0.0061</td>\n",
              "      <td>0.0125</td>\n",
              "      <td>0.0084</td>\n",
              "      <td>0.0089</td>\n",
              "      <td>0.0048</td>\n",
              "      <td>0.0094</td>\n",
              "      <td>0.0191</td>\n",
              "      <td>0.0140</td>\n",
              "      <td>0.0049</td>\n",
              "      <td>0.0052</td>\n",
              "      <td>0.0044</td>\n",
              "      <td>R</td>\n",
              "    </tr>\n",
              "    <tr>\n",
              "      <th>2</th>\n",
              "      <td>0.0262</td>\n",
              "      <td>0.0582</td>\n",
              "      <td>0.1099</td>\n",
              "      <td>0.1083</td>\n",
              "      <td>0.0974</td>\n",
              "      <td>0.2280</td>\n",
              "      <td>0.2431</td>\n",
              "      <td>0.3771</td>\n",
              "      <td>0.5598</td>\n",
              "      <td>0.6194</td>\n",
              "      <td>0.6333</td>\n",
              "      <td>0.7060</td>\n",
              "      <td>0.5544</td>\n",
              "      <td>0.5320</td>\n",
              "      <td>0.6479</td>\n",
              "      <td>0.6931</td>\n",
              "      <td>0.6759</td>\n",
              "      <td>0.7551</td>\n",
              "      <td>0.8929</td>\n",
              "      <td>0.8619</td>\n",
              "      <td>0.7974</td>\n",
              "      <td>0.6737</td>\n",
              "      <td>0.4293</td>\n",
              "      <td>0.3648</td>\n",
              "      <td>0.5331</td>\n",
              "      <td>0.2413</td>\n",
              "      <td>0.5070</td>\n",
              "      <td>0.8533</td>\n",
              "      <td>0.6036</td>\n",
              "      <td>0.8514</td>\n",
              "      <td>0.8512</td>\n",
              "      <td>0.5045</td>\n",
              "      <td>0.1862</td>\n",
              "      <td>0.2709</td>\n",
              "      <td>0.4232</td>\n",
              "      <td>0.3043</td>\n",
              "      <td>0.6116</td>\n",
              "      <td>0.6756</td>\n",
              "      <td>0.5375</td>\n",
              "      <td>0.4719</td>\n",
              "      <td>0.4647</td>\n",
              "      <td>0.2587</td>\n",
              "      <td>0.2129</td>\n",
              "      <td>0.2222</td>\n",
              "      <td>0.2111</td>\n",
              "      <td>0.0176</td>\n",
              "      <td>0.1348</td>\n",
              "      <td>0.0744</td>\n",
              "      <td>0.0130</td>\n",
              "      <td>0.0106</td>\n",
              "      <td>0.0033</td>\n",
              "      <td>0.0232</td>\n",
              "      <td>0.0166</td>\n",
              "      <td>0.0095</td>\n",
              "      <td>0.0180</td>\n",
              "      <td>0.0244</td>\n",
              "      <td>0.0316</td>\n",
              "      <td>0.0164</td>\n",
              "      <td>0.0095</td>\n",
              "      <td>0.0078</td>\n",
              "      <td>R</td>\n",
              "    </tr>\n",
              "    <tr>\n",
              "      <th>3</th>\n",
              "      <td>0.0100</td>\n",
              "      <td>0.0171</td>\n",
              "      <td>0.0623</td>\n",
              "      <td>0.0205</td>\n",
              "      <td>0.0205</td>\n",
              "      <td>0.0368</td>\n",
              "      <td>0.1098</td>\n",
              "      <td>0.1276</td>\n",
              "      <td>0.0598</td>\n",
              "      <td>0.1264</td>\n",
              "      <td>0.0881</td>\n",
              "      <td>0.1992</td>\n",
              "      <td>0.0184</td>\n",
              "      <td>0.2261</td>\n",
              "      <td>0.1729</td>\n",
              "      <td>0.2131</td>\n",
              "      <td>0.0693</td>\n",
              "      <td>0.2281</td>\n",
              "      <td>0.4060</td>\n",
              "      <td>0.3973</td>\n",
              "      <td>0.2741</td>\n",
              "      <td>0.3690</td>\n",
              "      <td>0.5556</td>\n",
              "      <td>0.4846</td>\n",
              "      <td>0.3140</td>\n",
              "      <td>0.5334</td>\n",
              "      <td>0.5256</td>\n",
              "      <td>0.2520</td>\n",
              "      <td>0.2090</td>\n",
              "      <td>0.3559</td>\n",
              "      <td>0.6260</td>\n",
              "      <td>0.7340</td>\n",
              "      <td>0.6120</td>\n",
              "      <td>0.3497</td>\n",
              "      <td>0.3953</td>\n",
              "      <td>0.3012</td>\n",
              "      <td>0.5408</td>\n",
              "      <td>0.8814</td>\n",
              "      <td>0.9857</td>\n",
              "      <td>0.9167</td>\n",
              "      <td>0.6121</td>\n",
              "      <td>0.5006</td>\n",
              "      <td>0.3210</td>\n",
              "      <td>0.3202</td>\n",
              "      <td>0.4295</td>\n",
              "      <td>0.3654</td>\n",
              "      <td>0.2655</td>\n",
              "      <td>0.1576</td>\n",
              "      <td>0.0681</td>\n",
              "      <td>0.0294</td>\n",
              "      <td>0.0241</td>\n",
              "      <td>0.0121</td>\n",
              "      <td>0.0036</td>\n",
              "      <td>0.0150</td>\n",
              "      <td>0.0085</td>\n",
              "      <td>0.0073</td>\n",
              "      <td>0.0050</td>\n",
              "      <td>0.0044</td>\n",
              "      <td>0.0040</td>\n",
              "      <td>0.0117</td>\n",
              "      <td>R</td>\n",
              "    </tr>\n",
              "    <tr>\n",
              "      <th>4</th>\n",
              "      <td>0.0762</td>\n",
              "      <td>0.0666</td>\n",
              "      <td>0.0481</td>\n",
              "      <td>0.0394</td>\n",
              "      <td>0.0590</td>\n",
              "      <td>0.0649</td>\n",
              "      <td>0.1209</td>\n",
              "      <td>0.2467</td>\n",
              "      <td>0.3564</td>\n",
              "      <td>0.4459</td>\n",
              "      <td>0.4152</td>\n",
              "      <td>0.3952</td>\n",
              "      <td>0.4256</td>\n",
              "      <td>0.4135</td>\n",
              "      <td>0.4528</td>\n",
              "      <td>0.5326</td>\n",
              "      <td>0.7306</td>\n",
              "      <td>0.6193</td>\n",
              "      <td>0.2032</td>\n",
              "      <td>0.4636</td>\n",
              "      <td>0.4148</td>\n",
              "      <td>0.4292</td>\n",
              "      <td>0.5730</td>\n",
              "      <td>0.5399</td>\n",
              "      <td>0.3161</td>\n",
              "      <td>0.2285</td>\n",
              "      <td>0.6995</td>\n",
              "      <td>1.0000</td>\n",
              "      <td>0.7262</td>\n",
              "      <td>0.4724</td>\n",
              "      <td>0.5103</td>\n",
              "      <td>0.5459</td>\n",
              "      <td>0.2881</td>\n",
              "      <td>0.0981</td>\n",
              "      <td>0.1951</td>\n",
              "      <td>0.4181</td>\n",
              "      <td>0.4604</td>\n",
              "      <td>0.3217</td>\n",
              "      <td>0.2828</td>\n",
              "      <td>0.2430</td>\n",
              "      <td>0.1979</td>\n",
              "      <td>0.2444</td>\n",
              "      <td>0.1847</td>\n",
              "      <td>0.0841</td>\n",
              "      <td>0.0692</td>\n",
              "      <td>0.0528</td>\n",
              "      <td>0.0357</td>\n",
              "      <td>0.0085</td>\n",
              "      <td>0.0230</td>\n",
              "      <td>0.0046</td>\n",
              "      <td>0.0156</td>\n",
              "      <td>0.0031</td>\n",
              "      <td>0.0054</td>\n",
              "      <td>0.0105</td>\n",
              "      <td>0.0110</td>\n",
              "      <td>0.0015</td>\n",
              "      <td>0.0072</td>\n",
              "      <td>0.0048</td>\n",
              "      <td>0.0107</td>\n",
              "      <td>0.0094</td>\n",
              "      <td>R</td>\n",
              "    </tr>\n",
              "  </tbody>\n",
              "</table>\n",
              "</div>"
            ],
            "text/plain": [
              "       0       1       2       3       4   ...      56      57      58      59  60\n",
              "0  0.0200  0.0371  0.0428  0.0207  0.0954  ...  0.0180  0.0084  0.0090  0.0032   R\n",
              "1  0.0453  0.0523  0.0843  0.0689  0.1183  ...  0.0140  0.0049  0.0052  0.0044   R\n",
              "2  0.0262  0.0582  0.1099  0.1083  0.0974  ...  0.0316  0.0164  0.0095  0.0078   R\n",
              "3  0.0100  0.0171  0.0623  0.0205  0.0205  ...  0.0050  0.0044  0.0040  0.0117   R\n",
              "4  0.0762  0.0666  0.0481  0.0394  0.0590  ...  0.0072  0.0048  0.0107  0.0094   R\n",
              "\n",
              "[5 rows x 61 columns]"
            ]
          },
          "metadata": {
            "tags": []
          },
          "execution_count": 69
        }
      ]
    },
    {
      "cell_type": "code",
      "metadata": {
        "colab": {
          "base_uri": "https://localhost:8080/"
        },
        "id": "Ln0YdMAYfcNP",
        "outputId": "1045d94c-7123-4d40-f03f-443da7c11961"
      },
      "source": [
        "dataset = df.values                 \n",
        "X = dataset[:,0:60].astype(float)   \n",
        "Y = dataset[:,60]     \n",
        "# нет мины - '0'              \n",
        "Y[Y=='R']='0'      \n",
        "# есть мина - '1'             \n",
        "Y[Y=='M']='1'                       \n",
        "Y = Y.astype(int)                   \n",
        "print(X.shape)                      \n",
        "print(Y.shape)                      \n",
        "print(Y)                            "
      ],
      "execution_count": null,
      "outputs": [
        {
          "output_type": "stream",
          "text": [
            "(208, 60)\n",
            "(208,)\n",
            "[0 0 0 0 0 0 0 0 0 0 0 0 0 0 0 0 0 0 0 0 0 0 0 0 0 0 0 0 0 0 0 0 0 0 0 0 0\n",
            " 0 0 0 0 0 0 0 0 0 0 0 0 0 0 0 0 0 0 0 0 0 0 0 0 0 0 0 0 0 0 0 0 0 0 0 0 0\n",
            " 0 0 0 0 0 0 0 0 0 0 0 0 0 0 0 0 0 0 0 0 0 0 0 1 1 1 1 1 1 1 1 1 1 1 1 1 1\n",
            " 1 1 1 1 1 1 1 1 1 1 1 1 1 1 1 1 1 1 1 1 1 1 1 1 1 1 1 1 1 1 1 1 1 1 1 1 1\n",
            " 1 1 1 1 1 1 1 1 1 1 1 1 1 1 1 1 1 1 1 1 1 1 1 1 1 1 1 1 1 1 1 1 1 1 1 1 1\n",
            " 1 1 1 1 1 1 1 1 1 1 1 1 1 1 1 1 1 1 1 1 1 1 1]\n"
          ],
          "name": "stdout"
        }
      ]
    },
    {
      "cell_type": "code",
      "metadata": {
        "colab": {
          "base_uri": "https://localhost:8080/"
        },
        "id": "JpsceHBog-ec",
        "outputId": "27992a55-eed0-44fe-9228-ec06b25bc8a3"
      },
      "source": [
        "# создадим обучающую и проверочную выборки \n",
        "x_train, x_test, y_train, y_test = train_test_split(X,Y,test_size=0.2,shuffle=True) #пермешать данные важно?\n",
        "print (x_train.shape)\n",
        "print (x_test.shape)\n",
        "print (y_train.shape)\n",
        "print (y_test.shape)"
      ],
      "execution_count": null,
      "outputs": [
        {
          "output_type": "stream",
          "text": [
            "(166, 60)\n",
            "(42, 60)\n",
            "(166,)\n",
            "(42,)\n"
          ],
          "name": "stdout"
        }
      ]
    },
    {
      "cell_type": "code",
      "metadata": {
        "colab": {
          "base_uri": "https://localhost:8080/"
        },
        "id": "WhllG2owhU4X",
        "outputId": "acbf94e9-9c5f-46ca-abf0-d1bdb73dc38d"
      },
      "source": [
        "# создадим нейронную сеть \n",
        "model = Sequential()\n",
        "\n",
        "model.add(Dense(64, input_dim=x_train.shape[1],activation='relu'))\n",
        "model.add(Dense(64, activation='relu'))\n",
        "model.add(Dense(32, activation='relu'))\n",
        "model.add(Dense(1, activation='sigmoid'))\n",
        "\n",
        "model.compile(loss='binary_crossentropy', optimizer='Adam', metrics=['accuracy'])\n",
        "\n",
        "history = model.fit(x_train,y_train,\n",
        "                    batch_size=8,\n",
        "                    epochs=100,\n",
        "                    validation_split=0.1,\n",
        "                    verbose=1)"
      ],
      "execution_count": null,
      "outputs": [
        {
          "output_type": "stream",
          "text": [
            "Epoch 1/100\n",
            "19/19 [==============================] - 1s 12ms/step - loss: 0.6804 - accuracy: 0.6095 - val_loss: 0.6129 - val_accuracy: 0.7647\n",
            "Epoch 2/100\n",
            "19/19 [==============================] - 0s 4ms/step - loss: 0.6357 - accuracy: 0.6742 - val_loss: 0.5764 - val_accuracy: 0.8235\n",
            "Epoch 3/100\n",
            "19/19 [==============================] - 0s 5ms/step - loss: 0.6069 - accuracy: 0.6956 - val_loss: 0.5114 - val_accuracy: 0.9412\n",
            "Epoch 4/100\n",
            "19/19 [==============================] - 0s 6ms/step - loss: 0.5680 - accuracy: 0.7455 - val_loss: 0.4430 - val_accuracy: 0.9412\n",
            "Epoch 5/100\n",
            "19/19 [==============================] - 0s 4ms/step - loss: 0.5120 - accuracy: 0.7790 - val_loss: 0.4119 - val_accuracy: 0.8824\n",
            "Epoch 6/100\n",
            "19/19 [==============================] - 0s 4ms/step - loss: 0.4725 - accuracy: 0.7864 - val_loss: 0.3611 - val_accuracy: 0.8824\n",
            "Epoch 7/100\n",
            "19/19 [==============================] - 0s 5ms/step - loss: 0.4013 - accuracy: 0.8559 - val_loss: 0.3755 - val_accuracy: 0.8235\n",
            "Epoch 8/100\n",
            "19/19 [==============================] - 0s 4ms/step - loss: 0.3984 - accuracy: 0.8669 - val_loss: 0.3345 - val_accuracy: 0.8235\n",
            "Epoch 9/100\n",
            "19/19 [==============================] - 0s 4ms/step - loss: 0.3855 - accuracy: 0.8635 - val_loss: 0.3919 - val_accuracy: 0.8235\n",
            "Epoch 10/100\n",
            "19/19 [==============================] - 0s 4ms/step - loss: 0.3381 - accuracy: 0.8988 - val_loss: 0.2792 - val_accuracy: 0.8824\n",
            "Epoch 11/100\n",
            "19/19 [==============================] - 0s 5ms/step - loss: 0.4038 - accuracy: 0.8125 - val_loss: 0.3096 - val_accuracy: 0.8235\n",
            "Epoch 12/100\n",
            "19/19 [==============================] - 0s 4ms/step - loss: 0.3106 - accuracy: 0.8476 - val_loss: 0.2883 - val_accuracy: 0.8824\n",
            "Epoch 13/100\n",
            "19/19 [==============================] - 0s 5ms/step - loss: 0.3003 - accuracy: 0.8702 - val_loss: 0.3171 - val_accuracy: 0.8235\n",
            "Epoch 14/100\n",
            "19/19 [==============================] - 0s 4ms/step - loss: 0.3158 - accuracy: 0.8586 - val_loss: 0.2854 - val_accuracy: 0.8235\n",
            "Epoch 15/100\n",
            "19/19 [==============================] - 0s 5ms/step - loss: 0.2170 - accuracy: 0.9049 - val_loss: 0.3429 - val_accuracy: 0.8235\n",
            "Epoch 16/100\n",
            "19/19 [==============================] - 0s 4ms/step - loss: 0.2709 - accuracy: 0.8448 - val_loss: 0.2877 - val_accuracy: 0.9412\n",
            "Epoch 17/100\n",
            "19/19 [==============================] - 0s 4ms/step - loss: 0.2002 - accuracy: 0.9118 - val_loss: 0.3779 - val_accuracy: 0.8235\n",
            "Epoch 18/100\n",
            "19/19 [==============================] - 0s 4ms/step - loss: 0.3008 - accuracy: 0.8928 - val_loss: 0.3479 - val_accuracy: 0.8235\n",
            "Epoch 19/100\n",
            "19/19 [==============================] - 0s 4ms/step - loss: 0.1566 - accuracy: 0.9359 - val_loss: 0.3607 - val_accuracy: 0.8235\n",
            "Epoch 20/100\n",
            "19/19 [==============================] - 0s 4ms/step - loss: 0.1891 - accuracy: 0.9369 - val_loss: 0.3681 - val_accuracy: 0.8235\n",
            "Epoch 21/100\n",
            "19/19 [==============================] - 0s 4ms/step - loss: 0.1204 - accuracy: 0.9749 - val_loss: 0.4196 - val_accuracy: 0.8235\n",
            "Epoch 22/100\n",
            "19/19 [==============================] - 0s 4ms/step - loss: 0.1534 - accuracy: 0.9452 - val_loss: 0.3529 - val_accuracy: 0.8235\n",
            "Epoch 23/100\n",
            "19/19 [==============================] - 0s 4ms/step - loss: 0.1636 - accuracy: 0.9456 - val_loss: 0.3535 - val_accuracy: 0.8824\n",
            "Epoch 24/100\n",
            "19/19 [==============================] - 0s 4ms/step - loss: 0.1854 - accuracy: 0.9154 - val_loss: 0.4324 - val_accuracy: 0.8235\n",
            "Epoch 25/100\n",
            "19/19 [==============================] - 0s 5ms/step - loss: 0.1526 - accuracy: 0.9479 - val_loss: 0.4775 - val_accuracy: 0.8235\n",
            "Epoch 26/100\n",
            "19/19 [==============================] - 0s 4ms/step - loss: 0.1246 - accuracy: 0.9683 - val_loss: 0.3916 - val_accuracy: 0.8235\n",
            "Epoch 27/100\n",
            "19/19 [==============================] - 0s 4ms/step - loss: 0.1148 - accuracy: 0.9593 - val_loss: 0.4705 - val_accuracy: 0.8235\n",
            "Epoch 28/100\n",
            "19/19 [==============================] - 0s 5ms/step - loss: 0.1151 - accuracy: 0.9586 - val_loss: 0.5249 - val_accuracy: 0.8235\n",
            "Epoch 29/100\n",
            "19/19 [==============================] - 0s 4ms/step - loss: 0.1063 - accuracy: 0.9722 - val_loss: 0.4200 - val_accuracy: 0.8235\n",
            "Epoch 30/100\n",
            "19/19 [==============================] - 0s 5ms/step - loss: 0.0707 - accuracy: 0.9875 - val_loss: 0.4657 - val_accuracy: 0.8235\n",
            "Epoch 31/100\n",
            "19/19 [==============================] - 0s 4ms/step - loss: 0.0787 - accuracy: 0.9777 - val_loss: 0.5191 - val_accuracy: 0.8235\n",
            "Epoch 32/100\n",
            "19/19 [==============================] - 0s 4ms/step - loss: 0.0743 - accuracy: 0.9758 - val_loss: 0.4603 - val_accuracy: 0.8824\n",
            "Epoch 33/100\n",
            "19/19 [==============================] - 0s 4ms/step - loss: 0.0881 - accuracy: 0.9889 - val_loss: 0.4854 - val_accuracy: 0.8824\n",
            "Epoch 34/100\n",
            "19/19 [==============================] - 0s 5ms/step - loss: 0.0585 - accuracy: 0.9986 - val_loss: 0.5097 - val_accuracy: 0.8235\n",
            "Epoch 35/100\n",
            "19/19 [==============================] - 0s 5ms/step - loss: 0.0421 - accuracy: 1.0000 - val_loss: 0.5186 - val_accuracy: 0.8235\n",
            "Epoch 36/100\n",
            "19/19 [==============================] - 0s 4ms/step - loss: 0.0400 - accuracy: 0.9964 - val_loss: 0.5865 - val_accuracy: 0.8235\n",
            "Epoch 37/100\n",
            "19/19 [==============================] - 0s 4ms/step - loss: 0.0384 - accuracy: 0.9964 - val_loss: 0.6010 - val_accuracy: 0.8235\n",
            "Epoch 38/100\n",
            "19/19 [==============================] - 0s 5ms/step - loss: 0.0340 - accuracy: 1.0000 - val_loss: 0.5572 - val_accuracy: 0.8824\n",
            "Epoch 39/100\n",
            "19/19 [==============================] - 0s 4ms/step - loss: 0.0341 - accuracy: 1.0000 - val_loss: 0.5801 - val_accuracy: 0.8235\n",
            "Epoch 40/100\n",
            "19/19 [==============================] - 0s 4ms/step - loss: 0.0448 - accuracy: 1.0000 - val_loss: 0.6012 - val_accuracy: 0.8235\n",
            "Epoch 41/100\n",
            "19/19 [==============================] - 0s 5ms/step - loss: 0.0203 - accuracy: 1.0000 - val_loss: 0.5600 - val_accuracy: 0.8824\n",
            "Epoch 42/100\n",
            "19/19 [==============================] - 0s 4ms/step - loss: 0.0228 - accuracy: 1.0000 - val_loss: 0.5891 - val_accuracy: 0.8824\n",
            "Epoch 43/100\n",
            "19/19 [==============================] - 0s 4ms/step - loss: 0.0209 - accuracy: 1.0000 - val_loss: 0.6169 - val_accuracy: 0.8235\n",
            "Epoch 44/100\n",
            "19/19 [==============================] - 0s 5ms/step - loss: 0.0173 - accuracy: 1.0000 - val_loss: 0.6259 - val_accuracy: 0.8824\n",
            "Epoch 45/100\n",
            "19/19 [==============================] - 0s 4ms/step - loss: 0.0157 - accuracy: 1.0000 - val_loss: 0.6579 - val_accuracy: 0.8235\n",
            "Epoch 46/100\n",
            "19/19 [==============================] - 0s 5ms/step - loss: 0.0191 - accuracy: 1.0000 - val_loss: 0.6208 - val_accuracy: 0.8824\n",
            "Epoch 47/100\n",
            "19/19 [==============================] - 0s 5ms/step - loss: 0.0212 - accuracy: 1.0000 - val_loss: 0.6578 - val_accuracy: 0.8235\n",
            "Epoch 48/100\n",
            "19/19 [==============================] - 0s 5ms/step - loss: 0.0104 - accuracy: 1.0000 - val_loss: 0.6873 - val_accuracy: 0.8235\n",
            "Epoch 49/100\n",
            "19/19 [==============================] - 0s 4ms/step - loss: 0.0135 - accuracy: 1.0000 - val_loss: 0.6938 - val_accuracy: 0.8235\n",
            "Epoch 50/100\n",
            "19/19 [==============================] - 0s 4ms/step - loss: 0.0100 - accuracy: 1.0000 - val_loss: 0.7056 - val_accuracy: 0.8235\n",
            "Epoch 51/100\n",
            "19/19 [==============================] - 0s 4ms/step - loss: 0.0093 - accuracy: 1.0000 - val_loss: 0.6884 - val_accuracy: 0.8824\n",
            "Epoch 52/100\n",
            "19/19 [==============================] - 0s 5ms/step - loss: 0.0086 - accuracy: 1.0000 - val_loss: 0.7168 - val_accuracy: 0.8235\n",
            "Epoch 53/100\n",
            "19/19 [==============================] - 0s 5ms/step - loss: 0.0083 - accuracy: 1.0000 - val_loss: 0.7249 - val_accuracy: 0.8235\n",
            "Epoch 54/100\n",
            "19/19 [==============================] - 0s 4ms/step - loss: 0.0074 - accuracy: 1.0000 - val_loss: 0.7187 - val_accuracy: 0.8235\n",
            "Epoch 55/100\n",
            "19/19 [==============================] - 0s 5ms/step - loss: 0.0065 - accuracy: 1.0000 - val_loss: 0.7270 - val_accuracy: 0.8235\n",
            "Epoch 56/100\n",
            "19/19 [==============================] - 0s 4ms/step - loss: 0.0043 - accuracy: 1.0000 - val_loss: 0.7668 - val_accuracy: 0.8235\n",
            "Epoch 57/100\n",
            "19/19 [==============================] - 0s 4ms/step - loss: 0.0065 - accuracy: 1.0000 - val_loss: 0.7408 - val_accuracy: 0.8235\n",
            "Epoch 58/100\n",
            "19/19 [==============================] - 0s 5ms/step - loss: 0.0060 - accuracy: 1.0000 - val_loss: 0.7441 - val_accuracy: 0.8235\n",
            "Epoch 59/100\n",
            "19/19 [==============================] - 0s 5ms/step - loss: 0.0059 - accuracy: 1.0000 - val_loss: 0.7817 - val_accuracy: 0.8235\n",
            "Epoch 60/100\n",
            "19/19 [==============================] - 0s 5ms/step - loss: 0.0053 - accuracy: 1.0000 - val_loss: 0.7834 - val_accuracy: 0.8235\n",
            "Epoch 61/100\n",
            "19/19 [==============================] - 0s 4ms/step - loss: 0.0043 - accuracy: 1.0000 - val_loss: 0.7464 - val_accuracy: 0.8824\n",
            "Epoch 62/100\n",
            "19/19 [==============================] - 0s 4ms/step - loss: 0.0053 - accuracy: 1.0000 - val_loss: 0.8279 - val_accuracy: 0.8235\n",
            "Epoch 63/100\n",
            "19/19 [==============================] - 0s 5ms/step - loss: 0.0042 - accuracy: 1.0000 - val_loss: 0.7864 - val_accuracy: 0.8235\n",
            "Epoch 64/100\n",
            "19/19 [==============================] - 0s 5ms/step - loss: 0.0031 - accuracy: 1.0000 - val_loss: 0.8127 - val_accuracy: 0.8235\n",
            "Epoch 65/100\n",
            "19/19 [==============================] - 0s 4ms/step - loss: 0.0039 - accuracy: 1.0000 - val_loss: 0.8186 - val_accuracy: 0.8235\n",
            "Epoch 66/100\n",
            "19/19 [==============================] - 0s 5ms/step - loss: 0.0038 - accuracy: 1.0000 - val_loss: 0.8071 - val_accuracy: 0.8235\n",
            "Epoch 67/100\n",
            "19/19 [==============================] - 0s 5ms/step - loss: 0.0025 - accuracy: 1.0000 - val_loss: 0.8479 - val_accuracy: 0.8235\n",
            "Epoch 68/100\n",
            "19/19 [==============================] - 0s 4ms/step - loss: 0.0028 - accuracy: 1.0000 - val_loss: 0.8247 - val_accuracy: 0.8235\n",
            "Epoch 69/100\n",
            "19/19 [==============================] - 0s 4ms/step - loss: 0.0025 - accuracy: 1.0000 - val_loss: 0.8392 - val_accuracy: 0.8235\n",
            "Epoch 70/100\n",
            "19/19 [==============================] - 0s 5ms/step - loss: 0.0025 - accuracy: 1.0000 - val_loss: 0.8390 - val_accuracy: 0.8235\n",
            "Epoch 71/100\n",
            "19/19 [==============================] - 0s 5ms/step - loss: 0.0023 - accuracy: 1.0000 - val_loss: 0.8425 - val_accuracy: 0.8235\n",
            "Epoch 72/100\n",
            "19/19 [==============================] - 0s 5ms/step - loss: 0.0030 - accuracy: 1.0000 - val_loss: 0.8557 - val_accuracy: 0.8235\n",
            "Epoch 73/100\n",
            "19/19 [==============================] - 0s 4ms/step - loss: 0.0026 - accuracy: 1.0000 - val_loss: 0.8551 - val_accuracy: 0.8235\n",
            "Epoch 74/100\n",
            "19/19 [==============================] - 0s 5ms/step - loss: 0.0025 - accuracy: 1.0000 - val_loss: 0.8697 - val_accuracy: 0.8235\n",
            "Epoch 75/100\n",
            "19/19 [==============================] - 0s 5ms/step - loss: 0.0024 - accuracy: 1.0000 - val_loss: 0.8409 - val_accuracy: 0.8824\n",
            "Epoch 76/100\n",
            "19/19 [==============================] - 0s 4ms/step - loss: 0.0025 - accuracy: 1.0000 - val_loss: 0.8670 - val_accuracy: 0.8235\n",
            "Epoch 77/100\n",
            "19/19 [==============================] - 0s 4ms/step - loss: 0.0015 - accuracy: 1.0000 - val_loss: 0.8930 - val_accuracy: 0.8235\n",
            "Epoch 78/100\n",
            "19/19 [==============================] - 0s 4ms/step - loss: 0.0017 - accuracy: 1.0000 - val_loss: 0.8783 - val_accuracy: 0.8235\n",
            "Epoch 79/100\n",
            "19/19 [==============================] - 0s 5ms/step - loss: 0.0015 - accuracy: 1.0000 - val_loss: 0.8970 - val_accuracy: 0.8235\n",
            "Epoch 80/100\n",
            "19/19 [==============================] - 0s 4ms/step - loss: 0.0013 - accuracy: 1.0000 - val_loss: 0.8904 - val_accuracy: 0.8235\n",
            "Epoch 81/100\n",
            "19/19 [==============================] - 0s 5ms/step - loss: 0.0014 - accuracy: 1.0000 - val_loss: 0.9072 - val_accuracy: 0.8235\n",
            "Epoch 82/100\n",
            "19/19 [==============================] - 0s 5ms/step - loss: 0.0014 - accuracy: 1.0000 - val_loss: 0.9072 - val_accuracy: 0.8235\n",
            "Epoch 83/100\n",
            "19/19 [==============================] - 0s 5ms/step - loss: 0.0014 - accuracy: 1.0000 - val_loss: 0.9262 - val_accuracy: 0.8235\n",
            "Epoch 84/100\n",
            "19/19 [==============================] - 0s 5ms/step - loss: 0.0012 - accuracy: 1.0000 - val_loss: 0.9021 - val_accuracy: 0.8235\n",
            "Epoch 85/100\n",
            "19/19 [==============================] - 0s 5ms/step - loss: 0.0014 - accuracy: 1.0000 - val_loss: 0.9265 - val_accuracy: 0.8235\n",
            "Epoch 86/100\n",
            "19/19 [==============================] - 0s 4ms/step - loss: 0.0012 - accuracy: 1.0000 - val_loss: 0.9458 - val_accuracy: 0.8235\n",
            "Epoch 87/100\n",
            "19/19 [==============================] - 0s 5ms/step - loss: 0.0013 - accuracy: 1.0000 - val_loss: 0.9185 - val_accuracy: 0.8235\n",
            "Epoch 88/100\n",
            "19/19 [==============================] - 0s 4ms/step - loss: 0.0014 - accuracy: 1.0000 - val_loss: 0.9493 - val_accuracy: 0.8235\n",
            "Epoch 89/100\n",
            "19/19 [==============================] - 0s 5ms/step - loss: 0.0011 - accuracy: 1.0000 - val_loss: 0.9399 - val_accuracy: 0.8235\n",
            "Epoch 90/100\n",
            "19/19 [==============================] - 0s 5ms/step - loss: 0.0011 - accuracy: 1.0000 - val_loss: 0.9508 - val_accuracy: 0.8235\n",
            "Epoch 91/100\n",
            "19/19 [==============================] - 0s 5ms/step - loss: 7.6413e-04 - accuracy: 1.0000 - val_loss: 0.9552 - val_accuracy: 0.8235\n",
            "Epoch 92/100\n",
            "19/19 [==============================] - 0s 4ms/step - loss: 0.0010 - accuracy: 1.0000 - val_loss: 0.9640 - val_accuracy: 0.8235\n",
            "Epoch 93/100\n",
            "19/19 [==============================] - 0s 4ms/step - loss: 9.1273e-04 - accuracy: 1.0000 - val_loss: 0.9691 - val_accuracy: 0.8235\n",
            "Epoch 94/100\n",
            "19/19 [==============================] - 0s 4ms/step - loss: 6.9884e-04 - accuracy: 1.0000 - val_loss: 0.9723 - val_accuracy: 0.8235\n",
            "Epoch 95/100\n",
            "19/19 [==============================] - 0s 4ms/step - loss: 9.2892e-04 - accuracy: 1.0000 - val_loss: 0.9703 - val_accuracy: 0.8235\n",
            "Epoch 96/100\n",
            "19/19 [==============================] - 0s 4ms/step - loss: 0.0011 - accuracy: 1.0000 - val_loss: 0.9775 - val_accuracy: 0.8235\n",
            "Epoch 97/100\n",
            "19/19 [==============================] - 0s 5ms/step - loss: 8.0008e-04 - accuracy: 1.0000 - val_loss: 0.9856 - val_accuracy: 0.8235\n",
            "Epoch 98/100\n",
            "19/19 [==============================] - 0s 5ms/step - loss: 7.4416e-04 - accuracy: 1.0000 - val_loss: 0.9953 - val_accuracy: 0.8235\n",
            "Epoch 99/100\n",
            "19/19 [==============================] - 0s 5ms/step - loss: 8.0245e-04 - accuracy: 1.0000 - val_loss: 0.9964 - val_accuracy: 0.8235\n",
            "Epoch 100/100\n",
            "19/19 [==============================] - 0s 4ms/step - loss: 6.3620e-04 - accuracy: 1.0000 - val_loss: 1.0065 - val_accuracy: 0.8235\n"
          ],
          "name": "stdout"
        }
      ]
    },
    {
      "cell_type": "code",
      "metadata": {
        "colab": {
          "base_uri": "https://localhost:8080/",
          "height": 541
        },
        "id": "81Tkb8YPi0Gr",
        "outputId": "9f979e9e-338b-412a-e64c-f3f5643a3b31"
      },
      "source": [
        "plt.plot(history.history['loss'], \n",
        "         label='Ошибка на обучающем наборе')\n",
        "plt.plot(history.history['val_loss'], \n",
        "         label='Ошибка на проверочном наборе')\n",
        "plt.xlabel('Эпоха обучения')\n",
        "plt.ylabel('Ошибка')\n",
        "plt.legend()\n",
        "plt.show()\n",
        "\n",
        "plt.plot(history.history['accuracy'], \n",
        "         label='Точность на обучающем наборе')\n",
        "plt.plot(history.history['val_accuracy'], \n",
        "         label='Точность на проверочном наборе')\n",
        "plt.xlabel('Эпоха обучения')\n",
        "plt.ylabel('Точность')\n",
        "plt.legend()\n",
        "plt.show()"
      ],
      "execution_count": null,
      "outputs": [
        {
          "output_type": "display_data",
          "data": {
            "image/png": "[encoded data removed]",
            "text/plain": [
              "<Figure size 432x288 with 1 Axes>"
            ]
          },
          "metadata": {
            "tags": [],
            "needs_background": "light"
          }
        },
        {
          "output_type": "display_data",
          "data": {
            "image/png": "[encoded data removed]",
            "text/plain": [
              "<Figure size 432x288 with 1 Axes>"
            ]
          },
          "metadata": {
            "tags": [],
            "needs_background": "light"
          }
        }
      ]
    },
    {
      "cell_type": "markdown",
      "metadata": {
        "id": "57ab127JjX93"
      },
      "source": [
        "Переобучение - точность на проверочной принимает постоянное значение"
      ]
    },
    {
      "cell_type": "code",
      "metadata": {
        "colab": {
          "base_uri": "https://localhost:8080/"
        },
        "id": "bCDcXmG9jZRP",
        "outputId": "c51eb38a-7631-4caf-9dfd-5d88bca035e7"
      },
      "source": [
        "# создадим нейронную сеть \n",
        "model = Sequential()\n",
        "\n",
        "model.add(Dense(64, input_dim=x_train.shape[1],activation='relu'))\n",
        "model.add(Dense(64, activation='relu'))\n",
        "model.add(Dense(32, activation='relu'))\n",
        "model.add(Dense(1, activation='sigmoid'))\n",
        "\n",
        "model.compile(loss='binary_crossentropy', optimizer=Adam(lr=1e-4), metrics=['accuracy'])\n",
        "\n",
        "history = model.fit(x_train,y_train,\n",
        "                    batch_size=8,\n",
        "                    epochs=100,\n",
        "                    validation_split=0.1,\n",
        "                    verbose=1)"
      ],
      "execution_count": null,
      "outputs": [
        {
          "output_type": "stream",
          "text": [
            "Epoch 1/100\n",
            "19/19 [==============================] - 1s 12ms/step - loss: 0.7284 - accuracy: 0.4669 - val_loss: 0.7644 - val_accuracy: 0.2941\n",
            "Epoch 2/100\n",
            "19/19 [==============================] - 0s 4ms/step - loss: 0.7225 - accuracy: 0.4211 - val_loss: 0.7391 - val_accuracy: 0.2941\n",
            "Epoch 3/100\n",
            "19/19 [==============================] - 0s 5ms/step - loss: 0.6967 - accuracy: 0.4624 - val_loss: 0.7237 - val_accuracy: 0.2941\n",
            "Epoch 4/100\n",
            "19/19 [==============================] - 0s 5ms/step - loss: 0.6767 - accuracy: 0.5363 - val_loss: 0.7104 - val_accuracy: 0.3529\n",
            "Epoch 5/100\n",
            "19/19 [==============================] - 0s 5ms/step - loss: 0.6871 - accuracy: 0.4922 - val_loss: 0.6967 - val_accuracy: 0.4118\n",
            "Epoch 6/100\n",
            "19/19 [==============================] - 0s 4ms/step - loss: 0.6764 - accuracy: 0.6473 - val_loss: 0.6886 - val_accuracy: 0.5294\n",
            "Epoch 7/100\n",
            "19/19 [==============================] - 0s 4ms/step - loss: 0.6756 - accuracy: 0.6841 - val_loss: 0.6821 - val_accuracy: 0.7059\n",
            "Epoch 8/100\n",
            "19/19 [==============================] - 0s 4ms/step - loss: 0.6767 - accuracy: 0.6993 - val_loss: 0.6725 - val_accuracy: 0.7647\n",
            "Epoch 9/100\n",
            "19/19 [==============================] - 0s 5ms/step - loss: 0.6729 - accuracy: 0.6777 - val_loss: 0.6646 - val_accuracy: 0.8235\n",
            "Epoch 10/100\n",
            "19/19 [==============================] - 0s 4ms/step - loss: 0.6680 - accuracy: 0.7161 - val_loss: 0.6609 - val_accuracy: 0.8235\n",
            "Epoch 11/100\n",
            "19/19 [==============================] - 0s 4ms/step - loss: 0.6627 - accuracy: 0.7282 - val_loss: 0.6557 - val_accuracy: 0.8235\n",
            "Epoch 12/100\n",
            "19/19 [==============================] - 0s 4ms/step - loss: 0.6608 - accuracy: 0.7273 - val_loss: 0.6558 - val_accuracy: 0.8235\n",
            "Epoch 13/100\n",
            "19/19 [==============================] - 0s 5ms/step - loss: 0.6581 - accuracy: 0.7320 - val_loss: 0.6468 - val_accuracy: 0.8235\n",
            "Epoch 14/100\n",
            "19/19 [==============================] - 0s 5ms/step - loss: 0.6543 - accuracy: 0.6983 - val_loss: 0.6437 - val_accuracy: 0.8235\n",
            "Epoch 15/100\n",
            "19/19 [==============================] - 0s 4ms/step - loss: 0.6467 - accuracy: 0.7600 - val_loss: 0.6354 - val_accuracy: 0.8235\n",
            "Epoch 16/100\n",
            "19/19 [==============================] - 0s 4ms/step - loss: 0.6457 - accuracy: 0.7081 - val_loss: 0.6298 - val_accuracy: 0.8235\n",
            "Epoch 17/100\n",
            "19/19 [==============================] - 0s 5ms/step - loss: 0.6401 - accuracy: 0.7362 - val_loss: 0.6262 - val_accuracy: 0.8235\n",
            "Epoch 18/100\n",
            "19/19 [==============================] - 0s 5ms/step - loss: 0.6313 - accuracy: 0.7493 - val_loss: 0.6204 - val_accuracy: 0.7647\n",
            "Epoch 19/100\n",
            "19/19 [==============================] - 0s 5ms/step - loss: 0.6160 - accuracy: 0.7591 - val_loss: 0.6102 - val_accuracy: 0.7647\n",
            "Epoch 20/100\n",
            "19/19 [==============================] - 0s 4ms/step - loss: 0.6199 - accuracy: 0.7855 - val_loss: 0.6080 - val_accuracy: 0.7647\n",
            "Epoch 21/100\n",
            "19/19 [==============================] - 0s 4ms/step - loss: 0.6143 - accuracy: 0.7669 - val_loss: 0.6021 - val_accuracy: 0.8235\n",
            "Epoch 22/100\n",
            "19/19 [==============================] - 0s 5ms/step - loss: 0.6104 - accuracy: 0.7729 - val_loss: 0.5942 - val_accuracy: 0.8235\n",
            "Epoch 23/100\n",
            "19/19 [==============================] - 0s 5ms/step - loss: 0.5986 - accuracy: 0.7795 - val_loss: 0.5883 - val_accuracy: 0.8235\n",
            "Epoch 24/100\n",
            "19/19 [==============================] - 0s 4ms/step - loss: 0.6010 - accuracy: 0.7891 - val_loss: 0.5855 - val_accuracy: 0.8235\n",
            "Epoch 25/100\n",
            "19/19 [==============================] - 0s 5ms/step - loss: 0.5945 - accuracy: 0.7744 - val_loss: 0.5801 - val_accuracy: 0.8235\n",
            "Epoch 26/100\n",
            "19/19 [==============================] - 0s 5ms/step - loss: 0.5795 - accuracy: 0.8016 - val_loss: 0.5699 - val_accuracy: 0.8235\n",
            "Epoch 27/100\n",
            "19/19 [==============================] - 0s 4ms/step - loss: 0.5979 - accuracy: 0.7364 - val_loss: 0.5671 - val_accuracy: 0.8235\n",
            "Epoch 28/100\n",
            "19/19 [==============================] - 0s 5ms/step - loss: 0.5678 - accuracy: 0.7978 - val_loss: 0.5548 - val_accuracy: 0.8235\n",
            "Epoch 29/100\n",
            "19/19 [==============================] - 0s 5ms/step - loss: 0.5879 - accuracy: 0.6924 - val_loss: 0.5509 - val_accuracy: 0.8235\n",
            "Epoch 30/100\n",
            "19/19 [==============================] - 0s 4ms/step - loss: 0.5746 - accuracy: 0.7808 - val_loss: 0.5439 - val_accuracy: 0.8235\n",
            "Epoch 31/100\n",
            "19/19 [==============================] - 0s 4ms/step - loss: 0.5635 - accuracy: 0.7710 - val_loss: 0.5428 - val_accuracy: 0.8235\n",
            "Epoch 32/100\n",
            "19/19 [==============================] - 0s 4ms/step - loss: 0.5614 - accuracy: 0.7878 - val_loss: 0.5339 - val_accuracy: 0.8235\n",
            "Epoch 33/100\n",
            "19/19 [==============================] - 0s 5ms/step - loss: 0.5662 - accuracy: 0.7532 - val_loss: 0.5268 - val_accuracy: 0.8235\n",
            "Epoch 34/100\n",
            "19/19 [==============================] - 0s 5ms/step - loss: 0.5115 - accuracy: 0.8226 - val_loss: 0.5202 - val_accuracy: 0.8235\n",
            "Epoch 35/100\n",
            "19/19 [==============================] - 0s 5ms/step - loss: 0.5399 - accuracy: 0.7710 - val_loss: 0.5121 - val_accuracy: 0.8235\n",
            "Epoch 36/100\n",
            "19/19 [==============================] - 0s 5ms/step - loss: 0.5365 - accuracy: 0.7584 - val_loss: 0.5091 - val_accuracy: 0.8235\n",
            "Epoch 37/100\n",
            "19/19 [==============================] - 0s 4ms/step - loss: 0.5166 - accuracy: 0.8269 - val_loss: 0.5078 - val_accuracy: 0.8235\n",
            "Epoch 38/100\n",
            "19/19 [==============================] - 0s 4ms/step - loss: 0.5014 - accuracy: 0.8222 - val_loss: 0.5092 - val_accuracy: 0.8235\n",
            "Epoch 39/100\n",
            "19/19 [==============================] - 0s 4ms/step - loss: 0.5291 - accuracy: 0.8143 - val_loss: 0.4822 - val_accuracy: 0.8235\n",
            "Epoch 40/100\n",
            "19/19 [==============================] - 0s 5ms/step - loss: 0.4878 - accuracy: 0.7823 - val_loss: 0.4883 - val_accuracy: 0.8235\n",
            "Epoch 41/100\n",
            "19/19 [==============================] - 0s 4ms/step - loss: 0.4627 - accuracy: 0.8504 - val_loss: 0.4828 - val_accuracy: 0.8235\n",
            "Epoch 42/100\n",
            "19/19 [==============================] - 0s 4ms/step - loss: 0.4844 - accuracy: 0.8182 - val_loss: 0.4807 - val_accuracy: 0.8235\n",
            "Epoch 43/100\n",
            "19/19 [==============================] - 0s 4ms/step - loss: 0.5016 - accuracy: 0.7899 - val_loss: 0.4791 - val_accuracy: 0.8235\n",
            "Epoch 44/100\n",
            "19/19 [==============================] - 0s 5ms/step - loss: 0.4850 - accuracy: 0.8008 - val_loss: 0.4729 - val_accuracy: 0.8235\n",
            "Epoch 45/100\n",
            "19/19 [==============================] - 0s 4ms/step - loss: 0.4510 - accuracy: 0.8164 - val_loss: 0.4706 - val_accuracy: 0.8235\n",
            "Epoch 46/100\n",
            "19/19 [==============================] - 0s 5ms/step - loss: 0.4914 - accuracy: 0.8092 - val_loss: 0.4636 - val_accuracy: 0.8235\n",
            "Epoch 47/100\n",
            "19/19 [==============================] - 0s 5ms/step - loss: 0.4821 - accuracy: 0.8097 - val_loss: 0.4606 - val_accuracy: 0.8235\n",
            "Epoch 48/100\n",
            "19/19 [==============================] - 0s 4ms/step - loss: 0.4342 - accuracy: 0.8557 - val_loss: 0.4583 - val_accuracy: 0.8235\n",
            "Epoch 49/100\n",
            "19/19 [==============================] - 0s 4ms/step - loss: 0.4589 - accuracy: 0.8450 - val_loss: 0.4593 - val_accuracy: 0.8235\n",
            "Epoch 50/100\n",
            "19/19 [==============================] - 0s 4ms/step - loss: 0.4637 - accuracy: 0.8194 - val_loss: 0.4491 - val_accuracy: 0.8235\n",
            "Epoch 51/100\n",
            "19/19 [==============================] - 0s 4ms/step - loss: 0.4500 - accuracy: 0.8235 - val_loss: 0.4440 - val_accuracy: 0.8235\n",
            "Epoch 52/100\n",
            "19/19 [==============================] - 0s 4ms/step - loss: 0.4728 - accuracy: 0.7842 - val_loss: 0.4520 - val_accuracy: 0.8235\n",
            "Epoch 53/100\n",
            "19/19 [==============================] - 0s 4ms/step - loss: 0.4330 - accuracy: 0.8620 - val_loss: 0.4447 - val_accuracy: 0.8235\n",
            "Epoch 54/100\n",
            "19/19 [==============================] - 0s 4ms/step - loss: 0.4316 - accuracy: 0.8811 - val_loss: 0.4461 - val_accuracy: 0.8235\n",
            "Epoch 55/100\n",
            "19/19 [==============================] - 0s 4ms/step - loss: 0.4443 - accuracy: 0.8140 - val_loss: 0.4340 - val_accuracy: 0.8235\n",
            "Epoch 56/100\n",
            "19/19 [==============================] - 0s 5ms/step - loss: 0.4351 - accuracy: 0.8297 - val_loss: 0.4418 - val_accuracy: 0.8235\n",
            "Epoch 57/100\n",
            "19/19 [==============================] - 0s 5ms/step - loss: 0.4161 - accuracy: 0.8446 - val_loss: 0.4281 - val_accuracy: 0.8235\n",
            "Epoch 58/100\n",
            "19/19 [==============================] - 0s 5ms/step - loss: 0.3992 - accuracy: 0.8533 - val_loss: 0.4249 - val_accuracy: 0.8235\n",
            "Epoch 59/100\n",
            "19/19 [==============================] - 0s 5ms/step - loss: 0.4261 - accuracy: 0.8175 - val_loss: 0.4382 - val_accuracy: 0.8235\n",
            "Epoch 60/100\n",
            "19/19 [==============================] - 0s 4ms/step - loss: 0.4469 - accuracy: 0.7801 - val_loss: 0.4197 - val_accuracy: 0.8235\n",
            "Epoch 61/100\n",
            "19/19 [==============================] - 0s 4ms/step - loss: 0.4629 - accuracy: 0.7789 - val_loss: 0.4291 - val_accuracy: 0.8235\n",
            "Epoch 62/100\n",
            "19/19 [==============================] - 0s 4ms/step - loss: 0.3782 - accuracy: 0.8530 - val_loss: 0.4263 - val_accuracy: 0.8235\n",
            "Epoch 63/100\n",
            "19/19 [==============================] - 0s 4ms/step - loss: 0.3889 - accuracy: 0.8625 - val_loss: 0.4192 - val_accuracy: 0.8235\n",
            "Epoch 64/100\n",
            "19/19 [==============================] - 0s 5ms/step - loss: 0.3957 - accuracy: 0.8679 - val_loss: 0.4218 - val_accuracy: 0.8235\n",
            "Epoch 65/100\n",
            "19/19 [==============================] - 0s 4ms/step - loss: 0.4063 - accuracy: 0.8134 - val_loss: 0.4121 - val_accuracy: 0.8235\n",
            "Epoch 66/100\n",
            "19/19 [==============================] - 0s 5ms/step - loss: 0.4013 - accuracy: 0.8524 - val_loss: 0.4195 - val_accuracy: 0.8235\n",
            "Epoch 67/100\n",
            "19/19 [==============================] - 0s 4ms/step - loss: 0.4101 - accuracy: 0.8173 - val_loss: 0.4143 - val_accuracy: 0.8235\n",
            "Epoch 68/100\n",
            "19/19 [==============================] - 0s 5ms/step - loss: 0.3901 - accuracy: 0.8642 - val_loss: 0.4164 - val_accuracy: 0.8235\n",
            "Epoch 69/100\n",
            "19/19 [==============================] - 0s 5ms/step - loss: 0.4255 - accuracy: 0.8488 - val_loss: 0.4186 - val_accuracy: 0.8235\n",
            "Epoch 70/100\n",
            "19/19 [==============================] - 0s 5ms/step - loss: 0.3343 - accuracy: 0.8760 - val_loss: 0.4141 - val_accuracy: 0.8235\n",
            "Epoch 71/100\n",
            "19/19 [==============================] - 0s 4ms/step - loss: 0.3441 - accuracy: 0.8987 - val_loss: 0.4138 - val_accuracy: 0.8235\n",
            "Epoch 72/100\n",
            "19/19 [==============================] - 0s 5ms/step - loss: 0.3587 - accuracy: 0.8585 - val_loss: 0.4052 - val_accuracy: 0.8235\n",
            "Epoch 73/100\n",
            "19/19 [==============================] - 0s 5ms/step - loss: 0.3817 - accuracy: 0.8547 - val_loss: 0.4052 - val_accuracy: 0.8235\n",
            "Epoch 74/100\n",
            "19/19 [==============================] - 0s 5ms/step - loss: 0.3455 - accuracy: 0.8763 - val_loss: 0.4110 - val_accuracy: 0.8235\n",
            "Epoch 75/100\n",
            "19/19 [==============================] - 0s 4ms/step - loss: 0.3747 - accuracy: 0.8453 - val_loss: 0.4005 - val_accuracy: 0.8235\n",
            "Epoch 76/100\n",
            "19/19 [==============================] - 0s 5ms/step - loss: 0.3513 - accuracy: 0.8673 - val_loss: 0.4056 - val_accuracy: 0.8235\n",
            "Epoch 77/100\n",
            "19/19 [==============================] - 0s 5ms/step - loss: 0.3570 - accuracy: 0.8508 - val_loss: 0.3973 - val_accuracy: 0.8235\n",
            "Epoch 78/100\n",
            "19/19 [==============================] - 0s 5ms/step - loss: 0.3552 - accuracy: 0.8934 - val_loss: 0.4152 - val_accuracy: 0.8235\n",
            "Epoch 79/100\n",
            "19/19 [==============================] - 0s 5ms/step - loss: 0.3704 - accuracy: 0.8622 - val_loss: 0.4050 - val_accuracy: 0.8235\n",
            "Epoch 80/100\n",
            "19/19 [==============================] - 0s 5ms/step - loss: 0.3259 - accuracy: 0.8659 - val_loss: 0.4031 - val_accuracy: 0.8235\n",
            "Epoch 81/100\n",
            "19/19 [==============================] - 0s 5ms/step - loss: 0.3218 - accuracy: 0.8650 - val_loss: 0.3959 - val_accuracy: 0.8235\n",
            "Epoch 82/100\n",
            "19/19 [==============================] - 0s 5ms/step - loss: 0.3142 - accuracy: 0.8942 - val_loss: 0.4162 - val_accuracy: 0.8235\n",
            "Epoch 83/100\n",
            "19/19 [==============================] - 0s 4ms/step - loss: 0.3382 - accuracy: 0.8876 - val_loss: 0.3975 - val_accuracy: 0.8235\n",
            "Epoch 84/100\n",
            "19/19 [==============================] - 0s 5ms/step - loss: 0.3597 - accuracy: 0.8831 - val_loss: 0.4095 - val_accuracy: 0.8235\n",
            "Epoch 85/100\n",
            "19/19 [==============================] - 0s 5ms/step - loss: 0.3366 - accuracy: 0.8658 - val_loss: 0.4103 - val_accuracy: 0.8235\n",
            "Epoch 86/100\n",
            "19/19 [==============================] - 0s 5ms/step - loss: 0.3868 - accuracy: 0.8145 - val_loss: 0.3981 - val_accuracy: 0.8235\n",
            "Epoch 87/100\n",
            "19/19 [==============================] - 0s 5ms/step - loss: 0.3376 - accuracy: 0.8761 - val_loss: 0.4095 - val_accuracy: 0.8235\n",
            "Epoch 88/100\n",
            "19/19 [==============================] - 0s 5ms/step - loss: 0.3270 - accuracy: 0.9094 - val_loss: 0.4017 - val_accuracy: 0.8235\n",
            "Epoch 89/100\n",
            "19/19 [==============================] - 0s 4ms/step - loss: 0.3238 - accuracy: 0.8861 - val_loss: 0.4039 - val_accuracy: 0.8235\n",
            "Epoch 90/100\n",
            "19/19 [==============================] - 0s 4ms/step - loss: 0.3131 - accuracy: 0.9125 - val_loss: 0.4134 - val_accuracy: 0.8235\n",
            "Epoch 91/100\n",
            "19/19 [==============================] - 0s 5ms/step - loss: 0.3094 - accuracy: 0.9178 - val_loss: 0.3926 - val_accuracy: 0.8235\n",
            "Epoch 92/100\n",
            "19/19 [==============================] - 0s 5ms/step - loss: 0.3175 - accuracy: 0.8956 - val_loss: 0.4221 - val_accuracy: 0.8235\n",
            "Epoch 93/100\n",
            "19/19 [==============================] - 0s 5ms/step - loss: 0.3899 - accuracy: 0.8181 - val_loss: 0.4097 - val_accuracy: 0.8235\n",
            "Epoch 94/100\n",
            "19/19 [==============================] - 0s 4ms/step - loss: 0.3294 - accuracy: 0.8591 - val_loss: 0.4001 - val_accuracy: 0.8235\n",
            "Epoch 95/100\n",
            "19/19 [==============================] - 0s 4ms/step - loss: 0.3635 - accuracy: 0.8514 - val_loss: 0.4065 - val_accuracy: 0.8235\n",
            "Epoch 96/100\n",
            "19/19 [==============================] - 0s 6ms/step - loss: 0.3070 - accuracy: 0.8761 - val_loss: 0.4125 - val_accuracy: 0.8235\n",
            "Epoch 97/100\n",
            "19/19 [==============================] - 0s 5ms/step - loss: 0.2888 - accuracy: 0.9132 - val_loss: 0.4058 - val_accuracy: 0.8235\n",
            "Epoch 98/100\n",
            "19/19 [==============================] - 0s 5ms/step - loss: 0.2985 - accuracy: 0.8576 - val_loss: 0.4127 - val_accuracy: 0.8235\n",
            "Epoch 99/100\n",
            "19/19 [==============================] - 0s 4ms/step - loss: 0.2629 - accuracy: 0.9293 - val_loss: 0.4070 - val_accuracy: 0.8235\n",
            "Epoch 100/100\n",
            "19/19 [==============================] - 0s 4ms/step - loss: 0.3049 - accuracy: 0.8538 - val_loss: 0.4195 - val_accuracy: 0.8235\n"
          ],
          "name": "stdout"
        }
      ]
    },
    {
      "cell_type": "code",
      "metadata": {
        "colab": {
          "base_uri": "https://localhost:8080/",
          "height": 541
        },
        "id": "uJnBsaZVjqwy",
        "outputId": "96d83f67-3e7d-4130-8b47-9bf24076e5db"
      },
      "source": [
        "plt.plot(history.history['loss'], \n",
        "         label='Ошибка на обучающем наборе')\n",
        "plt.plot(history.history['val_loss'], \n",
        "         label='Ошибка на проверочном наборе')\n",
        "plt.xlabel('Эпоха обучения')\n",
        "plt.ylabel('Ошибка')\n",
        "plt.legend()\n",
        "plt.show()\n",
        "\n",
        "plt.plot(history.history['accuracy'], \n",
        "         label='Точность на обучающем наборе')\n",
        "plt.plot(history.history['val_accuracy'], \n",
        "         label='Точность на проверочном наборе')\n",
        "plt.xlabel('Эпоха обучения')\n",
        "plt.ylabel('Точность')\n",
        "plt.legend()\n",
        "plt.show()"
      ],
      "execution_count": null,
      "outputs": [
        {
          "output_type": "display_data",
          "data": {
            "image/png": "[encoded data removed]",
            "text/plain": [
              "<Figure size 432x288 with 1 Axes>"
            ]
          },
          "metadata": {
            "tags": [],
            "needs_background": "light"
          }
        },
        {
          "output_type": "display_data",
          "data": {
            "image/png": "[encoded data removed]",
            "text/plain": [
              "<Figure size 432x288 with 1 Axes>"
            ]
          },
          "metadata": {
            "tags": [],
            "needs_background": "light"
          }
        }
      ]
    },
    {
      "cell_type": "code",
      "metadata": {
        "colab": {
          "base_uri": "https://localhost:8080/"
        },
        "id": "y3DOrCtojv17",
        "outputId": "9dff57ba-7ada-46a2-8430-36e6b18554d4"
      },
      "source": [
        "# создадим нейронную сеть \n",
        "model = Sequential()\n",
        "\n",
        "model.add(Dense(256, input_dim=x_train.shape[1],activation='relu'))\n",
        "model.add(Dense(256, activation='relu'))\n",
        "model.add(Dense(1, activation='sigmoid'))\n",
        "\n",
        "model.compile(loss='binary_crossentropy', optimizer=Adam(lr=1e-3), metrics=['accuracy'])\n",
        "\n",
        "history = model.fit(x_train,y_train,\n",
        "                    batch_size=4,\n",
        "                    epochs=100,\n",
        "                    verbose=1)"
      ],
      "execution_count": null,
      "outputs": [
        {
          "output_type": "stream",
          "text": [
            "Epoch 1/100\n",
            "42/42 [==============================] - 0s 2ms/step - loss: 0.6829 - accuracy: 0.5186\n",
            "Epoch 2/100\n",
            "42/42 [==============================] - 0s 2ms/step - loss: 0.5527 - accuracy: 0.7631\n",
            "Epoch 3/100\n",
            "42/42 [==============================] - 0s 3ms/step - loss: 0.5162 - accuracy: 0.7651\n",
            "Epoch 4/100\n",
            "42/42 [==============================] - 0s 2ms/step - loss: 0.4409 - accuracy: 0.7416\n",
            "Epoch 5/100\n",
            "42/42 [==============================] - 0s 2ms/step - loss: 0.3853 - accuracy: 0.8356\n",
            "Epoch 6/100\n",
            "42/42 [==============================] - 0s 2ms/step - loss: 0.3252 - accuracy: 0.8429\n",
            "Epoch 7/100\n",
            "42/42 [==============================] - 0s 2ms/step - loss: 0.3534 - accuracy: 0.8620\n",
            "Epoch 8/100\n",
            "42/42 [==============================] - 0s 2ms/step - loss: 0.2866 - accuracy: 0.8814\n",
            "Epoch 9/100\n",
            "42/42 [==============================] - 0s 2ms/step - loss: 0.3227 - accuracy: 0.8483\n",
            "Epoch 10/100\n",
            "42/42 [==============================] - 0s 2ms/step - loss: 0.2585 - accuracy: 0.9009\n",
            "Epoch 11/100\n",
            "42/42 [==============================] - 0s 2ms/step - loss: 0.2757 - accuracy: 0.8854\n",
            "Epoch 12/100\n",
            "42/42 [==============================] - 0s 2ms/step - loss: 0.2290 - accuracy: 0.8995\n",
            "Epoch 13/100\n",
            "42/42 [==============================] - 0s 2ms/step - loss: 0.1654 - accuracy: 0.9627\n",
            "Epoch 14/100\n",
            "42/42 [==============================] - 0s 3ms/step - loss: 0.1608 - accuracy: 0.9145\n",
            "Epoch 15/100\n",
            "42/42 [==============================] - 0s 3ms/step - loss: 0.1361 - accuracy: 0.9432\n",
            "Epoch 16/100\n",
            "42/42 [==============================] - 0s 2ms/step - loss: 0.1309 - accuracy: 0.9550\n",
            "Epoch 17/100\n",
            "42/42 [==============================] - 0s 2ms/step - loss: 0.0925 - accuracy: 0.9671\n",
            "Epoch 18/100\n",
            "42/42 [==============================] - 0s 2ms/step - loss: 0.1450 - accuracy: 0.9308\n",
            "Epoch 19/100\n",
            "42/42 [==============================] - 0s 2ms/step - loss: 0.1492 - accuracy: 0.9442\n",
            "Epoch 20/100\n",
            "42/42 [==============================] - 0s 2ms/step - loss: 0.1085 - accuracy: 0.9518\n",
            "Epoch 21/100\n",
            "42/42 [==============================] - 0s 2ms/step - loss: 0.0725 - accuracy: 0.9756\n",
            "Epoch 22/100\n",
            "42/42 [==============================] - 0s 2ms/step - loss: 0.1018 - accuracy: 0.9541\n",
            "Epoch 23/100\n",
            "42/42 [==============================] - 0s 2ms/step - loss: 0.0666 - accuracy: 0.9926\n",
            "Epoch 24/100\n",
            "42/42 [==============================] - 0s 2ms/step - loss: 0.0507 - accuracy: 0.9810\n",
            "Epoch 25/100\n",
            "42/42 [==============================] - 0s 2ms/step - loss: 0.0267 - accuracy: 0.9962\n",
            "Epoch 26/100\n",
            "42/42 [==============================] - 0s 2ms/step - loss: 0.0587 - accuracy: 0.9791\n",
            "Epoch 27/100\n",
            "42/42 [==============================] - 0s 2ms/step - loss: 0.0526 - accuracy: 0.9905\n",
            "Epoch 28/100\n",
            "42/42 [==============================] - 0s 2ms/step - loss: 0.0269 - accuracy: 0.9927\n",
            "Epoch 29/100\n",
            "42/42 [==============================] - 0s 2ms/step - loss: 0.0157 - accuracy: 1.0000\n",
            "Epoch 30/100\n",
            "42/42 [==============================] - 0s 2ms/step - loss: 0.0091 - accuracy: 1.0000\n",
            "Epoch 31/100\n",
            "42/42 [==============================] - 0s 2ms/step - loss: 0.0077 - accuracy: 1.0000\n",
            "Epoch 32/100\n",
            "42/42 [==============================] - 0s 2ms/step - loss: 0.0054 - accuracy: 1.0000\n",
            "Epoch 33/100\n",
            "42/42 [==============================] - 0s 3ms/step - loss: 0.0059 - accuracy: 1.0000\n",
            "Epoch 34/100\n",
            "42/42 [==============================] - 0s 3ms/step - loss: 0.0049 - accuracy: 1.0000\n",
            "Epoch 35/100\n",
            "42/42 [==============================] - 0s 2ms/step - loss: 0.0055 - accuracy: 1.0000\n",
            "Epoch 36/100\n",
            "42/42 [==============================] - 0s 2ms/step - loss: 0.0035 - accuracy: 1.0000\n",
            "Epoch 37/100\n",
            "42/42 [==============================] - 0s 2ms/step - loss: 0.0036 - accuracy: 1.0000\n",
            "Epoch 38/100\n",
            "42/42 [==============================] - 0s 2ms/step - loss: 0.0024 - accuracy: 1.0000\n",
            "Epoch 39/100\n",
            "42/42 [==============================] - 0s 2ms/step - loss: 0.0028 - accuracy: 1.0000\n",
            "Epoch 40/100\n",
            "42/42 [==============================] - 0s 2ms/step - loss: 0.0024 - accuracy: 1.0000\n",
            "Epoch 41/100\n",
            "42/42 [==============================] - 0s 2ms/step - loss: 0.0031 - accuracy: 1.0000\n",
            "Epoch 42/100\n",
            "42/42 [==============================] - 0s 2ms/step - loss: 0.0024 - accuracy: 1.0000\n",
            "Epoch 43/100\n",
            "42/42 [==============================] - 0s 3ms/step - loss: 0.0021 - accuracy: 1.0000\n",
            "Epoch 44/100\n",
            "42/42 [==============================] - 0s 2ms/step - loss: 0.0024 - accuracy: 1.0000\n",
            "Epoch 45/100\n",
            "42/42 [==============================] - 0s 2ms/step - loss: 0.0020 - accuracy: 1.0000\n",
            "Epoch 46/100\n",
            "42/42 [==============================] - 0s 2ms/step - loss: 0.0022 - accuracy: 1.0000\n",
            "Epoch 47/100\n",
            "42/42 [==============================] - 0s 2ms/step - loss: 0.0018 - accuracy: 1.0000\n",
            "Epoch 48/100\n",
            "42/42 [==============================] - 0s 2ms/step - loss: 0.0015 - accuracy: 1.0000\n",
            "Epoch 49/100\n",
            "42/42 [==============================] - 0s 2ms/step - loss: 0.0011 - accuracy: 1.0000\n",
            "Epoch 50/100\n",
            "42/42 [==============================] - 0s 2ms/step - loss: 0.0012 - accuracy: 1.0000\n",
            "Epoch 51/100\n",
            "42/42 [==============================] - 0s 2ms/step - loss: 0.0012 - accuracy: 1.0000\n",
            "Epoch 52/100\n",
            "42/42 [==============================] - 0s 2ms/step - loss: 0.0013 - accuracy: 1.0000\n",
            "Epoch 53/100\n",
            "42/42 [==============================] - 0s 2ms/step - loss: 0.0011 - accuracy: 1.0000\n",
            "Epoch 54/100\n",
            "42/42 [==============================] - 0s 3ms/step - loss: 0.0012 - accuracy: 1.0000\n",
            "Epoch 55/100\n",
            "42/42 [==============================] - 0s 3ms/step - loss: 0.0013 - accuracy: 1.0000\n",
            "Epoch 56/100\n",
            "42/42 [==============================] - 0s 3ms/step - loss: 9.5267e-04 - accuracy: 1.0000\n",
            "Epoch 57/100\n",
            "42/42 [==============================] - 0s 2ms/step - loss: 7.0008e-04 - accuracy: 1.0000\n",
            "Epoch 58/100\n",
            "42/42 [==============================] - 0s 2ms/step - loss: 9.2640e-04 - accuracy: 1.0000\n",
            "Epoch 59/100\n",
            "42/42 [==============================] - 0s 2ms/step - loss: 5.8118e-04 - accuracy: 1.0000\n",
            "Epoch 60/100\n",
            "42/42 [==============================] - 0s 2ms/step - loss: 6.5644e-04 - accuracy: 1.0000\n",
            "Epoch 61/100\n",
            "42/42 [==============================] - 0s 3ms/step - loss: 6.3734e-04 - accuracy: 1.0000\n",
            "Epoch 62/100\n",
            "42/42 [==============================] - 0s 2ms/step - loss: 5.9693e-04 - accuracy: 1.0000\n",
            "Epoch 63/100\n",
            "42/42 [==============================] - 0s 2ms/step - loss: 5.7166e-04 - accuracy: 1.0000\n",
            "Epoch 64/100\n",
            "42/42 [==============================] - 0s 2ms/step - loss: 6.5878e-04 - accuracy: 1.0000\n",
            "Epoch 65/100\n",
            "42/42 [==============================] - 0s 2ms/step - loss: 4.6512e-04 - accuracy: 1.0000\n",
            "Epoch 66/100\n",
            "42/42 [==============================] - 0s 3ms/step - loss: 4.7943e-04 - accuracy: 1.0000\n",
            "Epoch 67/100\n",
            "42/42 [==============================] - 0s 2ms/step - loss: 4.0733e-04 - accuracy: 1.0000\n",
            "Epoch 68/100\n",
            "42/42 [==============================] - 0s 2ms/step - loss: 4.6050e-04 - accuracy: 1.0000\n",
            "Epoch 69/100\n",
            "42/42 [==============================] - 0s 2ms/step - loss: 5.3116e-04 - accuracy: 1.0000\n",
            "Epoch 70/100\n",
            "42/42 [==============================] - 0s 2ms/step - loss: 4.7797e-04 - accuracy: 1.0000\n",
            "Epoch 71/100\n",
            "42/42 [==============================] - 0s 2ms/step - loss: 3.7359e-04 - accuracy: 1.0000\n",
            "Epoch 72/100\n",
            "42/42 [==============================] - 0s 2ms/step - loss: 3.3340e-04 - accuracy: 1.0000\n",
            "Epoch 73/100\n",
            "42/42 [==============================] - 0s 3ms/step - loss: 3.1004e-04 - accuracy: 1.0000\n",
            "Epoch 74/100\n",
            "42/42 [==============================] - 0s 2ms/step - loss: 2.6397e-04 - accuracy: 1.0000\n",
            "Epoch 75/100\n",
            "42/42 [==============================] - 0s 2ms/step - loss: 4.1052e-04 - accuracy: 1.0000\n",
            "Epoch 76/100\n",
            "42/42 [==============================] - 0s 2ms/step - loss: 3.6961e-04 - accuracy: 1.0000\n",
            "Epoch 77/100\n",
            "42/42 [==============================] - 0s 3ms/step - loss: 3.3693e-04 - accuracy: 1.0000\n",
            "Epoch 78/100\n",
            "42/42 [==============================] - 0s 2ms/step - loss: 2.9720e-04 - accuracy: 1.0000\n",
            "Epoch 79/100\n",
            "42/42 [==============================] - 0s 2ms/step - loss: 2.6316e-04 - accuracy: 1.0000\n",
            "Epoch 80/100\n",
            "42/42 [==============================] - 0s 3ms/step - loss: 2.6586e-04 - accuracy: 1.0000\n",
            "Epoch 81/100\n",
            "42/42 [==============================] - 0s 2ms/step - loss: 2.2602e-04 - accuracy: 1.0000\n",
            "Epoch 82/100\n",
            "42/42 [==============================] - 0s 2ms/step - loss: 2.7352e-04 - accuracy: 1.0000\n",
            "Epoch 83/100\n",
            "42/42 [==============================] - 0s 2ms/step - loss: 2.8068e-04 - accuracy: 1.0000\n",
            "Epoch 84/100\n",
            "42/42 [==============================] - 0s 2ms/step - loss: 2.4155e-04 - accuracy: 1.0000\n",
            "Epoch 85/100\n",
            "42/42 [==============================] - 0s 2ms/step - loss: 2.1067e-04 - accuracy: 1.0000\n",
            "Epoch 86/100\n",
            "42/42 [==============================] - 0s 2ms/step - loss: 1.9692e-04 - accuracy: 1.0000\n",
            "Epoch 87/100\n",
            "42/42 [==============================] - 0s 2ms/step - loss: 1.8454e-04 - accuracy: 1.0000\n",
            "Epoch 88/100\n",
            "42/42 [==============================] - 0s 2ms/step - loss: 2.2367e-04 - accuracy: 1.0000\n",
            "Epoch 89/100\n",
            "42/42 [==============================] - 0s 2ms/step - loss: 1.6890e-04 - accuracy: 1.0000\n",
            "Epoch 90/100\n",
            "42/42 [==============================] - 0s 3ms/step - loss: 1.4939e-04 - accuracy: 1.0000\n",
            "Epoch 91/100\n",
            "42/42 [==============================] - 0s 2ms/step - loss: 1.1458e-04 - accuracy: 1.0000\n",
            "Epoch 92/100\n",
            "42/42 [==============================] - 0s 2ms/step - loss: 1.4635e-04 - accuracy: 1.0000\n",
            "Epoch 93/100\n",
            "42/42 [==============================] - 0s 2ms/step - loss: 1.2183e-04 - accuracy: 1.0000\n",
            "Epoch 94/100\n",
            "42/42 [==============================] - 0s 2ms/step - loss: 2.0395e-04 - accuracy: 1.0000\n",
            "Epoch 95/100\n",
            "42/42 [==============================] - 0s 2ms/step - loss: 1.4387e-04 - accuracy: 1.0000\n",
            "Epoch 96/100\n",
            "42/42 [==============================] - 0s 2ms/step - loss: 1.7292e-04 - accuracy: 1.0000\n",
            "Epoch 97/100\n",
            "42/42 [==============================] - 0s 2ms/step - loss: 1.4303e-04 - accuracy: 1.0000\n",
            "Epoch 98/100\n",
            "42/42 [==============================] - 0s 2ms/step - loss: 1.4061e-04 - accuracy: 1.0000\n",
            "Epoch 99/100\n",
            "42/42 [==============================] - 0s 3ms/step - loss: 1.2250e-04 - accuracy: 1.0000\n",
            "Epoch 100/100\n",
            "42/42 [==============================] - 0s 2ms/step - loss: 1.1088e-04 - accuracy: 1.0000\n"
          ],
          "name": "stdout"
        }
      ]
    },
    {
      "cell_type": "code",
      "metadata": {
        "colab": {
          "base_uri": "https://localhost:8080/",
          "height": 541
        },
        "id": "tWZEgxUrjyg7",
        "outputId": "67ef4cd5-a318-4fe8-cf25-58a99630dabb"
      },
      "source": [
        "plt.plot(history.history['loss'], \n",
        "         label='Ошибка на обучающем наборе')\n",
        "plt.xlabel('Эпоха обучения')\n",
        "plt.ylabel('Ошибка')\n",
        "plt.legend()\n",
        "plt.show()\n",
        "\n",
        "plt.plot(history.history['accuracy'], \n",
        "         label='Точность на обучающем наборе')\n",
        "plt.xlabel('Эпоха обучения')\n",
        "plt.ylabel('Точность')\n",
        "plt.legend()\n",
        "plt.show()"
      ],
      "execution_count": null,
      "outputs": [
        {
          "output_type": "display_data",
          "data": {
            "image/png": "[encoded data removed]",
            "text/plain": [
              "<Figure size 432x288 with 1 Axes>"
            ]
          },
          "metadata": {
            "tags": [],
            "needs_background": "light"
          }
        },
        {
          "output_type": "display_data",
          "data": {
            "image/png": "[encoded data removed]",
            "text/plain": [
              "<Figure size 432x288 with 1 Axes>"
            ]
          },
          "metadata": {
            "tags": [],
            "needs_background": "light"
          }
        }
      ]
    },
    {
      "cell_type": "code",
      "metadata": {
        "colab": {
          "base_uri": "https://localhost:8080/"
        },
        "id": "aLj5P03qk-uY",
        "outputId": "6710d065-c8dd-41bf-e18e-92311fe16264"
      },
      "source": [
        "#Вычисляем результаты сети на тестовом наборе\n",
        "scores = model.evaluate(x_test, y_test, verbose=1)\n",
        "#scores состоит из двух знанчений\n",
        "print(\"Доля верных ответов на тестовых данных, в процентах: \", round(scores[1] * 100, 4), \"%\", sep=\"\")"
      ],
      "execution_count": null,
      "outputs": [
        {
          "output_type": "stream",
          "text": [
            "WARNING:tensorflow:5 out of the last 11 calls to <function Model.make_test_function.<locals>.test_function at 0x7fae180b8cb0> triggered tf.function retracing. Tracing is expensive and the excessive number of tracings could be due to (1) creating @tf.function repeatedly in a loop, (2) passing tensors with different shapes, (3) passing Python objects instead of tensors. For (1), please define your @tf.function outside of the loop. For (2), @tf.function has experimental_relax_shapes=True option that relaxes argument shapes that can avoid unnecessary retracing. For (3), please refer to https://www.tensorflow.org/guide/function#controlling_retracing and https://www.tensorflow.org/api_docs/python/tf/function for  more details.\n",
            "2/2 [==============================] - 0s 6ms/step - loss: 1.0271 - accuracy: 0.8571\n",
            "Доля верных ответов на тестовых данных, в процентах: 85.7143%\n"
          ],
          "name": "stdout"
        }
      ]
    },
    {
      "cell_type": "markdown",
      "metadata": {
        "id": "Aa0shw_WnGmF"
      },
      "source": [
        "Точность на тестовой выборке 85.7%\n",
        "Сделали максимальной по размеру обучающую выборку"
      ]
    },
    {
      "cell_type": "code",
      "metadata": {
        "colab": {
          "base_uri": "https://localhost:8080/"
        },
        "id": "1R3pp4NKnMAp",
        "outputId": "ef2baba6-4813-4fb6-cc73-1c65dfd73450"
      },
      "source": [
        "# создадим нейронную сеть \n",
        "model = Sequential()\n",
        "\n",
        "model.add(Dense(64, input_dim=x_train.shape[1],activation='relu'))\n",
        "model.add(Dropout(0.2))\n",
        "model.add(Dense(128, activation='relu'))\n",
        "model.add(Dense(64, activation='relu'))\n",
        "model.add(Dense(1, activation='sigmoid'))\n",
        "\n",
        "model.compile(loss='binary_crossentropy', optimizer=Adam(lr=1e-3), metrics=['accuracy'])\n",
        "\n",
        "history = model.fit(x_train,y_train,\n",
        "                    batch_size=4,\n",
        "                    epochs=100,\n",
        "                    verbose=1)"
      ],
      "execution_count": null,
      "outputs": [
        {
          "output_type": "stream",
          "text": [
            "Epoch 1/100\n",
            "42/42 [==============================] - 1s 2ms/step - loss: 0.7032 - accuracy: 0.4343\n",
            "Epoch 2/100\n",
            "42/42 [==============================] - 0s 3ms/step - loss: 0.6682 - accuracy: 0.5983\n",
            "Epoch 3/100\n",
            "42/42 [==============================] - 0s 2ms/step - loss: 0.5931 - accuracy: 0.7372\n",
            "Epoch 4/100\n",
            "42/42 [==============================] - 0s 2ms/step - loss: 0.5837 - accuracy: 0.6697\n",
            "Epoch 5/100\n",
            "42/42 [==============================] - 0s 2ms/step - loss: 0.4439 - accuracy: 0.8011\n",
            "Epoch 6/100\n",
            "42/42 [==============================] - 0s 2ms/step - loss: 0.4278 - accuracy: 0.7795\n",
            "Epoch 7/100\n",
            "42/42 [==============================] - 0s 2ms/step - loss: 0.4984 - accuracy: 0.7556\n",
            "Epoch 8/100\n",
            "42/42 [==============================] - 0s 2ms/step - loss: 0.4269 - accuracy: 0.7688\n",
            "Epoch 9/100\n",
            "42/42 [==============================] - 0s 2ms/step - loss: 0.3504 - accuracy: 0.8471\n",
            "Epoch 10/100\n",
            "42/42 [==============================] - 0s 3ms/step - loss: 0.3269 - accuracy: 0.8280\n",
            "Epoch 11/100\n",
            "42/42 [==============================] - 0s 3ms/step - loss: 0.3692 - accuracy: 0.8356\n",
            "Epoch 12/100\n",
            "42/42 [==============================] - 0s 2ms/step - loss: 0.3182 - accuracy: 0.8557\n",
            "Epoch 13/100\n",
            "42/42 [==============================] - 0s 2ms/step - loss: 0.3004 - accuracy: 0.8854\n",
            "Epoch 14/100\n",
            "42/42 [==============================] - 0s 2ms/step - loss: 0.3111 - accuracy: 0.8762\n",
            "Epoch 15/100\n",
            "42/42 [==============================] - 0s 2ms/step - loss: 0.2309 - accuracy: 0.9308\n",
            "Epoch 16/100\n",
            "42/42 [==============================] - 0s 2ms/step - loss: 0.2824 - accuracy: 0.8785\n",
            "Epoch 17/100\n",
            "42/42 [==============================] - 0s 2ms/step - loss: 0.2127 - accuracy: 0.8989\n",
            "Epoch 18/100\n",
            "42/42 [==============================] - 0s 2ms/step - loss: 0.2657 - accuracy: 0.8599\n",
            "Epoch 19/100\n",
            "42/42 [==============================] - 0s 2ms/step - loss: 0.2582 - accuracy: 0.8751\n",
            "Epoch 20/100\n",
            "42/42 [==============================] - 0s 2ms/step - loss: 0.2463 - accuracy: 0.8857\n",
            "Epoch 21/100\n",
            "42/42 [==============================] - 0s 3ms/step - loss: 0.2220 - accuracy: 0.8936\n",
            "Epoch 22/100\n",
            "42/42 [==============================] - 0s 2ms/step - loss: 0.2346 - accuracy: 0.8587\n",
            "Epoch 23/100\n",
            "42/42 [==============================] - 0s 2ms/step - loss: 0.2041 - accuracy: 0.8997\n",
            "Epoch 24/100\n",
            "42/42 [==============================] - 0s 2ms/step - loss: 0.1592 - accuracy: 0.9235\n",
            "Epoch 25/100\n",
            "42/42 [==============================] - 0s 2ms/step - loss: 0.1873 - accuracy: 0.9038\n",
            "Epoch 26/100\n",
            "42/42 [==============================] - 0s 2ms/step - loss: 0.1892 - accuracy: 0.9081\n",
            "Epoch 27/100\n",
            "42/42 [==============================] - 0s 2ms/step - loss: 0.1490 - accuracy: 0.9603\n",
            "Epoch 28/100\n",
            "42/42 [==============================] - 0s 2ms/step - loss: 0.1213 - accuracy: 0.9657\n",
            "Epoch 29/100\n",
            "42/42 [==============================] - 0s 2ms/step - loss: 0.1601 - accuracy: 0.9366\n",
            "Epoch 30/100\n",
            "42/42 [==============================] - 0s 2ms/step - loss: 0.1429 - accuracy: 0.9392\n",
            "Epoch 31/100\n",
            "42/42 [==============================] - 0s 2ms/step - loss: 0.1272 - accuracy: 0.9309\n",
            "Epoch 32/100\n",
            "42/42 [==============================] - 0s 2ms/step - loss: 0.1063 - accuracy: 0.9620\n",
            "Epoch 33/100\n",
            "42/42 [==============================] - 0s 2ms/step - loss: 0.1721 - accuracy: 0.9269\n",
            "Epoch 34/100\n",
            "42/42 [==============================] - 0s 2ms/step - loss: 0.0955 - accuracy: 0.9539\n",
            "Epoch 35/100\n",
            "42/42 [==============================] - 0s 3ms/step - loss: 0.1021 - accuracy: 0.9766\n",
            "Epoch 36/100\n",
            "42/42 [==============================] - 0s 2ms/step - loss: 0.0958 - accuracy: 0.9736\n",
            "Epoch 37/100\n",
            "42/42 [==============================] - 0s 2ms/step - loss: 0.1424 - accuracy: 0.9052\n",
            "Epoch 38/100\n",
            "42/42 [==============================] - 0s 2ms/step - loss: 0.1379 - accuracy: 0.9505\n",
            "Epoch 39/100\n",
            "42/42 [==============================] - 0s 2ms/step - loss: 0.0723 - accuracy: 0.9626\n",
            "Epoch 40/100\n",
            "42/42 [==============================] - 0s 2ms/step - loss: 0.1084 - accuracy: 0.9549\n",
            "Epoch 41/100\n",
            "42/42 [==============================] - 0s 2ms/step - loss: 0.0813 - accuracy: 0.9752\n",
            "Epoch 42/100\n",
            "42/42 [==============================] - 0s 2ms/step - loss: 0.0698 - accuracy: 0.9848\n",
            "Epoch 43/100\n",
            "42/42 [==============================] - 0s 2ms/step - loss: 0.0800 - accuracy: 0.9740\n",
            "Epoch 44/100\n",
            "42/42 [==============================] - 0s 2ms/step - loss: 0.1241 - accuracy: 0.9531\n",
            "Epoch 45/100\n",
            "42/42 [==============================] - 0s 2ms/step - loss: 0.0718 - accuracy: 0.9819\n",
            "Epoch 46/100\n",
            "42/42 [==============================] - 0s 2ms/step - loss: 0.0532 - accuracy: 0.9846\n",
            "Epoch 47/100\n",
            "42/42 [==============================] - 0s 2ms/step - loss: 0.0628 - accuracy: 0.9664\n",
            "Epoch 48/100\n",
            "42/42 [==============================] - 0s 2ms/step - loss: 0.0445 - accuracy: 0.9696\n",
            "Epoch 49/100\n",
            "42/42 [==============================] - 0s 2ms/step - loss: 0.0493 - accuracy: 1.0000\n",
            "Epoch 50/100\n",
            "42/42 [==============================] - 0s 3ms/step - loss: 0.0990 - accuracy: 0.9489\n",
            "Epoch 51/100\n",
            "42/42 [==============================] - 0s 2ms/step - loss: 0.1147 - accuracy: 0.9534\n",
            "Epoch 52/100\n",
            "42/42 [==============================] - 0s 2ms/step - loss: 0.1012 - accuracy: 0.9404\n",
            "Epoch 53/100\n",
            "42/42 [==============================] - 0s 3ms/step - loss: 0.0776 - accuracy: 0.9614\n",
            "Epoch 54/100\n",
            "42/42 [==============================] - 0s 2ms/step - loss: 0.0520 - accuracy: 0.9826\n",
            "Epoch 55/100\n",
            "42/42 [==============================] - 0s 2ms/step - loss: 0.0272 - accuracy: 0.9923\n",
            "Epoch 56/100\n",
            "42/42 [==============================] - 0s 2ms/step - loss: 0.0485 - accuracy: 0.9842\n",
            "Epoch 57/100\n",
            "42/42 [==============================] - 0s 3ms/step - loss: 0.0622 - accuracy: 0.9494\n",
            "Epoch 58/100\n",
            "42/42 [==============================] - 0s 2ms/step - loss: 0.0258 - accuracy: 0.9994\n",
            "Epoch 59/100\n",
            "42/42 [==============================] - 0s 2ms/step - loss: 0.0212 - accuracy: 0.9940\n",
            "Epoch 60/100\n",
            "42/42 [==============================] - 0s 2ms/step - loss: 0.0433 - accuracy: 0.9910\n",
            "Epoch 61/100\n",
            "42/42 [==============================] - 0s 2ms/step - loss: 0.0347 - accuracy: 0.9889\n",
            "Epoch 62/100\n",
            "42/42 [==============================] - 0s 3ms/step - loss: 0.0700 - accuracy: 0.9768\n",
            "Epoch 63/100\n",
            "42/42 [==============================] - 0s 2ms/step - loss: 0.0586 - accuracy: 0.9791\n",
            "Epoch 64/100\n",
            "42/42 [==============================] - 0s 2ms/step - loss: 0.0276 - accuracy: 0.9988\n",
            "Epoch 65/100\n",
            "42/42 [==============================] - 0s 2ms/step - loss: 0.0554 - accuracy: 0.9747\n",
            "Epoch 66/100\n",
            "42/42 [==============================] - 0s 2ms/step - loss: 0.0488 - accuracy: 0.9944\n",
            "Epoch 67/100\n",
            "42/42 [==============================] - 0s 2ms/step - loss: 0.0481 - accuracy: 0.9878\n",
            "Epoch 68/100\n",
            "42/42 [==============================] - 0s 2ms/step - loss: 0.0372 - accuracy: 0.9865\n",
            "Epoch 69/100\n",
            "42/42 [==============================] - 0s 3ms/step - loss: 0.0462 - accuracy: 0.9774\n",
            "Epoch 70/100\n",
            "42/42 [==============================] - 0s 2ms/step - loss: 0.0126 - accuracy: 1.0000\n",
            "Epoch 71/100\n",
            "42/42 [==============================] - 0s 3ms/step - loss: 0.0344 - accuracy: 0.9869\n",
            "Epoch 72/100\n",
            "42/42 [==============================] - 0s 2ms/step - loss: 0.0355 - accuracy: 0.9708\n",
            "Epoch 73/100\n",
            "42/42 [==============================] - 0s 2ms/step - loss: 0.0713 - accuracy: 0.9847\n",
            "Epoch 74/100\n",
            "42/42 [==============================] - 0s 2ms/step - loss: 0.1395 - accuracy: 0.9162\n",
            "Epoch 75/100\n",
            "42/42 [==============================] - 0s 2ms/step - loss: 0.2452 - accuracy: 0.8598\n",
            "Epoch 76/100\n",
            "42/42 [==============================] - 0s 2ms/step - loss: 0.0561 - accuracy: 0.9953\n",
            "Epoch 77/100\n",
            "42/42 [==============================] - 0s 2ms/step - loss: 0.0429 - accuracy: 0.9886\n",
            "Epoch 78/100\n",
            "42/42 [==============================] - 0s 2ms/step - loss: 0.0962 - accuracy: 0.9433\n",
            "Epoch 79/100\n",
            "42/42 [==============================] - 0s 2ms/step - loss: 0.1689 - accuracy: 0.9213\n",
            "Epoch 80/100\n",
            "42/42 [==============================] - 0s 2ms/step - loss: 0.0311 - accuracy: 0.9973\n",
            "Epoch 81/100\n",
            "42/42 [==============================] - 0s 2ms/step - loss: 0.0628 - accuracy: 0.9785\n",
            "Epoch 82/100\n",
            "42/42 [==============================] - 0s 2ms/step - loss: 0.0578 - accuracy: 0.9765\n",
            "Epoch 83/100\n",
            "42/42 [==============================] - 0s 2ms/step - loss: 0.0395 - accuracy: 0.9877\n",
            "Epoch 84/100\n",
            "42/42 [==============================] - 0s 2ms/step - loss: 0.0344 - accuracy: 0.9856\n",
            "Epoch 85/100\n",
            "42/42 [==============================] - 0s 2ms/step - loss: 0.0194 - accuracy: 0.9927\n",
            "Epoch 86/100\n",
            "42/42 [==============================] - 0s 2ms/step - loss: 0.0113 - accuracy: 1.0000\n",
            "Epoch 87/100\n",
            "42/42 [==============================] - 0s 2ms/step - loss: 0.0355 - accuracy: 0.9677\n",
            "Epoch 88/100\n",
            "42/42 [==============================] - 0s 3ms/step - loss: 0.0372 - accuracy: 0.9785\n",
            "Epoch 89/100\n",
            "42/42 [==============================] - 0s 2ms/step - loss: 0.0069 - accuracy: 1.0000\n",
            "Epoch 90/100\n",
            "42/42 [==============================] - 0s 2ms/step - loss: 0.0087 - accuracy: 1.0000\n",
            "Epoch 91/100\n",
            "42/42 [==============================] - 0s 2ms/step - loss: 0.0126 - accuracy: 0.9941\n",
            "Epoch 92/100\n",
            "42/42 [==============================] - 0s 2ms/step - loss: 0.0905 - accuracy: 0.9719\n",
            "Epoch 93/100\n",
            "42/42 [==============================] - 0s 2ms/step - loss: 0.0201 - accuracy: 0.9932\n",
            "Epoch 94/100\n",
            "42/42 [==============================] - 0s 2ms/step - loss: 0.0220 - accuracy: 0.9956\n",
            "Epoch 95/100\n",
            "42/42 [==============================] - 0s 2ms/step - loss: 0.0274 - accuracy: 0.9896\n",
            "Epoch 96/100\n",
            "42/42 [==============================] - 0s 3ms/step - loss: 0.0322 - accuracy: 0.9922\n",
            "Epoch 97/100\n",
            "42/42 [==============================] - 0s 3ms/step - loss: 0.0048 - accuracy: 1.0000\n",
            "Epoch 98/100\n",
            "42/42 [==============================] - 0s 2ms/step - loss: 0.0036 - accuracy: 1.0000\n",
            "Epoch 99/100\n",
            "42/42 [==============================] - 0s 2ms/step - loss: 0.0058 - accuracy: 0.9983\n",
            "Epoch 100/100\n",
            "42/42 [==============================] - 0s 2ms/step - loss: 0.2370 - accuracy: 0.9166\n"
          ],
          "name": "stdout"
        }
      ]
    },
    {
      "cell_type": "code",
      "metadata": {
        "colab": {
          "base_uri": "https://localhost:8080/"
        },
        "id": "VbNRtCN3nVux",
        "outputId": "17bed247-d5e5-4589-fa9b-461229324af3"
      },
      "source": [
        "#Вычисляем результаты сети на тестовом наборе\n",
        "scores = model.evaluate(x_test, y_test, verbose=1)\n",
        "#scores состоит из двух знанчений\n",
        "print(\"Доля верных ответов на тестовых данных, в процентах: \", round(scores[1] * 100, 4), \"%\", sep=\"\")"
      ],
      "execution_count": null,
      "outputs": [
        {
          "output_type": "stream",
          "text": [
            "WARNING:tensorflow:6 out of the last 11 calls to <function Model.make_test_function.<locals>.test_function at 0x7fae16bfc0e0> triggered tf.function retracing. Tracing is expensive and the excessive number of tracings could be due to (1) creating @tf.function repeatedly in a loop, (2) passing tensors with different shapes, (3) passing Python objects instead of tensors. For (1), please define your @tf.function outside of the loop. For (2), @tf.function has experimental_relax_shapes=True option that relaxes argument shapes that can avoid unnecessary retracing. For (3), please refer to https://www.tensorflow.org/guide/function#controlling_retracing and https://www.tensorflow.org/api_docs/python/tf/function for  more details.\n",
            "2/2 [==============================] - 0s 5ms/step - loss: 1.1306 - accuracy: 0.8810\n",
            "Доля верных ответов на тестовых данных, в процентах: 88.0952%\n"
          ],
          "name": "stdout"
        }
      ]
    },
    {
      "cell_type": "code",
      "metadata": {
        "colab": {
          "base_uri": "https://localhost:8080/"
        },
        "id": "nNepLmSUnYIx",
        "outputId": "bfe2d14b-c7bb-48ae-93e9-7106ad70a2c8"
      },
      "source": [
        "model.compile(loss='binary_crossentropy', optimizer=Adam(lr=1e-4), metrics=['accuracy'])\n",
        "\n",
        "history = model.fit(x_train,y_train,\n",
        "                    batch_size=4,\n",
        "                    epochs=100,\n",
        "                    verbose=1)"
      ],
      "execution_count": null,
      "outputs": [
        {
          "output_type": "stream",
          "text": [
            "Epoch 1/100\n",
            "42/42 [==============================] - 1s 3ms/step - loss: 0.0508 - accuracy: 0.9775\n",
            "Epoch 2/100\n",
            "42/42 [==============================] - 0s 2ms/step - loss: 0.0450 - accuracy: 0.9914\n",
            "Epoch 3/100\n",
            "42/42 [==============================] - 0s 2ms/step - loss: 0.0239 - accuracy: 0.9931\n",
            "Epoch 4/100\n",
            "42/42 [==============================] - 0s 3ms/step - loss: 0.0455 - accuracy: 0.9847\n",
            "Epoch 5/100\n",
            "42/42 [==============================] - 0s 2ms/step - loss: 0.0432 - accuracy: 0.9699\n",
            "Epoch 6/100\n",
            "42/42 [==============================] - 0s 2ms/step - loss: 0.0200 - accuracy: 0.9944\n",
            "Epoch 7/100\n",
            "42/42 [==============================] - 0s 2ms/step - loss: 0.0087 - accuracy: 1.0000\n",
            "Epoch 8/100\n",
            "42/42 [==============================] - 0s 2ms/step - loss: 0.0118 - accuracy: 0.9973\n",
            "Epoch 9/100\n",
            "42/42 [==============================] - 0s 2ms/step - loss: 0.0159 - accuracy: 1.0000\n",
            "Epoch 10/100\n",
            "42/42 [==============================] - 0s 2ms/step - loss: 0.0178 - accuracy: 1.0000\n",
            "Epoch 11/100\n",
            "42/42 [==============================] - 0s 2ms/step - loss: 0.0157 - accuracy: 0.9927\n",
            "Epoch 12/100\n",
            "42/42 [==============================] - 0s 2ms/step - loss: 0.0056 - accuracy: 1.0000\n",
            "Epoch 13/100\n",
            "42/42 [==============================] - 0s 2ms/step - loss: 0.0102 - accuracy: 1.0000\n",
            "Epoch 14/100\n",
            "42/42 [==============================] - 0s 3ms/step - loss: 0.0160 - accuracy: 1.0000\n",
            "Epoch 15/100\n",
            "42/42 [==============================] - 0s 2ms/step - loss: 0.0040 - accuracy: 1.0000\n",
            "Epoch 16/100\n",
            "42/42 [==============================] - 0s 2ms/step - loss: 0.0175 - accuracy: 0.9962\n",
            "Epoch 17/100\n",
            "42/42 [==============================] - 0s 2ms/step - loss: 0.0056 - accuracy: 1.0000\n",
            "Epoch 18/100\n",
            "42/42 [==============================] - 0s 2ms/step - loss: 0.0059 - accuracy: 1.0000\n",
            "Epoch 19/100\n",
            "42/42 [==============================] - 0s 2ms/step - loss: 0.0061 - accuracy: 1.0000\n",
            "Epoch 20/100\n",
            "42/42 [==============================] - 0s 2ms/step - loss: 0.0053 - accuracy: 1.0000\n",
            "Epoch 21/100\n",
            "42/42 [==============================] - 0s 2ms/step - loss: 0.0133 - accuracy: 0.9947\n",
            "Epoch 22/100\n",
            "42/42 [==============================] - 0s 2ms/step - loss: 0.0022 - accuracy: 1.0000\n",
            "Epoch 23/100\n",
            "42/42 [==============================] - 0s 2ms/step - loss: 0.0055 - accuracy: 1.0000\n",
            "Epoch 24/100\n",
            "42/42 [==============================] - 0s 2ms/step - loss: 0.0046 - accuracy: 1.0000\n",
            "Epoch 25/100\n",
            "42/42 [==============================] - 0s 2ms/step - loss: 0.0162 - accuracy: 0.9953\n",
            "Epoch 26/100\n",
            "42/42 [==============================] - 0s 2ms/step - loss: 0.0041 - accuracy: 1.0000\n",
            "Epoch 27/100\n",
            "42/42 [==============================] - 0s 2ms/step - loss: 0.0024 - accuracy: 1.0000\n",
            "Epoch 28/100\n",
            "42/42 [==============================] - 0s 2ms/step - loss: 0.0039 - accuracy: 0.9975\n",
            "Epoch 29/100\n",
            "42/42 [==============================] - 0s 2ms/step - loss: 0.0058 - accuracy: 1.0000\n",
            "Epoch 30/100\n",
            "42/42 [==============================] - 0s 2ms/step - loss: 0.0014 - accuracy: 1.0000\n",
            "Epoch 31/100\n",
            "42/42 [==============================] - 0s 2ms/step - loss: 0.0124 - accuracy: 1.0000\n",
            "Epoch 32/100\n",
            "42/42 [==============================] - 0s 2ms/step - loss: 0.0023 - accuracy: 0.9996\n",
            "Epoch 33/100\n",
            "42/42 [==============================] - 0s 2ms/step - loss: 0.0049 - accuracy: 1.0000\n",
            "Epoch 34/100\n",
            "42/42 [==============================] - 0s 2ms/step - loss: 0.0093 - accuracy: 0.9975\n",
            "Epoch 35/100\n",
            "42/42 [==============================] - 0s 2ms/step - loss: 0.0049 - accuracy: 0.9983\n",
            "Epoch 36/100\n",
            "42/42 [==============================] - 0s 2ms/step - loss: 0.0063 - accuracy: 1.0000\n",
            "Epoch 37/100\n",
            "42/42 [==============================] - 0s 2ms/step - loss: 0.0047 - accuracy: 1.0000\n",
            "Epoch 38/100\n",
            "42/42 [==============================] - 0s 2ms/step - loss: 0.0016 - accuracy: 1.0000\n",
            "Epoch 39/100\n",
            "42/42 [==============================] - 0s 2ms/step - loss: 0.0182 - accuracy: 0.9889\n",
            "Epoch 40/100\n",
            "42/42 [==============================] - 0s 3ms/step - loss: 0.0029 - accuracy: 1.0000\n",
            "Epoch 41/100\n",
            "42/42 [==============================] - 0s 2ms/step - loss: 0.0116 - accuracy: 1.0000\n",
            "Epoch 42/100\n",
            "42/42 [==============================] - 0s 2ms/step - loss: 0.0111 - accuracy: 0.9983\n",
            "Epoch 43/100\n",
            "42/42 [==============================] - 0s 2ms/step - loss: 0.0069 - accuracy: 0.9962\n",
            "Epoch 44/100\n",
            "42/42 [==============================] - 0s 2ms/step - loss: 0.0451 - accuracy: 0.9854\n",
            "Epoch 45/100\n",
            "42/42 [==============================] - 0s 2ms/step - loss: 0.0199 - accuracy: 0.9950\n",
            "Epoch 46/100\n",
            "42/42 [==============================] - 0s 2ms/step - loss: 0.0078 - accuracy: 1.0000\n",
            "Epoch 47/100\n",
            "42/42 [==============================] - 0s 2ms/step - loss: 0.0079 - accuracy: 1.0000\n",
            "Epoch 48/100\n",
            "42/42 [==============================] - 0s 2ms/step - loss: 0.0019 - accuracy: 1.0000\n",
            "Epoch 49/100\n",
            "42/42 [==============================] - 0s 2ms/step - loss: 0.0034 - accuracy: 0.9986\n",
            "Epoch 50/100\n",
            "42/42 [==============================] - 0s 3ms/step - loss: 0.0060 - accuracy: 1.0000\n",
            "Epoch 51/100\n",
            "42/42 [==============================] - 0s 2ms/step - loss: 0.0028 - accuracy: 1.0000\n",
            "Epoch 52/100\n",
            "42/42 [==============================] - 0s 2ms/step - loss: 0.0086 - accuracy: 1.0000\n",
            "Epoch 53/100\n",
            "42/42 [==============================] - 0s 2ms/step - loss: 0.0194 - accuracy: 0.9927\n",
            "Epoch 54/100\n",
            "42/42 [==============================] - 0s 2ms/step - loss: 0.0034 - accuracy: 1.0000\n",
            "Epoch 55/100\n",
            "42/42 [==============================] - 0s 2ms/step - loss: 0.0046 - accuracy: 1.0000\n",
            "Epoch 56/100\n",
            "42/42 [==============================] - 0s 2ms/step - loss: 0.0016 - accuracy: 1.0000\n",
            "Epoch 57/100\n",
            "42/42 [==============================] - 0s 3ms/step - loss: 0.0074 - accuracy: 1.0000\n",
            "Epoch 58/100\n",
            "42/42 [==============================] - 0s 2ms/step - loss: 0.0037 - accuracy: 1.0000\n",
            "Epoch 59/100\n",
            "42/42 [==============================] - 0s 2ms/step - loss: 0.0015 - accuracy: 1.0000\n",
            "Epoch 60/100\n",
            "42/42 [==============================] - 0s 2ms/step - loss: 0.0033 - accuracy: 1.0000\n",
            "Epoch 61/100\n",
            "42/42 [==============================] - 0s 2ms/step - loss: 0.0068 - accuracy: 1.0000\n",
            "Epoch 62/100\n",
            "42/42 [==============================] - 0s 3ms/step - loss: 0.0018 - accuracy: 1.0000\n",
            "Epoch 63/100\n",
            "42/42 [==============================] - 0s 2ms/step - loss: 0.0080 - accuracy: 1.0000\n",
            "Epoch 64/100\n",
            "42/42 [==============================] - 0s 2ms/step - loss: 0.0023 - accuracy: 1.0000\n",
            "Epoch 65/100\n",
            "42/42 [==============================] - 0s 3ms/step - loss: 0.0153 - accuracy: 0.9880\n",
            "Epoch 66/100\n",
            "42/42 [==============================] - 0s 2ms/step - loss: 0.0033 - accuracy: 0.9988\n",
            "Epoch 67/100\n",
            "42/42 [==============================] - 0s 2ms/step - loss: 0.0066 - accuracy: 0.9977\n",
            "Epoch 68/100\n",
            "42/42 [==============================] - 0s 3ms/step - loss: 7.4239e-04 - accuracy: 1.0000\n",
            "Epoch 69/100\n",
            "42/42 [==============================] - 0s 2ms/step - loss: 0.0045 - accuracy: 0.9973\n",
            "Epoch 70/100\n",
            "42/42 [==============================] - 0s 3ms/step - loss: 0.0078 - accuracy: 1.0000\n",
            "Epoch 71/100\n",
            "42/42 [==============================] - 0s 3ms/step - loss: 0.0046 - accuracy: 1.0000\n",
            "Epoch 72/100\n",
            "42/42 [==============================] - 0s 2ms/step - loss: 0.0033 - accuracy: 1.0000\n",
            "Epoch 73/100\n",
            "42/42 [==============================] - 0s 2ms/step - loss: 0.0118 - accuracy: 0.9950\n",
            "Epoch 74/100\n",
            "42/42 [==============================] - 0s 3ms/step - loss: 0.0344 - accuracy: 0.9747\n",
            "Epoch 75/100\n",
            "42/42 [==============================] - 0s 2ms/step - loss: 0.0057 - accuracy: 1.0000\n",
            "Epoch 76/100\n",
            "42/42 [==============================] - 0s 2ms/step - loss: 0.0028 - accuracy: 1.0000\n",
            "Epoch 77/100\n",
            "42/42 [==============================] - 0s 2ms/step - loss: 0.0014 - accuracy: 1.0000\n",
            "Epoch 78/100\n",
            "42/42 [==============================] - 0s 2ms/step - loss: 0.0039 - accuracy: 1.0000\n",
            "Epoch 79/100\n",
            "42/42 [==============================] - 0s 2ms/step - loss: 0.0021 - accuracy: 1.0000\n",
            "Epoch 80/100\n",
            "42/42 [==============================] - 0s 2ms/step - loss: 0.0010 - accuracy: 1.0000\n",
            "Epoch 81/100\n",
            "42/42 [==============================] - 0s 3ms/step - loss: 0.0044 - accuracy: 1.0000\n",
            "Epoch 82/100\n",
            "42/42 [==============================] - 0s 3ms/step - loss: 0.0088 - accuracy: 0.9959\n",
            "Epoch 83/100\n",
            "42/42 [==============================] - 0s 2ms/step - loss: 0.0030 - accuracy: 1.0000\n",
            "Epoch 84/100\n",
            "42/42 [==============================] - 0s 2ms/step - loss: 0.0022 - accuracy: 1.0000\n",
            "Epoch 85/100\n",
            "42/42 [==============================] - 0s 2ms/step - loss: 0.0041 - accuracy: 1.0000\n",
            "Epoch 86/100\n",
            "42/42 [==============================] - 0s 2ms/step - loss: 0.0035 - accuracy: 1.0000\n",
            "Epoch 87/100\n",
            "42/42 [==============================] - 0s 2ms/step - loss: 0.0064 - accuracy: 0.9950\n",
            "Epoch 88/100\n",
            "42/42 [==============================] - 0s 2ms/step - loss: 0.0049 - accuracy: 1.0000\n",
            "Epoch 89/100\n",
            "42/42 [==============================] - 0s 2ms/step - loss: 0.0011 - accuracy: 1.0000\n",
            "Epoch 90/100\n",
            "42/42 [==============================] - 0s 3ms/step - loss: 0.0017 - accuracy: 1.0000\n",
            "Epoch 91/100\n",
            "42/42 [==============================] - 0s 2ms/step - loss: 0.0022 - accuracy: 1.0000\n",
            "Epoch 92/100\n",
            "42/42 [==============================] - 0s 2ms/step - loss: 0.0051 - accuracy: 1.0000\n",
            "Epoch 93/100\n",
            "42/42 [==============================] - 0s 2ms/step - loss: 0.0297 - accuracy: 0.9747\n",
            "Epoch 94/100\n",
            "42/42 [==============================] - 0s 3ms/step - loss: 0.0032 - accuracy: 1.0000\n",
            "Epoch 95/100\n",
            "42/42 [==============================] - 0s 2ms/step - loss: 0.0029 - accuracy: 1.0000\n",
            "Epoch 96/100\n",
            "42/42 [==============================] - 0s 2ms/step - loss: 0.0097 - accuracy: 1.0000\n",
            "Epoch 97/100\n",
            "42/42 [==============================] - 0s 2ms/step - loss: 0.0013 - accuracy: 1.0000\n",
            "Epoch 98/100\n",
            "42/42 [==============================] - 0s 2ms/step - loss: 6.9971e-04 - accuracy: 1.0000\n",
            "Epoch 99/100\n",
            "42/42 [==============================] - 0s 3ms/step - loss: 0.0104 - accuracy: 0.9947\n",
            "Epoch 100/100\n",
            "42/42 [==============================] - 0s 3ms/step - loss: 0.0011 - accuracy: 1.0000\n"
          ],
          "name": "stdout"
        }
      ]
    },
    {
      "cell_type": "code",
      "metadata": {
        "colab": {
          "base_uri": "https://localhost:8080/"
        },
        "id": "vzWHj-OEnadg",
        "outputId": "1e7e4d6b-f55b-42a1-d062-631e59f13574"
      },
      "source": [
        "#Вычисляем результаты сети на тестовом наборе\n",
        "scores = model.evaluate(x_test, y_test, verbose=1)\n",
        "#scores состоит из двух знанчений\n",
        "print(\"Доля верных ответов на тестовых данных, в процентах: \", round(scores[1] * 100, 4), \"%\", sep=\"\")"
      ],
      "execution_count": null,
      "outputs": [
        {
          "output_type": "stream",
          "text": [
            "WARNING:tensorflow:6 out of the last 11 calls to <function Model.make_test_function.<locals>.test_function at 0x7fae1920c050> triggered tf.function retracing. Tracing is expensive and the excessive number of tracings could be due to (1) creating @tf.function repeatedly in a loop, (2) passing tensors with different shapes, (3) passing Python objects instead of tensors. For (1), please define your @tf.function outside of the loop. For (2), @tf.function has experimental_relax_shapes=True option that relaxes argument shapes that can avoid unnecessary retracing. For (3), please refer to https://www.tensorflow.org/guide/function#controlling_retracing and https://www.tensorflow.org/api_docs/python/tf/function for  more details.\n",
            "2/2 [==============================] - 0s 5ms/step - loss: 1.5829 - accuracy: 0.8095\n",
            "Доля верных ответов на тестовых данных, в процентах: 80.9524%\n"
          ],
          "name": "stdout"
        }
      ]
    },
    {
      "cell_type": "markdown",
      "metadata": {
        "id": "A9cymqyPoFX4"
      },
      "source": [
        "Обучение на меньшем шаге - уменьшает точность на тестовой - сеть переобучается на обучающей выборке"
      ]
    },
    {
      "cell_type": "code",
      "metadata": {
        "colab": {
          "base_uri": "https://localhost:8080/"
        },
        "id": "7PkMKprhoM2J",
        "outputId": "e2d73dd8-f262-479f-b0ae-7b5e76b1d192"
      },
      "source": [
        "# создадим нейронную сеть \n",
        "model = Sequential()\n",
        "\n",
        "model.add(Dense(64, input_dim=x_train.shape[1],activation='relu'))\n",
        "model.add(Dropout(0.2))\n",
        "model.add(BatchNormalization())\n",
        "model.add(Dense(128, activation='relu'))\n",
        "model.add(Dense(64, activation='relu'))\n",
        "model.add(Dense(1, activation='sigmoid'))\n",
        "\n",
        "model.compile(loss='binary_crossentropy', optimizer=Adam(lr=1e-3), metrics=['accuracy'])\n",
        "\n",
        "history = model.fit(x_train,y_train,\n",
        "                    batch_size=4,\n",
        "                    epochs=100,\n",
        "                    verbose=1)"
      ],
      "execution_count": null,
      "outputs": [
        {
          "output_type": "stream",
          "text": [
            "Epoch 1/100\n",
            "42/42 [==============================] - 1s 3ms/step - loss: 0.7180 - accuracy: 0.5068\n",
            "Epoch 2/100\n",
            "42/42 [==============================] - 0s 3ms/step - loss: 0.5763 - accuracy: 0.7060\n",
            "Epoch 3/100\n",
            "42/42 [==============================] - 0s 3ms/step - loss: 0.5752 - accuracy: 0.6930\n",
            "Epoch 4/100\n",
            "42/42 [==============================] - 0s 3ms/step - loss: 0.5255 - accuracy: 0.7763\n",
            "Epoch 5/100\n",
            "42/42 [==============================] - 0s 3ms/step - loss: 0.5090 - accuracy: 0.7126\n",
            "Epoch 6/100\n",
            "42/42 [==============================] - 0s 3ms/step - loss: 0.4977 - accuracy: 0.7598\n",
            "Epoch 7/100\n",
            "42/42 [==============================] - 0s 3ms/step - loss: 0.5318 - accuracy: 0.7331\n",
            "Epoch 8/100\n",
            "42/42 [==============================] - 0s 3ms/step - loss: 0.4789 - accuracy: 0.7612\n",
            "Epoch 9/100\n",
            "42/42 [==============================] - 0s 3ms/step - loss: 0.4098 - accuracy: 0.8442\n",
            "Epoch 10/100\n",
            "42/42 [==============================] - 0s 3ms/step - loss: 0.5039 - accuracy: 0.7412\n",
            "Epoch 11/100\n",
            "42/42 [==============================] - 0s 3ms/step - loss: 0.4702 - accuracy: 0.7603\n",
            "Epoch 12/100\n",
            "42/42 [==============================] - 0s 3ms/step - loss: 0.4155 - accuracy: 0.8268\n",
            "Epoch 13/100\n",
            "42/42 [==============================] - 0s 3ms/step - loss: 0.4049 - accuracy: 0.8597\n",
            "Epoch 14/100\n",
            "42/42 [==============================] - 0s 3ms/step - loss: 0.5228 - accuracy: 0.7331\n",
            "Epoch 15/100\n",
            "42/42 [==============================] - 0s 3ms/step - loss: 0.3916 - accuracy: 0.8420\n",
            "Epoch 16/100\n",
            "42/42 [==============================] - 0s 3ms/step - loss: 0.3895 - accuracy: 0.7893\n",
            "Epoch 17/100\n",
            "42/42 [==============================] - 0s 3ms/step - loss: 0.4679 - accuracy: 0.7314\n",
            "Epoch 18/100\n",
            "42/42 [==============================] - 0s 3ms/step - loss: 0.3414 - accuracy: 0.8172\n",
            "Epoch 19/100\n",
            "42/42 [==============================] - 0s 3ms/step - loss: 0.4695 - accuracy: 0.7627\n",
            "Epoch 20/100\n",
            "42/42 [==============================] - 0s 3ms/step - loss: 0.4224 - accuracy: 0.8102\n",
            "Epoch 21/100\n",
            "42/42 [==============================] - 0s 3ms/step - loss: 0.3496 - accuracy: 0.8277\n",
            "Epoch 22/100\n",
            "42/42 [==============================] - 0s 3ms/step - loss: 0.2996 - accuracy: 0.8451\n",
            "Epoch 23/100\n",
            "42/42 [==============================] - 0s 3ms/step - loss: 0.3234 - accuracy: 0.8556\n",
            "Epoch 24/100\n",
            "42/42 [==============================] - 0s 3ms/step - loss: 0.3461 - accuracy: 0.8194\n",
            "Epoch 25/100\n",
            "42/42 [==============================] - 0s 3ms/step - loss: 0.3355 - accuracy: 0.8760\n",
            "Epoch 26/100\n",
            "42/42 [==============================] - 0s 3ms/step - loss: 0.4312 - accuracy: 0.8165\n",
            "Epoch 27/100\n",
            "42/42 [==============================] - 0s 3ms/step - loss: 0.4047 - accuracy: 0.8077\n",
            "Epoch 28/100\n",
            "42/42 [==============================] - 0s 3ms/step - loss: 0.3832 - accuracy: 0.8315\n",
            "Epoch 29/100\n",
            "42/42 [==============================] - 0s 3ms/step - loss: 0.2868 - accuracy: 0.8769\n",
            "Epoch 30/100\n",
            "42/42 [==============================] - 0s 3ms/step - loss: 0.3261 - accuracy: 0.8770\n",
            "Epoch 31/100\n",
            "42/42 [==============================] - 0s 3ms/step - loss: 0.3652 - accuracy: 0.8465\n",
            "Epoch 32/100\n",
            "42/42 [==============================] - 0s 3ms/step - loss: 0.4075 - accuracy: 0.7836\n",
            "Epoch 33/100\n",
            "42/42 [==============================] - 0s 3ms/step - loss: 0.4005 - accuracy: 0.8097\n",
            "Epoch 34/100\n",
            "42/42 [==============================] - 0s 3ms/step - loss: 0.2779 - accuracy: 0.8537\n",
            "Epoch 35/100\n",
            "42/42 [==============================] - 0s 3ms/step - loss: 0.2051 - accuracy: 0.9054\n",
            "Epoch 36/100\n",
            "42/42 [==============================] - 0s 3ms/step - loss: 0.3161 - accuracy: 0.8375\n",
            "Epoch 37/100\n",
            "42/42 [==============================] - 0s 3ms/step - loss: 0.3355 - accuracy: 0.8549\n",
            "Epoch 38/100\n",
            "42/42 [==============================] - 0s 3ms/step - loss: 0.3916 - accuracy: 0.8078\n",
            "Epoch 39/100\n",
            "42/42 [==============================] - 0s 3ms/step - loss: 0.3642 - accuracy: 0.8228\n",
            "Epoch 40/100\n",
            "42/42 [==============================] - 0s 3ms/step - loss: 0.2786 - accuracy: 0.8912\n",
            "Epoch 41/100\n",
            "42/42 [==============================] - 0s 3ms/step - loss: 0.3363 - accuracy: 0.8410\n",
            "Epoch 42/100\n",
            "42/42 [==============================] - 0s 3ms/step - loss: 0.2357 - accuracy: 0.8842\n",
            "Epoch 43/100\n",
            "42/42 [==============================] - 0s 3ms/step - loss: 0.2626 - accuracy: 0.8655\n",
            "Epoch 44/100\n",
            "42/42 [==============================] - 0s 3ms/step - loss: 0.3190 - accuracy: 0.8356\n",
            "Epoch 45/100\n",
            "42/42 [==============================] - 0s 3ms/step - loss: 0.2992 - accuracy: 0.8947\n",
            "Epoch 46/100\n",
            "42/42 [==============================] - 0s 3ms/step - loss: 0.2820 - accuracy: 0.8762\n",
            "Epoch 47/100\n",
            "42/42 [==============================] - 0s 3ms/step - loss: 0.2676 - accuracy: 0.8828\n",
            "Epoch 48/100\n",
            "42/42 [==============================] - 0s 3ms/step - loss: 0.2240 - accuracy: 0.9194\n",
            "Epoch 49/100\n",
            "42/42 [==============================] - 0s 3ms/step - loss: 0.3009 - accuracy: 0.8726\n",
            "Epoch 50/100\n",
            "42/42 [==============================] - 0s 3ms/step - loss: 0.2436 - accuracy: 0.8863\n",
            "Epoch 51/100\n",
            "42/42 [==============================] - 0s 3ms/step - loss: 0.2659 - accuracy: 0.8744\n",
            "Epoch 52/100\n",
            "42/42 [==============================] - 0s 3ms/step - loss: 0.2512 - accuracy: 0.8966\n",
            "Epoch 53/100\n",
            "42/42 [==============================] - 0s 3ms/step - loss: 0.3565 - accuracy: 0.8228\n",
            "Epoch 54/100\n",
            "42/42 [==============================] - 0s 3ms/step - loss: 0.3240 - accuracy: 0.8887\n",
            "Epoch 55/100\n",
            "42/42 [==============================] - 0s 3ms/step - loss: 0.2900 - accuracy: 0.8747\n",
            "Epoch 56/100\n",
            "42/42 [==============================] - 0s 3ms/step - loss: 0.2587 - accuracy: 0.8749\n",
            "Epoch 57/100\n",
            "42/42 [==============================] - 0s 3ms/step - loss: 0.3254 - accuracy: 0.8869\n",
            "Epoch 58/100\n",
            "42/42 [==============================] - 0s 3ms/step - loss: 0.2042 - accuracy: 0.9236\n",
            "Epoch 59/100\n",
            "42/42 [==============================] - 0s 3ms/step - loss: 0.3282 - accuracy: 0.8554\n",
            "Epoch 60/100\n",
            "42/42 [==============================] - 0s 3ms/step - loss: 0.2355 - accuracy: 0.9224\n",
            "Epoch 61/100\n",
            "42/42 [==============================] - 0s 3ms/step - loss: 0.2642 - accuracy: 0.8967\n",
            "Epoch 62/100\n",
            "42/42 [==============================] - 0s 3ms/step - loss: 0.2939 - accuracy: 0.8442\n",
            "Epoch 63/100\n",
            "42/42 [==============================] - 0s 3ms/step - loss: 0.2706 - accuracy: 0.8552\n",
            "Epoch 64/100\n",
            "42/42 [==============================] - 0s 3ms/step - loss: 0.3074 - accuracy: 0.8332\n",
            "Epoch 65/100\n",
            "42/42 [==============================] - 0s 3ms/step - loss: 0.3194 - accuracy: 0.8146\n",
            "Epoch 66/100\n",
            "42/42 [==============================] - 0s 3ms/step - loss: 0.2093 - accuracy: 0.9178\n",
            "Epoch 67/100\n",
            "42/42 [==============================] - 0s 3ms/step - loss: 0.2200 - accuracy: 0.9067\n",
            "Epoch 68/100\n",
            "42/42 [==============================] - 0s 3ms/step - loss: 0.2041 - accuracy: 0.8936\n",
            "Epoch 69/100\n",
            "42/42 [==============================] - 0s 3ms/step - loss: 0.2468 - accuracy: 0.9071\n",
            "Epoch 70/100\n",
            "42/42 [==============================] - 0s 3ms/step - loss: 0.2486 - accuracy: 0.8672\n",
            "Epoch 71/100\n",
            "42/42 [==============================] - 0s 3ms/step - loss: 0.3023 - accuracy: 0.8364\n",
            "Epoch 72/100\n",
            "42/42 [==============================] - 0s 3ms/step - loss: 0.2317 - accuracy: 0.8989\n",
            "Epoch 73/100\n",
            "42/42 [==============================] - 0s 3ms/step - loss: 0.3649 - accuracy: 0.8669\n",
            "Epoch 74/100\n",
            "42/42 [==============================] - 0s 3ms/step - loss: 0.2848 - accuracy: 0.8961\n",
            "Epoch 75/100\n",
            "42/42 [==============================] - 0s 3ms/step - loss: 0.2259 - accuracy: 0.9138\n",
            "Epoch 76/100\n",
            "42/42 [==============================] - 0s 3ms/step - loss: 0.2633 - accuracy: 0.8845\n",
            "Epoch 77/100\n",
            "42/42 [==============================] - 0s 3ms/step - loss: 0.2600 - accuracy: 0.8789\n",
            "Epoch 78/100\n",
            "42/42 [==============================] - 0s 3ms/step - loss: 0.2689 - accuracy: 0.8828\n",
            "Epoch 79/100\n",
            "42/42 [==============================] - 0s 3ms/step - loss: 0.2991 - accuracy: 0.8461\n",
            "Epoch 80/100\n",
            "42/42 [==============================] - 0s 3ms/step - loss: 0.1974 - accuracy: 0.9258\n",
            "Epoch 81/100\n",
            "42/42 [==============================] - 0s 3ms/step - loss: 0.2034 - accuracy: 0.9297\n",
            "Epoch 82/100\n",
            "42/42 [==============================] - 0s 3ms/step - loss: 0.2438 - accuracy: 0.8598\n",
            "Epoch 83/100\n",
            "42/42 [==============================] - 0s 3ms/step - loss: 0.2317 - accuracy: 0.9038\n",
            "Epoch 84/100\n",
            "42/42 [==============================] - 0s 3ms/step - loss: 0.2127 - accuracy: 0.9133\n",
            "Epoch 85/100\n",
            "42/42 [==============================] - 0s 3ms/step - loss: 0.3004 - accuracy: 0.8423\n",
            "Epoch 86/100\n",
            "42/42 [==============================] - 0s 3ms/step - loss: 0.2981 - accuracy: 0.8395\n",
            "Epoch 87/100\n",
            "42/42 [==============================] - 0s 3ms/step - loss: 0.2356 - accuracy: 0.8980\n",
            "Epoch 88/100\n",
            "42/42 [==============================] - 0s 3ms/step - loss: 0.1580 - accuracy: 0.9510\n",
            "Epoch 89/100\n",
            "42/42 [==============================] - 0s 3ms/step - loss: 0.2183 - accuracy: 0.8937\n",
            "Epoch 90/100\n",
            "42/42 [==============================] - 0s 3ms/step - loss: 0.2888 - accuracy: 0.8716\n",
            "Epoch 91/100\n",
            "42/42 [==============================] - 0s 3ms/step - loss: 0.2696 - accuracy: 0.8856\n",
            "Epoch 92/100\n",
            "42/42 [==============================] - 0s 3ms/step - loss: 0.2959 - accuracy: 0.8632\n",
            "Epoch 93/100\n",
            "42/42 [==============================] - 0s 3ms/step - loss: 0.2639 - accuracy: 0.8624\n",
            "Epoch 94/100\n",
            "42/42 [==============================] - 0s 3ms/step - loss: 0.1532 - accuracy: 0.9528\n",
            "Epoch 95/100\n",
            "42/42 [==============================] - 0s 3ms/step - loss: 0.2366 - accuracy: 0.9216\n",
            "Epoch 96/100\n",
            "42/42 [==============================] - 0s 3ms/step - loss: 0.2324 - accuracy: 0.8977\n",
            "Epoch 97/100\n",
            "42/42 [==============================] - 0s 3ms/step - loss: 0.2235 - accuracy: 0.9070\n",
            "Epoch 98/100\n",
            "42/42 [==============================] - 0s 3ms/step - loss: 0.1911 - accuracy: 0.9309\n",
            "Epoch 99/100\n",
            "42/42 [==============================] - 0s 3ms/step - loss: 0.2287 - accuracy: 0.9082\n",
            "Epoch 100/100\n",
            "42/42 [==============================] - 0s 3ms/step - loss: 0.2263 - accuracy: 0.9304\n"
          ],
          "name": "stdout"
        }
      ]
    },
    {
      "cell_type": "code",
      "metadata": {
        "colab": {
          "base_uri": "https://localhost:8080/"
        },
        "id": "tWuZQLBxoPGl",
        "outputId": "0b4f6460-90d9-4294-9824-0e21a9eeeff2"
      },
      "source": [
        "#Вычисляем результаты сети на тестовом наборе\n",
        "scores = model.evaluate(x_test, y_test, verbose=1)\n",
        "#scores состоит из двух знанчений\n",
        "print(\"Доля верных ответов на тестовых данных, в процентах: \", round(scores[1] * 100, 4), \"%\", sep=\"\")"
      ],
      "execution_count": null,
      "outputs": [
        {
          "output_type": "stream",
          "text": [
            "WARNING:tensorflow:6 out of the last 11 calls to <function Model.make_test_function.<locals>.test_function at 0x7fae9012f200> triggered tf.function retracing. Tracing is expensive and the excessive number of tracings could be due to (1) creating @tf.function repeatedly in a loop, (2) passing tensors with different shapes, (3) passing Python objects instead of tensors. For (1), please define your @tf.function outside of the loop. For (2), @tf.function has experimental_relax_shapes=True option that relaxes argument shapes that can avoid unnecessary retracing. For (3), please refer to https://www.tensorflow.org/guide/function#controlling_retracing and https://www.tensorflow.org/api_docs/python/tf/function for  more details.\n",
            "2/2 [==============================] - 0s 5ms/step - loss: 0.7094 - accuracy: 0.7857\n",
            "Доля верных ответов на тестовых данных, в процентах: 78.5714%\n"
          ],
          "name": "stdout"
        }
      ]
    },
    {
      "cell_type": "markdown",
      "metadata": {
        "id": "6-Ip1nuNolH4"
      },
      "source": [
        "Слой нормализации ухудшает точность"
      ]
    },
    {
      "cell_type": "markdown",
      "metadata": {
        "id": "2FDkr4V9onj4"
      },
      "source": [
        "В итоге лучшая точность 88%!"
      ]
    },
    {
      "cell_type": "markdown",
      "metadata": {
        "id": "KyID5ZF8opXh"
      },
      "source": [
        "#Задание Ultra pro\n",
        "\n",
        "По подготовленным на занятии данным, создайте обучающую, тестовую и проверочную выборки. \n",
        "\n",
        "По сформированным данным необходимо обучить модель для предсказания цены машины. \n",
        "\n",
        "Оцените качество работы созданной сети, определив средний процент ошибки на проверочной выборке. \n",
        "\n",
        "(Для этого потребуется привести предсказанные моделью значения к первоначальному диапазону цен. Это можно сделать с помощью следующего метода:\n",
        "\n",
        "predict_inverse = y_scaler.inverse_transform(predict).flatten()\n",
        "\n",
        "где predict - результат предсказания модели.\n",
        "\n",
        "Затем подсчитайте среднюю ошибку на тестовой выборке, среднюю цену и средний процент ошибки.\n",
        "\n",
        "Рекомендации:\n",
        "\n",
        "* В качестве ошибки рекомендуется использовать среднеквадратическую ошибку (mse).\n",
        "\n",
        "* Метрику для данной задачи можно не использовать.\n",
        "\n",
        "* Последний слой модели должен иметь 1 нейрон."
      ]
    },
    {
      "cell_type": "code",
      "metadata": {
        "colab": {
          "base_uri": "https://localhost:8080/",
          "height": 374
        },
        "id": "wwABQhMJo3OP",
        "outputId": "88693921-94f6-4cbf-b7bd-86eea7502b9b"
      },
      "source": [
        "cars = pd.read_csv('/content/cars_new.csv', sep=',')\n",
        "cars[:10]"
      ],
      "execution_count": null,
      "outputs": [
        {
          "output_type": "execute_result",
          "data": {
            "text/html": [
              "<div>\n",
              "<style scoped>\n",
              "    .dataframe tbody tr th:only-of-type {\n",
              "        vertical-align: middle;\n",
              "    }\n",
              "\n",
              "    .dataframe tbody tr th {\n",
              "        vertical-align: top;\n",
              "    }\n",
              "\n",
              "    .dataframe thead th {\n",
              "        text-align: right;\n",
              "    }\n",
              "</style>\n",
              "<table border=\"1\" class=\"dataframe\">\n",
              "  <thead>\n",
              "    <tr style=\"text-align: right;\">\n",
              "      <th></th>\n",
              "      <th>mark</th>\n",
              "      <th>model</th>\n",
              "      <th>price</th>\n",
              "      <th>year</th>\n",
              "      <th>mileage</th>\n",
              "      <th>body</th>\n",
              "      <th>kpp</th>\n",
              "      <th>fuel</th>\n",
              "      <th>volume</th>\n",
              "      <th>power</th>\n",
              "    </tr>\n",
              "  </thead>\n",
              "  <tbody>\n",
              "    <tr>\n",
              "      <th>0</th>\n",
              "      <td>kia</td>\n",
              "      <td>cerato</td>\n",
              "      <td>996000</td>\n",
              "      <td>2018</td>\n",
              "      <td>28000</td>\n",
              "      <td>седан</td>\n",
              "      <td>автомат</td>\n",
              "      <td>бензин</td>\n",
              "      <td>2.0</td>\n",
              "      <td>150.0</td>\n",
              "    </tr>\n",
              "    <tr>\n",
              "      <th>1</th>\n",
              "      <td>daewoo</td>\n",
              "      <td>nexia 1 поколение [2-й рестайлинг]</td>\n",
              "      <td>140200</td>\n",
              "      <td>2012</td>\n",
              "      <td>60500</td>\n",
              "      <td>седан</td>\n",
              "      <td>механика</td>\n",
              "      <td>бензин</td>\n",
              "      <td>1.5</td>\n",
              "      <td>80.0</td>\n",
              "    </tr>\n",
              "    <tr>\n",
              "      <th>2</th>\n",
              "      <td>suzuki</td>\n",
              "      <td>jimny 3 поколение [рестайлинг]</td>\n",
              "      <td>750000</td>\n",
              "      <td>2011</td>\n",
              "      <td>29000</td>\n",
              "      <td>внедорожник</td>\n",
              "      <td>автомат</td>\n",
              "      <td>бензин</td>\n",
              "      <td>1.3</td>\n",
              "      <td>85.0</td>\n",
              "    </tr>\n",
              "    <tr>\n",
              "      <th>3</th>\n",
              "      <td>bmw</td>\n",
              "      <td>x1 18 e84 [рестайлинг]</td>\n",
              "      <td>970000</td>\n",
              "      <td>2014</td>\n",
              "      <td>49500</td>\n",
              "      <td>кроссовер</td>\n",
              "      <td>автомат</td>\n",
              "      <td>бензин</td>\n",
              "      <td>2.0</td>\n",
              "      <td>150.0</td>\n",
              "    </tr>\n",
              "    <tr>\n",
              "      <th>4</th>\n",
              "      <td>chevrolet</td>\n",
              "      <td>lacetti 1 поколение</td>\n",
              "      <td>205000</td>\n",
              "      <td>2007</td>\n",
              "      <td>151445</td>\n",
              "      <td>седан</td>\n",
              "      <td>механика</td>\n",
              "      <td>бензин</td>\n",
              "      <td>1.4</td>\n",
              "      <td>95.0</td>\n",
              "    </tr>\n",
              "    <tr>\n",
              "      <th>5</th>\n",
              "      <td>hyundai</td>\n",
              "      <td>creta 1 поколение</td>\n",
              "      <td>985000</td>\n",
              "      <td>2016</td>\n",
              "      <td>34067</td>\n",
              "      <td>кроссовер</td>\n",
              "      <td>автомат</td>\n",
              "      <td>бензин</td>\n",
              "      <td>2.0</td>\n",
              "      <td>150.0</td>\n",
              "    </tr>\n",
              "    <tr>\n",
              "      <th>6</th>\n",
              "      <td>kia</td>\n",
              "      <td>ceed 2 поколение</td>\n",
              "      <td>589000</td>\n",
              "      <td>2013</td>\n",
              "      <td>98000</td>\n",
              "      <td>хетчбэк</td>\n",
              "      <td>автомат</td>\n",
              "      <td>бензин</td>\n",
              "      <td>1.6</td>\n",
              "      <td>129.0</td>\n",
              "    </tr>\n",
              "    <tr>\n",
              "      <th>7</th>\n",
              "      <td>toyota</td>\n",
              "      <td>corolla e140</td>\n",
              "      <td>500000</td>\n",
              "      <td>2008</td>\n",
              "      <td>141000</td>\n",
              "      <td>седан</td>\n",
              "      <td>автомат</td>\n",
              "      <td>бензин</td>\n",
              "      <td>1.6</td>\n",
              "      <td>124.0</td>\n",
              "    </tr>\n",
              "    <tr>\n",
              "      <th>8</th>\n",
              "      <td>mercedes-benz</td>\n",
              "      <td>c-класс 180 w204/s204/c204 [рестайлинг]</td>\n",
              "      <td>1320000</td>\n",
              "      <td>2015</td>\n",
              "      <td>81112</td>\n",
              "      <td>седан</td>\n",
              "      <td>автомат</td>\n",
              "      <td>бензин</td>\n",
              "      <td>1.6</td>\n",
              "      <td>156.0</td>\n",
              "    </tr>\n",
              "    <tr>\n",
              "      <th>9</th>\n",
              "      <td>bmw</td>\n",
              "      <td>7 серия 735 e65/e66</td>\n",
              "      <td>270000</td>\n",
              "      <td>2001</td>\n",
              "      <td>300000</td>\n",
              "      <td>седан</td>\n",
              "      <td>автомат</td>\n",
              "      <td>бензин</td>\n",
              "      <td>3.6</td>\n",
              "      <td>272.0</td>\n",
              "    </tr>\n",
              "  </tbody>\n",
              "</table>\n",
              "</div>"
            ],
            "text/plain": [
              "            mark                                    model  ...  volume  power\n",
              "0            kia                                   cerato  ...     2.0  150.0\n",
              "1         daewoo       nexia 1 поколение [2-й рестайлинг]  ...     1.5   80.0\n",
              "2         suzuki           jimny 3 поколение [рестайлинг]  ...     1.3   85.0\n",
              "3            bmw                   x1 18 e84 [рестайлинг]  ...     2.0  150.0\n",
              "4      chevrolet                      lacetti 1 поколение  ...     1.4   95.0\n",
              "5        hyundai                        creta 1 поколение  ...     2.0  150.0\n",
              "6            kia                         ceed 2 поколение  ...     1.6  129.0\n",
              "7         toyota                             corolla e140  ...     1.6  124.0\n",
              "8  mercedes-benz  c-класс 180 w204/s204/c204 [рестайлинг]  ...     1.6  156.0\n",
              "9            bmw                      7 серия 735 e65/e66  ...     3.6  272.0\n",
              "\n",
              "[10 rows x 10 columns]"
            ]
          },
          "metadata": {
            "tags": []
          },
          "execution_count": 145
        }
      ]
    },
    {
      "cell_type": "markdown",
      "metadata": {
        "id": "OBZoEnBFsl1j"
      },
      "source": [
        "mark - one_hot_encoding\n",
        "\n",
        "body - one_got_encoding\n",
        "\n",
        "kpp - one_hot_encoding\n",
        "\n",
        "fuel - one_hot_encoding\n",
        "\n",
        "model - (по хорошему распарсить текстом?) для начала one_hot_encoding\n",
        "\n",
        "year, mileage, volume, pover - preprocessing\n",
        "\n"
      ]
    },
    {
      "cell_type": "code",
      "metadata": {
        "colab": {
          "base_uri": "https://localhost:8080/"
        },
        "id": "h-T1UEFTqn4V",
        "outputId": "8f979600-539f-401b-8357-eebdf49d3d2d"
      },
      "source": [
        "print(cars.values.shape)"
      ],
      "execution_count": null,
      "outputs": [
        {
          "output_type": "stream",
          "text": [
            "(70119, 10)\n"
          ],
          "name": "stdout"
        }
      ]
    },
    {
      "cell_type": "code",
      "metadata": {
        "id": "qTMJeIKfsHCh"
      },
      "source": [
        "# обработка базы\n",
        "def create_dict(s):\n",
        "  retm = {}\n",
        "  for _id, name in enumerate(s):\n",
        "    retm.update({name: _id})\n",
        "  return retm\n",
        "\n",
        "def to_ohe(value, d):\n",
        "  arr = [0] * len(d)\n",
        "  # пустой лист длиной dict\n",
        "  arr[d[value]] = 1\n",
        "  # ставим 1 в зависимости от значения\n",
        "  return arr"
      ],
      "execution_count": null,
      "outputs": []
    },
    {
      "cell_type": "code",
      "metadata": {
        "id": "gjIz6d74shbc"
      },
      "source": [
        "# данные в формате one_hot_encoding\n",
        "marks_dict = create_dict(set(cars['mark']))\n",
        "models_dict = create_dict(set(cars['model']))\n",
        "bodies_dict = create_dict(set(cars['body']))\n",
        "kpps_dict = create_dict(set(cars['kpp']))\n",
        "fuels_dict = create_dict(set(cars['fuel']))"
      ],
      "execution_count": null,
      "outputs": []
    },
    {
      "cell_type": "code",
      "metadata": {
        "id": "vQjQMHUbueQY"
      },
      "source": [
        "# численные данные\n",
        "years = preprocessing.scale(cars['year'])\n",
        "mileages = preprocessing.scale(cars['mileage'])\n",
        "volumes = preprocessing.scale(cars['volume'])\n",
        "powers = preprocessing.scale(cars['power'])"
      ],
      "execution_count": null,
      "outputs": []
    },
    {
      "cell_type": "code",
      "metadata": {
        "id": "v_JXqTivvTgk"
      },
      "source": [
        "# запоминаем цену\n",
        "prices = np.array(cars['price'], dtype=np.float)"
      ],
      "execution_count": null,
      "outputs": []
    },
    {
      "cell_type": "code",
      "metadata": {
        "id": "MtWEYzxD1eOv"
      },
      "source": [
        "x_train = []\n",
        "y_train = []\n",
        "\n",
        "for _id, car in enumerate(np.array(cars)):\n",
        "  y_train.append(prices[_id])\n",
        "\n",
        "  x_tr = to_ohe(car[0], marks_dict) + \\\n",
        "        to_ohe(car[1], models_dict) + \\\n",
        "        to_ohe(car[5], bodies_dict) + \\\n",
        "        to_ohe(car[6], kpps_dict) + \\\n",
        "        to_ohe(car[7], fuels_dict) + \\\n",
        "        [years[_id]] + \\\n",
        "        [mileages[_id]] + \\\n",
        "        [volumes[_id]] + \\\n",
        "        [powers[_id]]\n",
        "  \n",
        "  x_train.append(x_tr)\n",
        "\n",
        "x_train = np.array(x_train, dtype=np.float)\n",
        "y_train = np.array(y_train, dtype=np.float)"
      ],
      "execution_count": null,
      "outputs": []
    },
    {
      "cell_type": "code",
      "metadata": {
        "id": "BQ3aqKDn2lON"
      },
      "source": [
        "y_scaler = StandardScaler()\n",
        "y_train_scaled = y_scaler.fit_transform(y_train.reshape(-1,1)).flatten()"
      ],
      "execution_count": null,
      "outputs": []
    },
    {
      "cell_type": "code",
      "metadata": {
        "id": "btTvp0uT3saf"
      },
      "source": [
        "# разделение на обучающую и проверочную выборки\n",
        "x_train, x_test, y_train, y_test, y_train_scaled, y_test_scaled = train_test_split(x_train, y_train,y_train_scaled, test_size=0.15, shuffle=True)"
      ],
      "execution_count": null,
      "outputs": []
    },
    {
      "cell_type": "code",
      "metadata": {
        "colab": {
          "base_uri": "https://localhost:8080/"
        },
        "id": "Ghc5sQoO4L6n",
        "outputId": "2c739a5e-1bda-4943-b4c4-9f6fbeadd63c"
      },
      "source": [
        "print(y_train.shape)\n",
        "print(y_test.shape)\n",
        "print(y_train_scaled.shape)\n",
        "print(y_test_scaled.shape)"
      ],
      "execution_count": null,
      "outputs": [
        {
          "output_type": "stream",
          "text": [
            "(59601,)\n",
            "(10518,)\n",
            "(59601,)\n",
            "(10518,)\n"
          ],
          "name": "stdout"
        }
      ]
    },
    {
      "cell_type": "code",
      "metadata": {
        "colab": {
          "base_uri": "https://localhost:8080/"
        },
        "id": "mi3IvIId21qc",
        "outputId": "e2f796f0-887e-4d51-ba6f-2f5203e9c8a8"
      },
      "source": [
        "# создаем модель\n",
        "\n",
        "model_ula = Sequential()\n",
        "model_ula.add(Dense(1500, input_dim=x_train.shape[1], activation='relu'))\n",
        "model_ula.add(Dense(1500, activation='relu'))\n",
        "model_ula.add(Dense(500, activation='relu'))\n",
        "model_ula.add(Dense(1, activation='linear'))\n",
        "\n",
        "model_ula.compile(loss='mse', optimizer=Adam(lr=1e-3))\n",
        "\n",
        "history = model_ula.fit(x_train,y_train_scaled,\n",
        "                        epochs=20,\n",
        "                        batch_size=32,\n",
        "                        validation_split=0.15,\n",
        "                        verbose=1)"
      ],
      "execution_count": null,
      "outputs": [
        {
          "output_type": "stream",
          "text": [
            "Epoch 1/20\n",
            "1584/1584 [==============================] - 5s 3ms/step - loss: 0.3619 - val_loss: 0.4778\n",
            "Epoch 2/20\n",
            "1584/1584 [==============================] - 5s 3ms/step - loss: 0.2807 - val_loss: 0.0539\n",
            "Epoch 3/20\n",
            "1584/1584 [==============================] - 5s 3ms/step - loss: 0.1599 - val_loss: 0.0558\n",
            "Epoch 4/20\n",
            "1584/1584 [==============================] - 5s 3ms/step - loss: 0.1194 - val_loss: 0.0934\n",
            "Epoch 5/20\n",
            "1584/1584 [==============================] - 5s 3ms/step - loss: 0.1355 - val_loss: 0.0836\n",
            "Epoch 6/20\n",
            "1584/1584 [==============================] - 5s 3ms/step - loss: 0.1376 - val_loss: 0.0438\n",
            "Epoch 7/20\n",
            "1584/1584 [==============================] - 5s 3ms/step - loss: 0.0950 - val_loss: 0.0539\n",
            "Epoch 8/20\n",
            "1584/1584 [==============================] - 5s 3ms/step - loss: 0.1101 - val_loss: 0.0573\n",
            "Epoch 9/20\n",
            "1584/1584 [==============================] - 5s 3ms/step - loss: 0.0734 - val_loss: 0.1447\n",
            "Epoch 10/20\n",
            "1584/1584 [==============================] - 5s 3ms/step - loss: 0.0888 - val_loss: 0.0606\n",
            "Epoch 11/20\n",
            "1584/1584 [==============================] - 5s 3ms/step - loss: 0.1035 - val_loss: 0.0549\n",
            "Epoch 12/20\n",
            "1584/1584 [==============================] - 5s 3ms/step - loss: 0.0759 - val_loss: 0.0429\n",
            "Epoch 13/20\n",
            "1584/1584 [==============================] - 5s 3ms/step - loss: 0.1101 - val_loss: 0.0553\n",
            "Epoch 14/20\n",
            "1584/1584 [==============================] - 5s 3ms/step - loss: 0.0779 - val_loss: 0.0468\n",
            "Epoch 15/20\n",
            "1584/1584 [==============================] - 5s 3ms/step - loss: 0.0645 - val_loss: 0.0627\n",
            "Epoch 16/20\n",
            "1584/1584 [==============================] - 5s 3ms/step - loss: 0.1001 - val_loss: 0.0524\n",
            "Epoch 17/20\n",
            "1584/1584 [==============================] - 5s 3ms/step - loss: 0.0775 - val_loss: 0.0521\n",
            "Epoch 18/20\n",
            "1584/1584 [==============================] - 5s 3ms/step - loss: 0.0749 - val_loss: 0.0468\n",
            "Epoch 19/20\n",
            "1584/1584 [==============================] - 5s 3ms/step - loss: 0.0663 - val_loss: 0.0802\n",
            "Epoch 20/20\n",
            "1584/1584 [==============================] - 5s 3ms/step - loss: 0.0458 - val_loss: 0.0896\n"
          ],
          "name": "stdout"
        }
      ]
    },
    {
      "cell_type": "code",
      "metadata": {
        "colab": {
          "base_uri": "https://localhost:8080/",
          "height": 279
        },
        "id": "f6iIyfYf6EZn",
        "outputId": "b0d55eac-246d-4ce5-8c04-2168cbc61143"
      },
      "source": [
        "plt.plot(history.history['loss'], \n",
        "         label='Ошибка на обучающем наборе')\n",
        "plt.plot(history.history['val_loss'], \n",
        "         label='Ошибка на проверочном наборе')\n",
        "plt.xlabel('Эпоха обучения')\n",
        "plt.ylabel('Ошибка')\n",
        "plt.legend()\n",
        "plt.show()"
      ],
      "execution_count": null,
      "outputs": [
        {
          "output_type": "display_data",
          "data": {
            "image/png": "[encoded data removed]",
            "text/plain": [
              "<Figure size 432x288 with 1 Axes>"
            ]
          },
          "metadata": {
            "tags": [],
            "needs_background": "light"
          }
        }
      ]
    },
    {
      "cell_type": "code",
      "metadata": {
        "colab": {
          "base_uri": "https://localhost:8080/"
        },
        "id": "jGC7oLMO8qxL",
        "outputId": "cb54c34a-4385-4246-cbf3-a46293e72c0d"
      },
      "source": [
        "model_ula.compile(loss='mse', optimizer=Adam(lr=1e-4))\n",
        "\n",
        "history = model_ula.fit(x_train,y_train_scaled,\n",
        "                        epochs=20,\n",
        "                        batch_size=32,\n",
        "                        validation_split=0.15,\n",
        "                        verbose=1)"
      ],
      "execution_count": null,
      "outputs": [
        {
          "output_type": "stream",
          "text": [
            "Epoch 1/20\n",
            "1584/1584 [==============================] - 5s 3ms/step - loss: 0.0518 - val_loss: 0.0488\n",
            "Epoch 2/20\n",
            "1584/1584 [==============================] - 5s 3ms/step - loss: 0.0380 - val_loss: 0.0494\n",
            "Epoch 3/20\n",
            "1584/1584 [==============================] - 5s 3ms/step - loss: 0.0409 - val_loss: 0.0619\n",
            "Epoch 4/20\n",
            "1584/1584 [==============================] - 5s 3ms/step - loss: 0.0293 - val_loss: 0.0489\n",
            "Epoch 5/20\n",
            "1584/1584 [==============================] - 5s 3ms/step - loss: 0.0416 - val_loss: 0.0576\n",
            "Epoch 6/20\n",
            "1584/1584 [==============================] - 5s 3ms/step - loss: 0.0284 - val_loss: 0.0514\n",
            "Epoch 7/20\n",
            "1584/1584 [==============================] - 5s 3ms/step - loss: 0.0348 - val_loss: 0.0533\n",
            "Epoch 8/20\n",
            "1584/1584 [==============================] - 5s 3ms/step - loss: 0.0350 - val_loss: 0.0523\n",
            "Epoch 9/20\n",
            "1584/1584 [==============================] - 5s 3ms/step - loss: 0.0430 - val_loss: 0.0499\n",
            "Epoch 10/20\n",
            "1584/1584 [==============================] - 5s 3ms/step - loss: 0.0323 - val_loss: 0.0546\n",
            "Epoch 11/20\n",
            "1584/1584 [==============================] - 5s 3ms/step - loss: 0.0361 - val_loss: 0.0532\n",
            "Epoch 12/20\n",
            "1584/1584 [==============================] - 5s 3ms/step - loss: 0.0291 - val_loss: 0.0555\n",
            "Epoch 13/20\n",
            "1584/1584 [==============================] - 5s 3ms/step - loss: 0.0267 - val_loss: 0.0578\n",
            "Epoch 14/20\n",
            "1584/1584 [==============================] - 5s 3ms/step - loss: 0.0381 - val_loss: 0.0552\n",
            "Epoch 15/20\n",
            "1584/1584 [==============================] - 5s 3ms/step - loss: 0.0272 - val_loss: 0.0603\n",
            "Epoch 16/20\n",
            "1584/1584 [==============================] - 5s 3ms/step - loss: 0.0318 - val_loss: 0.0554\n",
            "Epoch 17/20\n",
            "1584/1584 [==============================] - 5s 3ms/step - loss: 0.0291 - val_loss: 0.0512\n",
            "Epoch 18/20\n",
            "1584/1584 [==============================] - 5s 3ms/step - loss: 0.0286 - val_loss: 0.0540\n",
            "Epoch 19/20\n",
            "1584/1584 [==============================] - 5s 3ms/step - loss: 0.0290 - val_loss: 0.0568\n",
            "Epoch 20/20\n",
            "1584/1584 [==============================] - 5s 3ms/step - loss: 0.0296 - val_loss: 0.0512\n"
          ],
          "name": "stdout"
        }
      ]
    },
    {
      "cell_type": "code",
      "metadata": {
        "colab": {
          "base_uri": "https://localhost:8080/"
        },
        "id": "CFv4JLGp_kgS",
        "outputId": "0fef5713-7d9a-4fb6-ab03-7dcf7f2281e6"
      },
      "source": [
        "predict = model_ula.predict(x_test)\n",
        "\n",
        "predict = y_scaler.inverse_transform(predict).flatten()\n",
        "\n",
        "delta = predict - y_test\n",
        "abs_delta = abs(delta)\n",
        "\n",
        "mean_delta = sum(abs_delta)/len(abs_delta)\n",
        "mean_price = sum(y_test)/len(y_test)\n",
        "print(\"Средняя ошибка: \", round(mean_delta))\n",
        "print(\"Средняя цена: \", round(mean_price))\n",
        "print(\"Процент ошибки: \", round(100*mean_delta / mean_price), \"%\", sep=\"\")"
      ],
      "execution_count": null,
      "outputs": [
        {
          "output_type": "stream",
          "text": [
            "Средняя ошибка:  63613\n",
            "Средняя цена:  518857\n",
            "Процент ошибки: 12%\n"
          ],
          "name": "stdout"
        }
      ]
    },
    {
      "cell_type": "code",
      "metadata": {
        "colab": {
          "base_uri": "https://localhost:8080/"
        },
        "id": "W9bZ4f2nDZLM",
        "outputId": "1521bd62-0fd1-4187-aa7d-6de2bc4fd183"
      },
      "source": [
        "print('{:>10} {:>10} {:>10} {:>10}'.format('predict', 'y', 'error', 'error %'))\n",
        "\n",
        "for i in range(30):\n",
        "  price = predict[i] \n",
        "  real_price = y_test[i] \n",
        "  print('{:>10.0f} {:>10.0f} {:>10.0f} {:>10.3f}'.format(price, real_price, abs(price - real_price), ((price / real_price) - 1) * 100))"
      ],
      "execution_count": null,
      "outputs": [
        {
          "output_type": "stream",
          "text": [
            "   predict          y      error    error %\n",
            "    202072     150000      52072     34.715\n",
            "    168019     110000      58019     52.745\n",
            "    104118     195000      90882    -46.606\n",
            "    549144     710000     160856    -22.656\n",
            "    758172     919000     160828    -17.500\n",
            "    962342     970000       7658     -0.790\n",
            "    532337     200000     332337    166.168\n",
            "    209807     350000     140193    -40.055\n",
            "    502365     560000      57635    -10.292\n",
            "     87813      40000      47813    119.533\n",
            "    436099     490000      53901    -11.000\n",
            "    757179     719000      38179      5.310\n",
            "    147141      45000     102141    226.979\n",
            "    745571     690000      55571      8.054\n",
            "    451006     330000     121006     36.668\n",
            "    645175     649000       3825     -0.589\n",
            "    725373     679999      45374      6.673\n",
            "   1030306     845000     185306     21.930\n",
            "    219481     210000       9481      4.515\n",
            "    129287      50000      79287    158.574\n",
            "    121614     185000      63386    -34.263\n",
            "    112784     140000      27216    -19.440\n",
            "    878850     800000      78850      9.856\n",
            "    118717      84000      34717     41.329\n",
            "   1011820     999000      12820      1.283\n",
            "    151701     165000      13299     -8.060\n",
            "    290078     348000      57922    -16.644\n",
            "    278387     100000     178387    178.387\n",
            "    187939     250000      62061    -24.824\n",
            "    296967     308000      11033     -3.582\n"
          ],
          "name": "stdout"
        }
      ]
    },
    {
      "cell_type": "code",
      "metadata": {
        "colab": {
          "base_uri": "https://localhost:8080/"
        },
        "id": "mu8auOoi9_Rh",
        "outputId": "4829d51c-682f-411f-e3a2-c26556c60d2d"
      },
      "source": [
        "# создаем модель\n",
        "\n",
        "model_ula = Sequential()\n",
        "model_ula.add(Dense(2500, input_dim=x_train.shape[1], activation='relu'))\n",
        "model_ula.add(Dropout(0.2))\n",
        "model_ula.add(Dense(2500, activation='relu'))\n",
        "model_ula.add(Dropout(0.2))\n",
        "model_ula.add(Dense(1000, activation='relu'))\n",
        "model_ula.add(Dropout(0.2))\n",
        "model_ula.add(Dense(1, activation='linear'))\n",
        "\n",
        "model_ula.compile(loss='mse', optimizer=Adam(lr=1e-3))\n",
        "\n",
        "history = model_ula.fit(x_train,y_train_scaled,\n",
        "                        epochs=20,\n",
        "                        batch_size=64,\n",
        "                        validation_split=0.15,\n",
        "                        verbose=1)"
      ],
      "execution_count": null,
      "outputs": [
        {
          "output_type": "stream",
          "text": [
            "Epoch 1/20\n",
            "792/792 [==============================] - 4s 4ms/step - loss: 0.2567 - val_loss: 0.2740\n",
            "Epoch 2/20\n",
            "792/792 [==============================] - 3s 4ms/step - loss: 0.2371 - val_loss: 0.1315\n",
            "Epoch 3/20\n",
            "792/792 [==============================] - 3s 4ms/step - loss: 0.1715 - val_loss: 0.0718\n",
            "Epoch 4/20\n",
            "792/792 [==============================] - 3s 4ms/step - loss: 0.1182 - val_loss: 0.0563\n",
            "Epoch 5/20\n",
            "792/792 [==============================] - 3s 4ms/step - loss: 0.1136 - val_loss: 0.0676\n",
            "Epoch 6/20\n",
            "792/792 [==============================] - 3s 4ms/step - loss: 0.1822 - val_loss: 0.0576\n",
            "Epoch 7/20\n",
            "792/792 [==============================] - 3s 4ms/step - loss: 0.1072 - val_loss: 0.0673\n",
            "Epoch 8/20\n",
            "792/792 [==============================] - 3s 4ms/step - loss: 0.1202 - val_loss: 0.0642\n",
            "Epoch 9/20\n",
            "792/792 [==============================] - 3s 4ms/step - loss: 0.1232 - val_loss: 0.0632\n",
            "Epoch 10/20\n",
            "792/792 [==============================] - 3s 4ms/step - loss: 0.1244 - val_loss: 0.0625\n",
            "Epoch 11/20\n",
            "792/792 [==============================] - 3s 4ms/step - loss: 0.1198 - val_loss: 0.0632\n",
            "Epoch 12/20\n",
            "792/792 [==============================] - 3s 4ms/step - loss: 0.1350 - val_loss: 0.0712\n",
            "Epoch 13/20\n",
            "792/792 [==============================] - 3s 4ms/step - loss: 0.1222 - val_loss: 0.1269\n",
            "Epoch 14/20\n",
            "792/792 [==============================] - 3s 4ms/step - loss: 0.0938 - val_loss: 0.0738\n",
            "Epoch 15/20\n",
            "792/792 [==============================] - 3s 4ms/step - loss: 0.1061 - val_loss: 0.0724\n",
            "Epoch 16/20\n",
            "792/792 [==============================] - 3s 4ms/step - loss: 0.0941 - val_loss: 0.0761\n",
            "Epoch 17/20\n",
            "792/792 [==============================] - 3s 4ms/step - loss: 0.1500 - val_loss: 0.1134\n",
            "Epoch 18/20\n",
            "792/792 [==============================] - 3s 4ms/step - loss: 0.0799 - val_loss: 0.4956\n",
            "Epoch 19/20\n",
            "792/792 [==============================] - 3s 4ms/step - loss: 0.1079 - val_loss: 0.1111\n",
            "Epoch 20/20\n",
            "792/792 [==============================] - 3s 4ms/step - loss: 0.1009 - val_loss: 0.0791\n"
          ],
          "name": "stdout"
        }
      ]
    },
    {
      "cell_type": "code",
      "metadata": {
        "colab": {
          "base_uri": "https://localhost:8080/"
        },
        "id": "14mB3MdhEJ_-",
        "outputId": "6a2f6089-c087-4b8d-aa61-c956a5ede354"
      },
      "source": [
        "model_ula.compile(loss='mse', optimizer=Adam(lr=1e-4))\n",
        "\n",
        "history = model_ula.fit(x_train,y_train_scaled,\n",
        "                        epochs=20,\n",
        "                        batch_size=64,\n",
        "                        validation_split=0.15,\n",
        "                        verbose=1)"
      ],
      "execution_count": null,
      "outputs": [
        {
          "output_type": "stream",
          "text": [
            "Epoch 1/20\n",
            "792/792 [==============================] - 4s 4ms/step - loss: 0.0677 - val_loss: 0.0721\n",
            "Epoch 2/20\n",
            "792/792 [==============================] - 3s 4ms/step - loss: 0.0687 - val_loss: 0.0643\n",
            "Epoch 3/20\n",
            "792/792 [==============================] - 3s 4ms/step - loss: 0.0707 - val_loss: 0.0803\n",
            "Epoch 4/20\n",
            "792/792 [==============================] - 3s 4ms/step - loss: 0.0725 - val_loss: 0.0656\n",
            "Epoch 5/20\n",
            "792/792 [==============================] - 3s 4ms/step - loss: 0.0681 - val_loss: 0.0750\n",
            "Epoch 6/20\n",
            "792/792 [==============================] - 3s 4ms/step - loss: 0.0455 - val_loss: 0.0866\n",
            "Epoch 7/20\n",
            "792/792 [==============================] - 3s 4ms/step - loss: 0.0508 - val_loss: 0.0860\n",
            "Epoch 8/20\n",
            "792/792 [==============================] - 3s 4ms/step - loss: 0.0627 - val_loss: 0.0638\n",
            "Epoch 9/20\n",
            "792/792 [==============================] - 3s 4ms/step - loss: 0.0566 - val_loss: 0.0717\n",
            "Epoch 10/20\n",
            "792/792 [==============================] - 3s 4ms/step - loss: 0.0633 - val_loss: 0.0679\n",
            "Epoch 11/20\n",
            "792/792 [==============================] - 3s 4ms/step - loss: 0.0485 - val_loss: 0.0723\n",
            "Epoch 12/20\n",
            "792/792 [==============================] - 3s 4ms/step - loss: 0.0673 - val_loss: 0.0736\n",
            "Epoch 13/20\n",
            "792/792 [==============================] - 3s 4ms/step - loss: 0.0652 - val_loss: 0.0648\n",
            "Epoch 14/20\n",
            "792/792 [==============================] - 3s 4ms/step - loss: 0.0437 - val_loss: 0.0692\n",
            "Epoch 15/20\n",
            "792/792 [==============================] - 3s 4ms/step - loss: 0.0521 - val_loss: 0.0720\n",
            "Epoch 16/20\n",
            "792/792 [==============================] - 3s 4ms/step - loss: 0.0401 - val_loss: 0.0676\n",
            "Epoch 17/20\n",
            "792/792 [==============================] - 3s 4ms/step - loss: 0.0449 - val_loss: 0.0672\n",
            "Epoch 18/20\n",
            "792/792 [==============================] - 3s 4ms/step - loss: 0.0425 - val_loss: 0.0654\n",
            "Epoch 19/20\n",
            "792/792 [==============================] - 3s 4ms/step - loss: 0.0527 - val_loss: 0.0939\n",
            "Epoch 20/20\n",
            "792/792 [==============================] - 3s 4ms/step - loss: 0.0600 - val_loss: 0.0605\n"
          ],
          "name": "stdout"
        }
      ]
    },
    {
      "cell_type": "code",
      "metadata": {
        "colab": {
          "base_uri": "https://localhost:8080/"
        },
        "id": "vXyz-BsuDpIe",
        "outputId": "60ac84a0-d0b6-41da-d5c0-4926601cad1d"
      },
      "source": [
        "predict = model_ula.predict(x_test)\n",
        "\n",
        "predict = y_scaler.inverse_transform(predict).flatten()\n",
        "\n",
        "delta = predict - y_test\n",
        "abs_delta = abs(delta)\n",
        "\n",
        "mean_delta = sum(abs_delta)/len(abs_delta)\n",
        "mean_price = sum(y_test)/len(y_test)\n",
        "print(\"Средняя ошибка: \", round(mean_delta))\n",
        "print(\"Средняя цена: \", round(mean_price))\n",
        "print(\"Процент ошибки: \", round(100*mean_delta / mean_price), \"%\", sep=\"\")"
      ],
      "execution_count": null,
      "outputs": [
        {
          "output_type": "stream",
          "text": [
            "Средняя ошибка:  88871\n",
            "Средняя цена:  518857\n",
            "Процент ошибки: 17%\n"
          ],
          "name": "stdout"
        }
      ]
    },
    {
      "cell_type": "markdown",
      "metadata": {
        "id": "C7N35pjGEgMf"
      },
      "source": [
        "Процент ошибки стал больше, когда увеличили количество нейронов в выборке"
      ]
    },
    {
      "cell_type": "code",
      "metadata": {
        "colab": {
          "base_uri": "https://localhost:8080/"
        },
        "id": "3JqQ02UDBJa3",
        "outputId": "c6614b07-b509-4dec-c669-bb14cb5fa2fb"
      },
      "source": [
        "print('{:>10} {:>10} {:>10} {:>10}'.format('predict', 'y', 'error', 'error %'))\n",
        "\n",
        "for i in range(30):\n",
        "  price = predict[i] \n",
        "  real_price = y_test[i] \n",
        "  print('{:>10.0f} {:>10.0f} {:>10.0f} {:>10.3f}'.format(price, real_price, abs(price - real_price), ((price / real_price) - 1) * 100))"
      ],
      "execution_count": null,
      "outputs": [
        {
          "output_type": "stream",
          "text": [
            "   predict          y      error    error %\n",
            "    288186     150000     138186     92.124\n",
            "    247480     110000     137480    124.982\n",
            "    205427     195000      10427      5.347\n",
            "    592982     710000     117018    -16.481\n",
            "    743765     919000     175235    -19.068\n",
            "    995479     970000      25479      2.627\n",
            "    548383     200000     348383    174.192\n",
            "    306558     350000      43442    -12.412\n",
            "    539284     560000      20716     -3.699\n",
            "    176765      40000     136765    341.913\n",
            "    512012     490000      22012      4.492\n",
            "    762570     719000      43570      6.060\n",
            "    249584      45000     204584    454.632\n",
            "    780928     690000      90928     13.178\n",
            "    503540     330000     173540     52.588\n",
            "    657338     649000       8338      1.285\n",
            "    725794     679999      45795      6.735\n",
            "   1033859     845000     188859     22.350\n",
            "    298023     210000      88023     41.916\n",
            "    216760      50000     166760    333.521\n",
            "    201589     185000      16589      8.967\n",
            "    203792     140000      63792     45.566\n",
            "    882512     800000      82512     10.314\n",
            "    213655      84000     129655    154.351\n",
            "   1051301     999000      52301      5.235\n",
            "    279919     165000     114919     69.648\n",
            "    345726     348000       2274     -0.654\n",
            "    357492     100000     257492    257.492\n",
            "    300281     250000      50281     20.113\n",
            "    368465     308000      60465     19.632\n"
          ],
          "name": "stdout"
        }
      ]
    }
  ]
}