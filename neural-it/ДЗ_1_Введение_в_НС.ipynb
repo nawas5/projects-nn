{
  "nbformat": 4,
  "nbformat_minor": 0,
  "metadata": {
    "colab": {
      "name": "ДЗ 1. Введение в НС.ipynb",
      "provenance": [],
      "collapsed_sections": [
        "fN6wBV8KqXTy",
        "dtFZF8EYiN5o",
        "JXDVsNRviUZD"
      ]
    },
    "kernelspec": {
      "name": "python3",
      "display_name": "Python 3"
    },
    "accelerator": "GPU"
  },
  "cells": [
    {
      "cell_type": "code",
      "metadata": {
        "id": "4iHEcu_mq61R"
      },
      "source": [
        "# подключение библиотек\n",
        "from tensorflow.keras.datasets import mnist\n",
        "from tensorflow.keras.models import Sequential\n",
        "from tensorflow.keras.layers import Dense\n",
        "from tensorflow.keras.optimizers import Adam\n",
        "from tensorflow.keras import utils\n",
        "from tensorflow.keras.utils import plot_model\n",
        "from tensorflow.keras.preprocessing import image\n",
        "\n",
        "import numpy as np\n",
        "import pandas as pd\n",
        "import pylab\n",
        "import plotly as px\n",
        "from google.colab import files\n",
        "from mpl_toolkits.mplot3d import Axes3D\n",
        "import matplotlib.pyplot as plt\n",
        "from PIL import Image\n",
        "import PIL.ImageOps\n",
        "\n",
        "# отрисовка изображений в ноутбуке, а не в консоль или файл\n",
        "%matplotlib inline"
      ],
      "execution_count": null,
      "outputs": []
    },
    {
      "cell_type": "markdown",
      "metadata": {
        "id": "fN6wBV8KqXTy"
      },
      "source": [
        "# Задание Ultra Light\n",
        "Задание Ultra Lite\n",
        "Макс 10 баллов\n",
        "Перепишите ноутбук по распознаванию рукописных цифр, восстановив следующие операции:\n",
        "\n",
        "1. Импорт библиотек.\n",
        "2. Загрузка базы mnist.\n",
        "3. Нормирование и преобразование x_train и y_train.\n",
        "4. Создание нейронной сети.\n",
        "5. Обучение нейронной сети.\n",
        "*Можно смотреть в ноутбук с занятия, но код необходимо писать самостоятельно."
      ]
    },
    {
      "cell_type": "code",
      "metadata": {
        "colab": {
          "base_uri": "https://localhost:8080/"
        },
        "id": "JOb6kFtlqbvX",
        "outputId": "d51d1dc9-8db9-4c7c-c090-4b38bcd30f84"
      },
      "source": [
        "# загрузка базы mnist\n",
        "(x_train_org, y_train_org), (x_test_org, y_test_org) = mnist.load_data()\n",
        "print(' Размерность входных данных ',x_train_org.shape)\n",
        "# для примера выведем одну картинку\n",
        "n = 100\n",
        "plt.imshow(Image.fromarray(x_train_org[n]).convert('RGB'))\n",
        "print('Пример картинки')\n",
        "plt.show()"
      ],
      "execution_count": null,
      "outputs": [
        {
          "output_type": "stream",
          "text": [
            "Downloading data from https://storage.googleapis.com/tensorflow/tf-keras-datasets/mnist.npz\n",
            "11493376/11490434 [==============================] - 0s 0us/step\n",
            " Размерность входных данных  (60000, 28, 28)\n",
            "Пример картинки\n"
          ],
          "name": "stdout"
        },
        {
          "output_type": "display_data",
          "data": {
            "image/png": "[encoded data removed]",
            "text/plain": [
              "<Figure size 432x288 with 1 Axes>"
            ]
          },
          "metadata": {
            "tags": [],
            "needs_background": "light"
          }
        }
      ]
    },
    {
      "cell_type": "code",
      "metadata": {
        "colab": {
          "base_uri": "https://localhost:8080/"
        },
        "id": "2QuK9utrtLk2",
        "outputId": "bdead2ea-a598-4393-e2ef-25fa6e96b682"
      },
      "source": [
        "# требуется поменять форму данных и нормализовать\n",
        "x_train = x_train_org.reshape(x_train_org.shape[0],x_train_org.shape[1]*x_train_org.shape[2])\n",
        "x_test = x_test_org.reshape(x_test_org.shape[0],x_test_org.shape[1]*x_test_org.shape[2])\n",
        "print('Размерность x_train: ', x_train.shape)\n",
        "print('Размерность x_test: ', x_test.shape)\n",
        "# нормализуем данные\n",
        "print('Тип входных данных',type(x_train[0][0]))\n",
        "# данные int - переведем во float\n",
        "x_train = x_train.astype('float32')\n",
        "x_test = x_test.astype('float32')\n",
        "# нормируем на 255\n",
        "x_train = x_train / 255\n",
        "x_test = x_test / 255\n",
        "# приводим y к формату one_hot_encoding\n",
        "y_train = utils.to_categorical(y_train_org,10)\n",
        "y_test = utils.to_categorical(y_test_org,10)\n",
        "print('Размерность y_train: ', y_train.shape)\n",
        "print('Размерность y_test: ', y_test.shape)"
      ],
      "execution_count": null,
      "outputs": [
        {
          "output_type": "stream",
          "text": [
            "Размерность x_train:  (60000, 784)\n",
            "Размерность x_test:  (10000, 784)\n",
            "Тип входных данных <class 'numpy.uint8'>\n",
            "Размерность y_train:  (60000, 10)\n",
            "Размерность y_test:  (10000, 10)\n"
          ],
          "name": "stdout"
        }
      ]
    },
    {
      "cell_type": "code",
      "metadata": {
        "colab": {
          "base_uri": "https://localhost:8080/",
          "height": 636
        },
        "id": "IRz4zdNPtxQF",
        "outputId": "7d7356b6-954d-427a-abc7-9027d9f54afa"
      },
      "source": [
        "# создание нейронной сети\n",
        "model_light = Sequential()\n",
        "model_light.add(Dense(884, input_dim = x_train.shape[1], activation='relu'))\n",
        "model_light.add(Dense(256, activation='relu'))\n",
        "model_light.add(Dense(10, activation='softmax'))\n",
        "\n",
        "model_light.compile(loss=\"categorical_crossentropy\", optimizer=\"Adam\", metrics=[\"accuracy\"])\n",
        "model_light.summary()\n",
        "print('Графическое представление модели')\n",
        "plot_model(model_light)"
      ],
      "execution_count": null,
      "outputs": [
        {
          "output_type": "stream",
          "text": [
            "Model: \"sequential_10\"\n",
            "_________________________________________________________________\n",
            "Layer (type)                 Output Shape              Param #   \n",
            "=================================================================\n",
            "dense_27 (Dense)             (None, 884)               693940    \n",
            "_________________________________________________________________\n",
            "dense_28 (Dense)             (None, 256)               226560    \n",
            "_________________________________________________________________\n",
            "dense_29 (Dense)             (None, 10)                2570      \n",
            "=================================================================\n",
            "Total params: 923,070\n",
            "Trainable params: 923,070\n",
            "Non-trainable params: 0\n",
            "_________________________________________________________________\n",
            "Графическое представление модели\n"
          ],
          "name": "stdout"
        },
        {
          "output_type": "execute_result",
          "data": {
            "image/png": "[encoded data removed]",
            "text/plain": [
              "<IPython.core.display.Image object>"
            ]
          },
          "metadata": {
            "tags": []
          },
          "execution_count": 36
        }
      ]
    },
    {
      "cell_type": "code",
      "metadata": {
        "colab": {
          "base_uri": "https://localhost:8080/"
        },
        "id": "7YMOr79FwIBW",
        "outputId": "98587e71-5247-44c3-d561-8f4d6bf682ef"
      },
      "source": [
        "# обучение нейронной сети\n",
        "model_light.fit(x_train, y_train, batch_size=128, epochs=15, verbose=1)"
      ],
      "execution_count": null,
      "outputs": [
        {
          "output_type": "stream",
          "text": [
            "Epoch 1/15\n",
            "469/469 [==============================] - 3s 2ms/step - loss: 0.3804 - accuracy: 0.8886\n",
            "Epoch 2/15\n",
            "469/469 [==============================] - 1s 2ms/step - loss: 0.0765 - accuracy: 0.9768\n",
            "Epoch 3/15\n",
            "469/469 [==============================] - 1s 2ms/step - loss: 0.0466 - accuracy: 0.9851\n",
            "Epoch 4/15\n",
            "469/469 [==============================] - 1s 2ms/step - loss: 0.0332 - accuracy: 0.9901\n",
            "Epoch 5/15\n",
            "469/469 [==============================] - 1s 2ms/step - loss: 0.0209 - accuracy: 0.9936\n",
            "Epoch 6/15\n",
            "469/469 [==============================] - 1s 2ms/step - loss: 0.0210 - accuracy: 0.9932\n",
            "Epoch 7/15\n",
            "469/469 [==============================] - 1s 2ms/step - loss: 0.0151 - accuracy: 0.9948\n",
            "Epoch 8/15\n",
            "469/469 [==============================] - 1s 2ms/step - loss: 0.0150 - accuracy: 0.9948\n",
            "Epoch 9/15\n",
            "469/469 [==============================] - 1s 2ms/step - loss: 0.0115 - accuracy: 0.9962\n",
            "Epoch 10/15\n",
            "469/469 [==============================] - 1s 2ms/step - loss: 0.0132 - accuracy: 0.9957\n",
            "Epoch 11/15\n",
            "469/469 [==============================] - 1s 2ms/step - loss: 0.0121 - accuracy: 0.9961\n",
            "Epoch 12/15\n",
            "469/469 [==============================] - 1s 2ms/step - loss: 0.0116 - accuracy: 0.9957\n",
            "Epoch 13/15\n",
            "469/469 [==============================] - 1s 2ms/step - loss: 0.0090 - accuracy: 0.9969\n",
            "Epoch 14/15\n",
            "469/469 [==============================] - 1s 2ms/step - loss: 0.0097 - accuracy: 0.9969\n",
            "Epoch 15/15\n",
            "469/469 [==============================] - 1s 2ms/step - loss: 0.0087 - accuracy: 0.9974\n"
          ],
          "name": "stdout"
        },
        {
          "output_type": "execute_result",
          "data": {
            "text/plain": [
              "<tensorflow.python.keras.callbacks.History at 0x7f72002cec90>"
            ]
          },
          "metadata": {
            "tags": []
          },
          "execution_count": 37
        }
      ]
    },
    {
      "cell_type": "markdown",
      "metadata": {
        "id": "Yp1Im3kWeyS9"
      },
      "source": [
        "accuracy = 99.74%"
      ]
    },
    {
      "cell_type": "markdown",
      "metadata": {
        "id": "RBb_KIZddcdS"
      },
      "source": [
        "#Задание Lite\n",
        "\n",
        "Проведите серию экспериментов по перебору гиперпараметров нейронной сети, созданной на занятии.\n",
        "\n",
        "1. Поменяйте количество нейронов в первом скрытом слое сети, используя следующие значения:\n",
        "\n",
        "- один слой 10 нейронов\n",
        "- один слой 100 нейронов\n",
        "- один слой 5000 нейронов\n",
        "\n",
        "2. Поменяйте активационную функцию во всех скрытых слоях с relu на linear.\n",
        "\n",
        "3. Поменяйте размеры batch_size:\n",
        "\n",
        "- 1\n",
        "- 10\n",
        "- 100\n",
        "- вся база (60000)\n",
        "\n",
        "\n",
        "4. Напишите выводы по результатам проведенных тестов."
      ]
    },
    {
      "cell_type": "code",
      "metadata": {
        "colab": {
          "base_uri": "https://localhost:8080/"
        },
        "id": "DhA4g9SldfO4",
        "outputId": "1dfc20db-3c87-4d15-8e56-f86c2d8a989f"
      },
      "source": [
        "# создание нейронной сети - первый слой на 10 нейронов\n",
        "model_10 = Sequential()\n",
        "model_10.add(Dense(10, input_dim = x_train.shape[1], activation='relu'))\n",
        "model_10.add(Dense(10, activation='softmax'))\n",
        "\n",
        "model_10.compile(loss=\"categorical_crossentropy\", optimizer=\"Adam\", metrics=[\"accuracy\"])\n",
        "# обучение нейронной сети\n",
        "model_10.fit(x_train, y_train, batch_size=128, epochs=30, verbose=1)"
      ],
      "execution_count": null,
      "outputs": [
        {
          "output_type": "stream",
          "text": [
            "Epoch 1/30\n",
            "469/469 [==============================] - 1s 2ms/step - loss: 1.2666 - accuracy: 0.6114\n",
            "Epoch 2/30\n",
            "469/469 [==============================] - 1s 2ms/step - loss: 0.3657 - accuracy: 0.8990\n",
            "Epoch 3/30\n",
            "469/469 [==============================] - 1s 2ms/step - loss: 0.3134 - accuracy: 0.9117\n",
            "Epoch 4/30\n",
            "469/469 [==============================] - 1s 2ms/step - loss: 0.2842 - accuracy: 0.9193\n",
            "Epoch 5/30\n",
            "469/469 [==============================] - 1s 2ms/step - loss: 0.2706 - accuracy: 0.9230\n",
            "Epoch 6/30\n",
            "469/469 [==============================] - 1s 2ms/step - loss: 0.2669 - accuracy: 0.9240\n",
            "Epoch 7/30\n",
            "469/469 [==============================] - 1s 2ms/step - loss: 0.2619 - accuracy: 0.9257\n",
            "Epoch 8/30\n",
            "469/469 [==============================] - 1s 2ms/step - loss: 0.2502 - accuracy: 0.9290\n",
            "Epoch 9/30\n",
            "469/469 [==============================] - 1s 2ms/step - loss: 0.2450 - accuracy: 0.9303\n",
            "Epoch 10/30\n",
            "469/469 [==============================] - 1s 2ms/step - loss: 0.2321 - accuracy: 0.9330\n",
            "Epoch 11/30\n",
            "469/469 [==============================] - 1s 2ms/step - loss: 0.2308 - accuracy: 0.9332\n",
            "Epoch 12/30\n",
            "469/469 [==============================] - 1s 2ms/step - loss: 0.2231 - accuracy: 0.9359\n",
            "Epoch 13/30\n",
            "469/469 [==============================] - 1s 2ms/step - loss: 0.2198 - accuracy: 0.9370\n",
            "Epoch 14/30\n",
            "469/469 [==============================] - 1s 2ms/step - loss: 0.2172 - accuracy: 0.9390\n",
            "Epoch 15/30\n",
            "469/469 [==============================] - 1s 2ms/step - loss: 0.2151 - accuracy: 0.9395\n",
            "Epoch 16/30\n",
            "469/469 [==============================] - 1s 2ms/step - loss: 0.2128 - accuracy: 0.9397\n",
            "Epoch 17/30\n",
            "469/469 [==============================] - 1s 2ms/step - loss: 0.2095 - accuracy: 0.9395\n",
            "Epoch 18/30\n",
            "469/469 [==============================] - 1s 2ms/step - loss: 0.2072 - accuracy: 0.9422\n",
            "Epoch 19/30\n",
            "469/469 [==============================] - 1s 2ms/step - loss: 0.2029 - accuracy: 0.9428\n",
            "Epoch 20/30\n",
            "469/469 [==============================] - 1s 2ms/step - loss: 0.1992 - accuracy: 0.9429\n",
            "Epoch 21/30\n",
            "469/469 [==============================] - 1s 2ms/step - loss: 0.1970 - accuracy: 0.9446\n",
            "Epoch 22/30\n",
            "469/469 [==============================] - 1s 2ms/step - loss: 0.1913 - accuracy: 0.9464\n",
            "Epoch 23/30\n",
            "469/469 [==============================] - 1s 2ms/step - loss: 0.1915 - accuracy: 0.9453\n",
            "Epoch 24/30\n",
            "469/469 [==============================] - 1s 2ms/step - loss: 0.1955 - accuracy: 0.9453\n",
            "Epoch 25/30\n",
            "469/469 [==============================] - 1s 2ms/step - loss: 0.1841 - accuracy: 0.9476\n",
            "Epoch 26/30\n",
            "469/469 [==============================] - 1s 2ms/step - loss: 0.1927 - accuracy: 0.9447\n",
            "Epoch 27/30\n",
            "469/469 [==============================] - 1s 2ms/step - loss: 0.1887 - accuracy: 0.9458\n",
            "Epoch 28/30\n",
            "469/469 [==============================] - 1s 2ms/step - loss: 0.1907 - accuracy: 0.9461\n",
            "Epoch 29/30\n",
            "469/469 [==============================] - 1s 2ms/step - loss: 0.1823 - accuracy: 0.9479\n",
            "Epoch 30/30\n",
            "469/469 [==============================] - 1s 2ms/step - loss: 0.1801 - accuracy: 0.9479\n"
          ],
          "name": "stdout"
        },
        {
          "output_type": "execute_result",
          "data": {
            "text/plain": [
              "<tensorflow.python.keras.callbacks.History at 0x7f25b66168d0>"
            ]
          },
          "metadata": {
            "tags": []
          },
          "execution_count": 7
        }
      ]
    },
    {
      "cell_type": "markdown",
      "metadata": {
        "id": "LHDyOjdwfCID"
      },
      "source": [
        "accuracy = 94.79%, ошибка медленно уменьшается"
      ]
    },
    {
      "cell_type": "code",
      "metadata": {
        "colab": {
          "base_uri": "https://localhost:8080/"
        },
        "id": "rgg1sAU9fFlL",
        "outputId": "12b680aa-d9ef-4bda-de0a-2cab2365cb9e"
      },
      "source": [
        "# создание нейронной сети - первый слой на 100 нейронов\n",
        "model_100 = Sequential()\n",
        "model_100.add(Dense(100, input_dim = x_train.shape[1], activation='relu'))\n",
        "model_100.add(Dense(10, activation='softmax'))\n",
        "\n",
        "model_100.compile(loss=\"categorical_crossentropy\", optimizer=\"Adam\", metrics=[\"accuracy\"])\n",
        "# обучение нейронной сети\n",
        "model_100.fit(x_train, y_train, batch_size=128, epochs=30, verbose=1)"
      ],
      "execution_count": null,
      "outputs": [
        {
          "output_type": "stream",
          "text": [
            "Epoch 1/30\n",
            "469/469 [==============================] - 1s 2ms/step - loss: 0.6458 - accuracy: 0.8204\n",
            "Epoch 2/30\n",
            "469/469 [==============================] - 1s 2ms/step - loss: 0.1845 - accuracy: 0.9473\n",
            "Epoch 3/30\n",
            "469/469 [==============================] - 1s 2ms/step - loss: 0.1356 - accuracy: 0.9624\n",
            "Epoch 4/30\n",
            "469/469 [==============================] - 1s 2ms/step - loss: 0.1024 - accuracy: 0.9714\n",
            "Epoch 5/30\n",
            "469/469 [==============================] - 1s 2ms/step - loss: 0.0870 - accuracy: 0.9756\n",
            "Epoch 6/30\n",
            "469/469 [==============================] - 1s 2ms/step - loss: 0.0696 - accuracy: 0.9802\n",
            "Epoch 7/30\n",
            "469/469 [==============================] - 1s 2ms/step - loss: 0.0584 - accuracy: 0.9832\n",
            "Epoch 8/30\n",
            "469/469 [==============================] - 1s 2ms/step - loss: 0.0498 - accuracy: 0.9856\n",
            "Epoch 9/30\n",
            "469/469 [==============================] - 1s 2ms/step - loss: 0.0436 - accuracy: 0.9877\n",
            "Epoch 10/30\n",
            "469/469 [==============================] - 1s 2ms/step - loss: 0.0374 - accuracy: 0.9902\n",
            "Epoch 11/30\n",
            "469/469 [==============================] - 1s 2ms/step - loss: 0.0322 - accuracy: 0.9915\n",
            "Epoch 12/30\n",
            "469/469 [==============================] - 1s 2ms/step - loss: 0.0289 - accuracy: 0.9930\n",
            "Epoch 13/30\n",
            "469/469 [==============================] - 1s 2ms/step - loss: 0.0243 - accuracy: 0.9938\n",
            "Epoch 14/30\n",
            "469/469 [==============================] - 1s 2ms/step - loss: 0.0203 - accuracy: 0.9953\n",
            "Epoch 15/30\n",
            "469/469 [==============================] - 1s 2ms/step - loss: 0.0176 - accuracy: 0.9958\n",
            "Epoch 16/30\n",
            "469/469 [==============================] - 1s 2ms/step - loss: 0.0155 - accuracy: 0.9968\n",
            "Epoch 17/30\n",
            "469/469 [==============================] - 1s 2ms/step - loss: 0.0143 - accuracy: 0.9967\n",
            "Epoch 18/30\n",
            "469/469 [==============================] - 1s 2ms/step - loss: 0.0111 - accuracy: 0.9983\n",
            "Epoch 19/30\n",
            "469/469 [==============================] - 1s 2ms/step - loss: 0.0097 - accuracy: 0.9983\n",
            "Epoch 20/30\n",
            "469/469 [==============================] - 1s 2ms/step - loss: 0.0084 - accuracy: 0.9988\n",
            "Epoch 21/30\n",
            "469/469 [==============================] - 1s 2ms/step - loss: 0.0083 - accuracy: 0.9987\n",
            "Epoch 22/30\n",
            "469/469 [==============================] - 1s 2ms/step - loss: 0.0074 - accuracy: 0.9983\n",
            "Epoch 23/30\n",
            "469/469 [==============================] - 1s 2ms/step - loss: 0.0067 - accuracy: 0.9990\n",
            "Epoch 24/30\n",
            "469/469 [==============================] - 1s 2ms/step - loss: 0.0045 - accuracy: 0.9995\n",
            "Epoch 25/30\n",
            "469/469 [==============================] - 1s 2ms/step - loss: 0.0044 - accuracy: 0.9996\n",
            "Epoch 26/30\n",
            "469/469 [==============================] - 1s 2ms/step - loss: 0.0055 - accuracy: 0.9989\n",
            "Epoch 27/30\n",
            "469/469 [==============================] - 1s 2ms/step - loss: 0.0036 - accuracy: 0.9997\n",
            "Epoch 28/30\n",
            "469/469 [==============================] - 1s 2ms/step - loss: 0.0027 - accuracy: 0.9998\n",
            "Epoch 29/30\n",
            "469/469 [==============================] - 1s 2ms/step - loss: 0.0030 - accuracy: 0.9996\n",
            "Epoch 30/30\n",
            "469/469 [==============================] - 1s 2ms/step - loss: 0.0039 - accuracy: 0.9993\n"
          ],
          "name": "stdout"
        },
        {
          "output_type": "execute_result",
          "data": {
            "text/plain": [
              "<tensorflow.python.keras.callbacks.History at 0x7f25b65f0490>"
            ]
          },
          "metadata": {
            "tags": []
          },
          "execution_count": 8
        }
      ]
    },
    {
      "cell_type": "markdown",
      "metadata": {
        "id": "i5ySbJnbfPTL"
      },
      "source": [
        "accuracy = 99.93%"
      ]
    },
    {
      "cell_type": "code",
      "metadata": {
        "colab": {
          "base_uri": "https://localhost:8080/"
        },
        "id": "j1qO37OjfTiC",
        "outputId": "e322b892-0cfe-44a2-f6d0-f638e4a77ca8"
      },
      "source": [
        "# создание нейронной сети - первый слой на 5000 нейронов\n",
        "model_5000 = Sequential()\n",
        "model_5000.add(Dense(5000, input_dim = x_train.shape[1], activation='relu'))\n",
        "model_5000.add(Dense(10, activation='softmax'))\n",
        "\n",
        "model_5000.compile(loss=\"categorical_crossentropy\", optimizer=\"Adam\", metrics=[\"accuracy\"])\n",
        "# обучение нейронной сети\n",
        "model_5000.fit(x_train, y_train, batch_size=128, epochs=30, verbose=1)"
      ],
      "execution_count": null,
      "outputs": [
        {
          "output_type": "stream",
          "text": [
            "Epoch 1/30\n",
            "469/469 [==============================] - 1s 3ms/step - loss: 0.3412 - accuracy: 0.8949\n",
            "Epoch 2/30\n",
            "469/469 [==============================] - 1s 3ms/step - loss: 0.0745 - accuracy: 0.9778\n",
            "Epoch 3/30\n",
            "469/469 [==============================] - 1s 3ms/step - loss: 0.0463 - accuracy: 0.9854\n",
            "Epoch 4/30\n",
            "469/469 [==============================] - 1s 3ms/step - loss: 0.0279 - accuracy: 0.9922\n",
            "Epoch 5/30\n",
            "469/469 [==============================] - 1s 3ms/step - loss: 0.0200 - accuracy: 0.9934\n",
            "Epoch 6/30\n",
            "469/469 [==============================] - 1s 3ms/step - loss: 0.0153 - accuracy: 0.9952\n",
            "Epoch 7/30\n",
            "469/469 [==============================] - 1s 3ms/step - loss: 0.0129 - accuracy: 0.9959\n",
            "Epoch 8/30\n",
            "469/469 [==============================] - 1s 3ms/step - loss: 0.0161 - accuracy: 0.9949\n",
            "Epoch 9/30\n",
            "469/469 [==============================] - 1s 3ms/step - loss: 0.0074 - accuracy: 0.9974\n",
            "Epoch 10/30\n",
            "469/469 [==============================] - 1s 3ms/step - loss: 0.0100 - accuracy: 0.9968\n",
            "Epoch 11/30\n",
            "469/469 [==============================] - 1s 3ms/step - loss: 0.0072 - accuracy: 0.9977\n",
            "Epoch 12/30\n",
            "469/469 [==============================] - 1s 3ms/step - loss: 0.0114 - accuracy: 0.9960\n",
            "Epoch 13/30\n",
            "469/469 [==============================] - 1s 3ms/step - loss: 0.0055 - accuracy: 0.9982\n",
            "Epoch 14/30\n",
            "469/469 [==============================] - 1s 3ms/step - loss: 0.0042 - accuracy: 0.9990\n",
            "Epoch 15/30\n",
            "469/469 [==============================] - 1s 3ms/step - loss: 0.0058 - accuracy: 0.9980\n",
            "Epoch 16/30\n",
            "469/469 [==============================] - 1s 3ms/step - loss: 0.0119 - accuracy: 0.9966\n",
            "Epoch 17/30\n",
            "469/469 [==============================] - 1s 3ms/step - loss: 0.0070 - accuracy: 0.9977\n",
            "Epoch 18/30\n",
            "469/469 [==============================] - 1s 3ms/step - loss: 0.0041 - accuracy: 0.9986\n",
            "Epoch 19/30\n",
            "469/469 [==============================] - 1s 3ms/step - loss: 0.0078 - accuracy: 0.9976\n",
            "Epoch 20/30\n",
            "469/469 [==============================] - 1s 3ms/step - loss: 0.0051 - accuracy: 0.9983\n",
            "Epoch 21/30\n",
            "469/469 [==============================] - 1s 3ms/step - loss: 0.0068 - accuracy: 0.9981\n",
            "Epoch 22/30\n",
            "469/469 [==============================] - 1s 3ms/step - loss: 0.0037 - accuracy: 0.9987\n",
            "Epoch 23/30\n",
            "469/469 [==============================] - 1s 3ms/step - loss: 0.0040 - accuracy: 0.9987\n",
            "Epoch 24/30\n",
            "469/469 [==============================] - 1s 3ms/step - loss: 0.0054 - accuracy: 0.9985\n",
            "Epoch 25/30\n",
            "469/469 [==============================] - 1s 3ms/step - loss: 0.0080 - accuracy: 0.9976\n",
            "Epoch 26/30\n",
            "469/469 [==============================] - 1s 3ms/step - loss: 0.0068 - accuracy: 0.9982\n",
            "Epoch 27/30\n",
            "469/469 [==============================] - 1s 3ms/step - loss: 0.0020 - accuracy: 0.9995\n",
            "Epoch 28/30\n",
            "469/469 [==============================] - 1s 3ms/step - loss: 0.0031 - accuracy: 0.9990\n",
            "Epoch 29/30\n",
            "469/469 [==============================] - 1s 3ms/step - loss: 0.0079 - accuracy: 0.9981\n",
            "Epoch 30/30\n",
            "469/469 [==============================] - 1s 3ms/step - loss: 0.0085 - accuracy: 0.9978\n"
          ],
          "name": "stdout"
        },
        {
          "output_type": "execute_result",
          "data": {
            "text/plain": [
              "<tensorflow.python.keras.callbacks.History at 0x7f25b647db50>"
            ]
          },
          "metadata": {
            "tags": []
          },
          "execution_count": 9
        }
      ]
    },
    {
      "cell_type": "markdown",
      "metadata": {
        "id": "BumPYQuFf35D"
      },
      "source": [
        "accuracy = 99.74% \n",
        "когда создаем слой на большое количество нейронов возникает биение точности при обучении - не возрастание а скачки\n",
        "следовательно большое количество нейронов находит слишком много признаком и происходит переобучение"
      ]
    },
    {
      "cell_type": "markdown",
      "metadata": {
        "id": "Mu_v4qlDggo2"
      },
      "source": [
        "для данной задачи не целесообразно выбирать большое количество нейронов"
      ]
    },
    {
      "cell_type": "code",
      "metadata": {
        "colab": {
          "base_uri": "https://localhost:8080/"
        },
        "id": "VWKJSDkmgRFQ",
        "outputId": "c1c07f5b-ed33-4174-d830-2289d57f4d16"
      },
      "source": [
        "# создание нейронной сети - Linear \n",
        "model_linear = Sequential()\n",
        "model_linear.add(Dense(884, input_dim = x_train.shape[1], activation='linear'))\n",
        "model_full.add(Dense(256, activation='linear'))\n",
        "model_linear.add(Dense(10, activation='softmax'))\n",
        "\n",
        "model_linear.compile(loss=\"categorical_crossentropy\", optimizer=\"Adam\", metrics=[\"accuracy\"])\n",
        "# обучение нейронной сети\n",
        "model_linear.fit(x_train, y_train, batch_size=128, epochs=15, verbose=1)"
      ],
      "execution_count": null,
      "outputs": [
        {
          "output_type": "stream",
          "text": [
            "Epoch 1/15\n",
            "469/469 [==============================] - 1s 2ms/step - loss: 0.4843 - accuracy: 0.8546\n",
            "Epoch 2/15\n",
            "469/469 [==============================] - 1s 2ms/step - loss: 0.3295 - accuracy: 0.9073\n",
            "Epoch 3/15\n",
            "469/469 [==============================] - 1s 2ms/step - loss: 0.3036 - accuracy: 0.9159\n",
            "Epoch 4/15\n",
            "469/469 [==============================] - 1s 2ms/step - loss: 0.2986 - accuracy: 0.9172\n",
            "Epoch 5/15\n",
            "469/469 [==============================] - 1s 2ms/step - loss: 0.2865 - accuracy: 0.9185\n",
            "Epoch 6/15\n",
            "469/469 [==============================] - 1s 2ms/step - loss: 0.2903 - accuracy: 0.9190\n",
            "Epoch 7/15\n",
            "469/469 [==============================] - 1s 2ms/step - loss: 0.2824 - accuracy: 0.9184\n",
            "Epoch 8/15\n",
            "469/469 [==============================] - 1s 2ms/step - loss: 0.2857 - accuracy: 0.9201\n",
            "Epoch 9/15\n",
            "469/469 [==============================] - 1s 2ms/step - loss: 0.2750 - accuracy: 0.9218\n",
            "Epoch 10/15\n",
            "469/469 [==============================] - 1s 2ms/step - loss: 0.2743 - accuracy: 0.9220\n",
            "Epoch 11/15\n",
            "469/469 [==============================] - 1s 2ms/step - loss: 0.2738 - accuracy: 0.9214\n",
            "Epoch 12/15\n",
            "469/469 [==============================] - 1s 2ms/step - loss: 0.2751 - accuracy: 0.9221\n",
            "Epoch 13/15\n",
            "469/469 [==============================] - 1s 2ms/step - loss: 0.2691 - accuracy: 0.9240\n",
            "Epoch 14/15\n",
            "469/469 [==============================] - 1s 2ms/step - loss: 0.2663 - accuracy: 0.9257\n",
            "Epoch 15/15\n",
            "469/469 [==============================] - 1s 2ms/step - loss: 0.2645 - accuracy: 0.9242\n"
          ],
          "name": "stdout"
        },
        {
          "output_type": "execute_result",
          "data": {
            "text/plain": [
              "<tensorflow.python.keras.callbacks.History at 0x7f71a463fa50>"
            ]
          },
          "metadata": {
            "tags": []
          },
          "execution_count": 42
        }
      ]
    },
    {
      "cell_type": "markdown",
      "metadata": {
        "id": "7sstTAZPg1Oc"
      },
      "source": [
        "точность 92.42% - но ошибка больше на 0.2 - много больше\n",
        "при линейной функции активации задача плохо решается, делаем вывод, что задача распознавания цифр - нелинейная"
      ]
    },
    {
      "cell_type": "code",
      "metadata": {
        "colab": {
          "base_uri": "https://localhost:8080/"
        },
        "id": "oP7WmBjzhCgf",
        "outputId": "d672ea99-66ff-416e-d3d9-933883a15254"
      },
      "source": [
        "# создание нейронной сети - batch_size = 1\n",
        "model_1 = Sequential()\n",
        "model_1.add(Dense(884, input_dim = x_train.shape[1], activation='relu'))\n",
        "model_full.add(Dense(256, activation='relu'))\n",
        "model_1.add(Dense(10, activation='softmax'))\n",
        "\n",
        "model_1.compile(loss=\"categorical_crossentropy\", optimizer=\"Adam\", metrics=[\"accuracy\"])\n",
        "# обучение нейронной сети\n",
        "model_1.fit(x_train, y_train, batch_size=1, epochs=1, verbose=1)"
      ],
      "execution_count": null,
      "outputs": [
        {
          "output_type": "stream",
          "text": [
            "60000/60000 [==============================] - 92s 2ms/step - loss: 0.3722 - accuracy: 0.8923\n"
          ],
          "name": "stdout"
        },
        {
          "output_type": "execute_result",
          "data": {
            "text/plain": [
              "<tensorflow.python.keras.callbacks.History at 0x7f71a43a7250>"
            ]
          },
          "metadata": {
            "tags": []
          },
          "execution_count": 44
        }
      ]
    },
    {
      "cell_type": "markdown",
      "metadata": {
        "id": "TwRYq8U0iscd"
      },
      "source": [
        "accuracy = 89.23%"
      ]
    },
    {
      "cell_type": "markdown",
      "metadata": {
        "id": "f9LFVc0Nh73O"
      },
      "source": [
        "когда обучаем нейронную сеть по одной выборке - очень долгое обучение - одна эпоха - 92 секунды\n",
        "точность после первой эпохи 89%"
      ]
    },
    {
      "cell_type": "code",
      "metadata": {
        "colab": {
          "base_uri": "https://localhost:8080/"
        },
        "id": "C5ah8QnHhi7u",
        "outputId": "828ddb5e-7bc2-42f6-d87d-7fc34e941025"
      },
      "source": [
        "# создание нейронной сети - batch_size = 10 \n",
        "model_10 = Sequential()\n",
        "model_10.add(Dense(884, input_dim = x_train.shape[1], activation='relu'))\n",
        "model_full.add(Dense(256, activation='relu'))\n",
        "model_10.add(Dense(10, activation='softmax'))\n",
        "\n",
        "model_10.compile(loss=\"categorical_crossentropy\", optimizer=\"Adam\", metrics=[\"accuracy\"])\n",
        "# обучение нейронной сети\n",
        "model_10.fit(x_train, y_train, batch_size=10, epochs=15, verbose=1)"
      ],
      "execution_count": null,
      "outputs": [
        {
          "output_type": "stream",
          "text": [
            "Epoch 1/15\n",
            "6000/6000 [==============================] - 10s 2ms/step - loss: 0.2914 - accuracy: 0.9109\n",
            "Epoch 2/15\n",
            "6000/6000 [==============================] - 10s 2ms/step - loss: 0.0932 - accuracy: 0.9721\n",
            "Epoch 3/15\n",
            "6000/6000 [==============================] - 10s 2ms/step - loss: 0.0637 - accuracy: 0.9806\n",
            "Epoch 4/15\n",
            "6000/6000 [==============================] - 9s 2ms/step - loss: 0.0479 - accuracy: 0.9850\n",
            "Epoch 5/15\n",
            "6000/6000 [==============================] - 10s 2ms/step - loss: 0.0413 - accuracy: 0.9874\n",
            "Epoch 6/15\n",
            "6000/6000 [==============================] - 10s 2ms/step - loss: 0.0366 - accuracy: 0.9891\n",
            "Epoch 7/15\n",
            "6000/6000 [==============================] - 10s 2ms/step - loss: 0.0336 - accuracy: 0.9903\n",
            "Epoch 8/15\n",
            "6000/6000 [==============================] - 9s 2ms/step - loss: 0.0345 - accuracy: 0.9909\n",
            "Epoch 9/15\n",
            "6000/6000 [==============================] - 10s 2ms/step - loss: 0.0268 - accuracy: 0.9932\n",
            "Epoch 10/15\n",
            "6000/6000 [==============================] - 10s 2ms/step - loss: 0.0270 - accuracy: 0.9927\n",
            "Epoch 11/15\n",
            "6000/6000 [==============================] - 10s 2ms/step - loss: 0.0224 - accuracy: 0.9938\n",
            "Epoch 12/15\n",
            "6000/6000 [==============================] - 9s 2ms/step - loss: 0.0264 - accuracy: 0.9939\n",
            "Epoch 13/15\n",
            "6000/6000 [==============================] - 10s 2ms/step - loss: 0.0251 - accuracy: 0.9943\n",
            "Epoch 14/15\n",
            "6000/6000 [==============================] - 10s 2ms/step - loss: 0.0239 - accuracy: 0.9945\n",
            "Epoch 15/15\n",
            "6000/6000 [==============================] - 10s 2ms/step - loss: 0.0216 - accuracy: 0.9945\n"
          ],
          "name": "stdout"
        },
        {
          "output_type": "execute_result",
          "data": {
            "text/plain": [
              "<tensorflow.python.keras.callbacks.History at 0x7f71a4254550>"
            ]
          },
          "metadata": {
            "tags": []
          },
          "execution_count": 45
        }
      ]
    },
    {
      "cell_type": "markdown",
      "metadata": {
        "id": "vNgU1jYIimPc"
      },
      "source": [
        "accuracy = 99.45%"
      ]
    },
    {
      "cell_type": "code",
      "metadata": {
        "colab": {
          "base_uri": "https://localhost:8080/"
        },
        "id": "K1IGdqkfhsDH",
        "outputId": "4323eae8-bc28-4cd9-fd29-2bfad4bb96ac"
      },
      "source": [
        "# создание нейронной сети - batch_size = 10 0\n",
        "model_100 = Sequential()\n",
        "model_100.add(Dense(884, input_dim = x_train.shape[1], activation='relu'))\n",
        "model_full.add(Dense(256, activation='relu'))\n",
        "model_100.add(Dense(10, activation='softmax'))\n",
        "\n",
        "model_100.compile(loss=\"categorical_crossentropy\", optimizer=\"Adam\", metrics=[\"accuracy\"])\n",
        "# обучение нейронной сети\n",
        "model_100.fit(x_train, y_train, batch_size=100, epochs=15, verbose=1)"
      ],
      "execution_count": null,
      "outputs": [
        {
          "output_type": "stream",
          "text": [
            "Epoch 1/15\n",
            "600/600 [==============================] - 2s 2ms/step - loss: 0.3686 - accuracy: 0.8890\n",
            "Epoch 2/15\n",
            "600/600 [==============================] - 1s 2ms/step - loss: 0.0754 - accuracy: 0.9770\n",
            "Epoch 3/15\n",
            "600/600 [==============================] - 1s 2ms/step - loss: 0.0497 - accuracy: 0.9841\n",
            "Epoch 4/15\n",
            "600/600 [==============================] - 1s 2ms/step - loss: 0.0352 - accuracy: 0.9882\n",
            "Epoch 5/15\n",
            "600/600 [==============================] - 1s 2ms/step - loss: 0.0234 - accuracy: 0.9927\n",
            "Epoch 6/15\n",
            "600/600 [==============================] - 1s 2ms/step - loss: 0.0193 - accuracy: 0.9938\n",
            "Epoch 7/15\n",
            "600/600 [==============================] - 1s 2ms/step - loss: 0.0178 - accuracy: 0.9944\n",
            "Epoch 8/15\n",
            "600/600 [==============================] - 1s 2ms/step - loss: 0.0175 - accuracy: 0.9943\n",
            "Epoch 9/15\n",
            "600/600 [==============================] - 1s 2ms/step - loss: 0.0144 - accuracy: 0.9948\n",
            "Epoch 10/15\n",
            "600/600 [==============================] - 1s 2ms/step - loss: 0.0116 - accuracy: 0.9959\n",
            "Epoch 11/15\n",
            "600/600 [==============================] - 1s 2ms/step - loss: 0.0138 - accuracy: 0.9957\n",
            "Epoch 12/15\n",
            "600/600 [==============================] - 1s 2ms/step - loss: 0.0112 - accuracy: 0.9960\n",
            "Epoch 13/15\n",
            "600/600 [==============================] - 1s 2ms/step - loss: 0.0129 - accuracy: 0.9960\n",
            "Epoch 14/15\n",
            "600/600 [==============================] - 1s 2ms/step - loss: 0.0070 - accuracy: 0.9978\n",
            "Epoch 15/15\n",
            "600/600 [==============================] - 1s 2ms/step - loss: 0.0073 - accuracy: 0.9976\n"
          ],
          "name": "stdout"
        },
        {
          "output_type": "execute_result",
          "data": {
            "text/plain": [
              "<tensorflow.python.keras.callbacks.History at 0x7f71a40fbb90>"
            ]
          },
          "metadata": {
            "tags": []
          },
          "execution_count": 46
        }
      ]
    },
    {
      "cell_type": "markdown",
      "metadata": {
        "id": "zk6ziy-kizkd"
      },
      "source": [
        "accuray = 99.76%"
      ]
    },
    {
      "cell_type": "code",
      "metadata": {
        "colab": {
          "base_uri": "https://localhost:8080/"
        },
        "id": "SmuBBwZhhyQ5",
        "outputId": "1ead7183-c92c-45cd-84e4-38ce749751d7"
      },
      "source": [
        "# создание нейронной сети - batch_size = 10 0\n",
        "model_full = Sequential()\n",
        "model_full.add(Dense(884, input_dim = x_train.shape[1], activation='relu'))\n",
        "model_full.add(Dense(256, activation='relu'))\n",
        "model_full.add(Dense(10, activation='softmax'))\n",
        "\n",
        "model_full.compile(loss=\"categorical_crossentropy\", optimizer=\"Adam\", metrics=[\"accuracy\"])\n",
        "# обучение нейронной сети\n",
        "model_full.fit(x_train, y_train, batch_size=x_train.shape[0], epochs=15, verbose=1)"
      ],
      "execution_count": null,
      "outputs": [
        {
          "output_type": "stream",
          "text": [
            "Epoch 1/15\n",
            "1/1 [==============================] - 1s 511ms/step - loss: 2.3141 - accuracy: 0.1082\n",
            "Epoch 2/15\n",
            "1/1 [==============================] - 0s 114ms/step - loss: 1.9284 - accuracy: 0.5659\n",
            "Epoch 3/15\n",
            "1/1 [==============================] - 0s 122ms/step - loss: 1.5927 - accuracy: 0.7167\n",
            "Epoch 4/15\n",
            "1/1 [==============================] - 0s 98ms/step - loss: 1.2678 - accuracy: 0.7714\n",
            "Epoch 5/15\n",
            "1/1 [==============================] - 0s 86ms/step - loss: 0.9985 - accuracy: 0.7918\n",
            "Epoch 6/15\n",
            "1/1 [==============================] - 0s 138ms/step - loss: 0.7911 - accuracy: 0.8174\n",
            "Epoch 7/15\n",
            "1/1 [==============================] - 0s 95ms/step - loss: 0.6492 - accuracy: 0.8372\n",
            "Epoch 8/15\n",
            "1/1 [==============================] - 0s 88ms/step - loss: 0.5497 - accuracy: 0.8537\n",
            "Epoch 9/15\n",
            "1/1 [==============================] - 0s 121ms/step - loss: 0.4843 - accuracy: 0.8648\n",
            "Epoch 10/15\n",
            "1/1 [==============================] - 0s 117ms/step - loss: 0.4373 - accuracy: 0.8755\n",
            "Epoch 11/15\n",
            "1/1 [==============================] - 0s 118ms/step - loss: 0.4060 - accuracy: 0.8837\n",
            "Epoch 12/15\n",
            "1/1 [==============================] - 0s 129ms/step - loss: 0.3808 - accuracy: 0.8897\n",
            "Epoch 13/15\n",
            "1/1 [==============================] - 0s 117ms/step - loss: 0.3639 - accuracy: 0.8935\n",
            "Epoch 14/15\n",
            "1/1 [==============================] - 0s 82ms/step - loss: 0.3482 - accuracy: 0.8991\n",
            "Epoch 15/15\n",
            "1/1 [==============================] - 0s 84ms/step - loss: 0.3377 - accuracy: 0.9023\n"
          ],
          "name": "stdout"
        },
        {
          "output_type": "execute_result",
          "data": {
            "text/plain": [
              "<tensorflow.python.keras.callbacks.History at 0x7f720a34ce10>"
            ]
          },
          "metadata": {
            "tags": []
          },
          "execution_count": 47
        }
      ]
    },
    {
      "cell_type": "markdown",
      "metadata": {
        "id": "gHUTEKx3i2eF"
      },
      "source": [
        "accuracy = 90.23%"
      ]
    },
    {
      "cell_type": "markdown",
      "metadata": {
        "id": "ZKan40zti4ho"
      },
      "source": [
        "**Выводы**\n",
        "Количество нейронов в скрытых слоях должно иметь среднее значение (слишком большое число нейронов выделяет ненужные параметры, в то время, как малое количество нейронов, не выделяет полностью информацию)\n",
        "\n",
        "Линейная функция активации в скрытых слоях не подходит дл решения задачи\n",
        "\n",
        "batch_size - следует выбирать среним (32,64,128,256)"
      ]
    },
    {
      "cell_type": "markdown",
      "metadata": {
        "id": "dtFZF8EYiN5o"
      },
      "source": [
        "#Задание Pro\n",
        "\n",
        "Распознайте рукописную цифру, созданную вами с помощью графического редактора (например, Paint).\n",
        "\n",
        "Последовательность шагов:\n",
        "1. В графическом редакторе рисуем произвольную цифру.\n",
        "2. Сохраняем документ и загружаем его в Colaboratory.\n",
        "3. С помощью функции image.load_img(path, target_size=(28, 28), color_mode = ‘grayscale’) загружаем картинку в переменную.\n",
        "4. С помощью функции image.img_to_array(img) преобразуем изображение в numpy-массив.\n",
        "5. Выполняем инверсию цветов, нормирование и решейп массива.\n",
        "6. Выполняем распознавание собственной рукописной цифры."
      ]
    },
    {
      "cell_type": "code",
      "metadata": {
        "colab": {
          "base_uri": "https://localhost:8080/",
          "height": 283
        },
        "id": "xtra3V5diXPz",
        "outputId": "0054ebe6-c7f7-47eb-fd57-c1d667d5c618"
      },
      "source": [
        "# нарисовали в Paint произвольную цифру - 9\n",
        "path = '/content/image_9.png'\n",
        "image_9 = image.load_img(path, target_size=(28, 28), color_mode = \"grayscale\") \n",
        "# инвентируем в чб\n",
        "image_9 = PIL.ImageOps.invert(image_9)\n",
        "# преобразуем в массив нампи\n",
        "image_9 = image.img_to_array(image_9) \n",
        "# решейп\n",
        "image_9 = image_9.reshape(28,28)\n",
        "plt.imshow(Image.fromarray(image_9).convert('RGB'))\n",
        "print('Пример картинки')\n",
        "plt.show()\n",
        "# нормируем\n",
        "image_9 = image_9.reshape(1,784)\n",
        "image_9 = image_9.astype('float32')\n",
        "image_9 = image_9 / 255"
      ],
      "execution_count": null,
      "outputs": [
        {
          "output_type": "stream",
          "text": [
            "Пример картинки\n"
          ],
          "name": "stdout"
        },
        {
          "output_type": "display_data",
          "data": {
            "image/png": "[encoded data removed]",
            "text/plain": [
              "<Figure size 432x288 with 1 Axes>"
            ]
          },
          "metadata": {
            "tags": [],
            "needs_background": "light"
          }
        }
      ]
    },
    {
      "cell_type": "code",
      "metadata": {
        "colab": {
          "base_uri": "https://localhost:8080/"
        },
        "id": "1OkGisM414ji",
        "outputId": "f5640550-83b6-4f78-f998-3fde2d90fd99"
      },
      "source": [
        "# создание нейронной сети - batch_size = 1\n",
        "model_9 = Sequential()\n",
        "model_9.add(Dense(256, input_dim = x_train.shape[1], activation='relu'))\n",
        "model_9.add(Dense(512, activation='relu'))\n",
        "model_9.add(Dense(10, activation='softmax'))\n",
        "\n",
        "model_9.compile(loss=\"categorical_crossentropy\", optimizer=\"Adam\", metrics=[\"accuracy\"])\n",
        "# обучение нейронной сети\n",
        "model_9.fit(x_train, y_train, batch_size=128, epochs=15, verbose=1)"
      ],
      "execution_count": null,
      "outputs": [
        {
          "output_type": "stream",
          "text": [
            "Epoch 1/15\n",
            "469/469 [==============================] - 1s 2ms/step - loss: 0.4621 - accuracy: 0.8720\n",
            "Epoch 2/15\n",
            "469/469 [==============================] - 1s 2ms/step - loss: 0.0944 - accuracy: 0.9709\n",
            "Epoch 3/15\n",
            "469/469 [==============================] - 1s 2ms/step - loss: 0.0604 - accuracy: 0.9810\n",
            "Epoch 4/15\n",
            "469/469 [==============================] - 1s 2ms/step - loss: 0.0426 - accuracy: 0.9871\n",
            "Epoch 5/15\n",
            "469/469 [==============================] - 1s 2ms/step - loss: 0.0298 - accuracy: 0.9909\n",
            "Epoch 6/15\n",
            "469/469 [==============================] - 1s 2ms/step - loss: 0.0228 - accuracy: 0.9924\n",
            "Epoch 7/15\n",
            "469/469 [==============================] - 1s 2ms/step - loss: 0.0177 - accuracy: 0.9936\n",
            "Epoch 8/15\n",
            "469/469 [==============================] - 1s 2ms/step - loss: 0.0154 - accuracy: 0.9943\n",
            "Epoch 9/15\n",
            "469/469 [==============================] - 1s 2ms/step - loss: 0.0147 - accuracy: 0.9949\n",
            "Epoch 10/15\n",
            "469/469 [==============================] - 1s 2ms/step - loss: 0.0128 - accuracy: 0.9956\n",
            "Epoch 11/15\n",
            "469/469 [==============================] - 1s 2ms/step - loss: 0.0113 - accuracy: 0.9961\n",
            "Epoch 12/15\n",
            "469/469 [==============================] - 1s 2ms/step - loss: 0.0094 - accuracy: 0.9969\n",
            "Epoch 13/15\n",
            "469/469 [==============================] - 1s 2ms/step - loss: 0.0087 - accuracy: 0.9969\n",
            "Epoch 14/15\n",
            "469/469 [==============================] - 1s 2ms/step - loss: 0.0112 - accuracy: 0.9966\n",
            "Epoch 15/15\n",
            "469/469 [==============================] - 1s 2ms/step - loss: 0.0111 - accuracy: 0.9963\n"
          ],
          "name": "stdout"
        },
        {
          "output_type": "execute_result",
          "data": {
            "text/plain": [
              "<tensorflow.python.keras.callbacks.History at 0x7f719a661690>"
            ]
          },
          "metadata": {
            "tags": []
          },
          "execution_count": 98
        }
      ]
    },
    {
      "cell_type": "code",
      "metadata": {
        "id": "bIDFyi6O2Oz1"
      },
      "source": [
        "#Распознаём все тестовые картинки\n",
        "prediction = model_9.predict(image_9)"
      ],
      "execution_count": null,
      "outputs": []
    },
    {
      "cell_type": "code",
      "metadata": {
        "colab": {
          "base_uri": "https://localhost:8080/"
        },
        "id": "tqInoLRr2tRy",
        "outputId": "8fb37720-29ff-4bdc-f792-c8fa37cdb791"
      },
      "source": [
        "prediction"
      ],
      "execution_count": null,
      "outputs": [
        {
          "output_type": "execute_result",
          "data": {
            "text/plain": [
              "array([[2.6445624e-13, 8.9416832e-01, 6.8088757e-06, 1.4198436e-03,\n",
              "        5.5614333e-07, 1.0280975e-01, 4.5576060e-04, 1.4511513e-04,\n",
              "        9.9392061e-04, 2.1911444e-09]], dtype=float32)"
            ]
          },
          "metadata": {
            "tags": []
          },
          "execution_count": 100
        }
      ]
    },
    {
      "cell_type": "code",
      "metadata": {
        "colab": {
          "base_uri": "https://localhost:8080/"
        },
        "id": "1YS-vZLW2w66",
        "outputId": "de0f3ab8-cd1d-48a7-89b8-c35d1380905f"
      },
      "source": [
        "np.argmax(prediction)"
      ],
      "execution_count": null,
      "outputs": [
        {
          "output_type": "execute_result",
          "data": {
            "text/plain": [
              "1"
            ]
          },
          "metadata": {
            "tags": []
          },
          "execution_count": 101
        }
      ]
    },
    {
      "cell_type": "markdown",
      "metadata": {
        "id": "6gf2dis73eKR"
      },
      "source": [
        "Для данной картинки сеть выводит только 1"
      ]
    },
    {
      "cell_type": "code",
      "metadata": {
        "colab": {
          "base_uri": "https://localhost:8080/",
          "height": 283
        },
        "id": "H_mzfbtS3pa3",
        "outputId": "aca937d0-1c2d-4657-d300-78892930ee40"
      },
      "source": [
        "# нарисовали в Paint произвольную цифру - 3\n",
        "path = '/content/image_3.png'\n",
        "image_3 = image.load_img(path, target_size=(28, 28), color_mode = \"grayscale\") \n",
        "# инвентируем в чб\n",
        "image_3 = PIL.ImageOps.invert(image_3)\n",
        "# преобразуем в массив нампи\n",
        "image_3 = image.img_to_array(image_3) \n",
        "# решейп\n",
        "image_3 = image_3.reshape(28,28)\n",
        "plt.imshow(Image.fromarray(image_3).convert('RGB'))\n",
        "print('Пример картинки')\n",
        "plt.show()\n",
        "# нормируем\n",
        "image_3 = image_3.reshape(1,784)\n",
        "image_3 = image_3.astype('float32')\n",
        "image_3 = image_3 / 255"
      ],
      "execution_count": null,
      "outputs": [
        {
          "output_type": "stream",
          "text": [
            "Пример картинки\n"
          ],
          "name": "stdout"
        },
        {
          "output_type": "display_data",
          "data": {
            "image/png": "[encoded data removed]",
            "text/plain": [
              "<Figure size 432x288 with 1 Axes>"
            ]
          },
          "metadata": {
            "tags": [],
            "needs_background": "light"
          }
        }
      ]
    },
    {
      "cell_type": "code",
      "metadata": {
        "id": "y2-JCtt33tAC"
      },
      "source": [
        "#Распознаём все тестовые картинки\n",
        "prediction = model_9.predict(image_3)"
      ],
      "execution_count": null,
      "outputs": []
    },
    {
      "cell_type": "code",
      "metadata": {
        "colab": {
          "base_uri": "https://localhost:8080/"
        },
        "id": "PcFfhPgl3udy",
        "outputId": "110b3f80-813d-41f0-ef8f-91849a57050e"
      },
      "source": [
        "prediction"
      ],
      "execution_count": null,
      "outputs": [
        {
          "output_type": "execute_result",
          "data": {
            "text/plain": [
              "array([[8.8201390e-20, 3.9867293e-18, 4.5736301e-12, 1.0000000e+00,\n",
              "        6.4765417e-23, 1.1573508e-11, 1.2556649e-22, 4.9322847e-15,\n",
              "        9.7012576e-10, 8.3671637e-12]], dtype=float32)"
            ]
          },
          "metadata": {
            "tags": []
          },
          "execution_count": 104
        }
      ]
    },
    {
      "cell_type": "code",
      "metadata": {
        "colab": {
          "base_uri": "https://localhost:8080/"
        },
        "id": "gDOPSTS63vuA",
        "outputId": "421b3b66-4b0b-4d07-f90c-69c71e777131"
      },
      "source": [
        "np.argmax(prediction)"
      ],
      "execution_count": null,
      "outputs": [
        {
          "output_type": "execute_result",
          "data": {
            "text/plain": [
              "3"
            ]
          },
          "metadata": {
            "tags": []
          },
          "execution_count": 105
        }
      ]
    },
    {
      "cell_type": "markdown",
      "metadata": {
        "id": "2Mk1Dul53_U1"
      },
      "source": [
        "Тройку определили правильно"
      ]
    },
    {
      "cell_type": "markdown",
      "metadata": {
        "id": "JXDVsNRviUZD"
      },
      "source": [
        "#Задание Ultra pro\n",
        "\n",
        "Распознайте рукописную цифру, написанную на листе от руки.\n",
        "\n",
        "Последовательность шагов:\n",
        "1. На бумаге рисуем произвольную цифру (желательно нарисовать цифру размером не более 5 * 5 мм и без наклона. В занятии нейронка обучалась на цифрах американских студентов. Эти цифры были написаны на тетрадных листах в клетку и имели схожий размер)\n",
        "2. Фотографируем\n",
        "3. Загружаем фото в Colaboratory.\n",
        "4. С помощью функции image.load_img(path, target_size=(28, 28), color_mode = ‘grayscale’) загружаем картинку в переменную.\n",
        "5. С помощью функции image.img_to_array(img) преобразуем изображение в numpy-массив.\n",
        "6. Выполняем инверсию цветов, нормирование и решейп массива.\n",
        "7. Выполняем распознавание собственной рукописной цифры."
      ]
    },
    {
      "cell_type": "code",
      "metadata": {
        "colab": {
          "base_uri": "https://localhost:8080/",
          "height": 548
        },
        "id": "OSUE6QhGiWxQ",
        "outputId": "6888bd50-aaaf-41ef-8b63-eb6a12dd8049"
      },
      "source": [
        "# нарисовали в Paint произвольную цифру - 5\n",
        "path = '/content/image_5.jpg'\n",
        "image_5 = image.load_img(path, target_size=(28, 28), color_mode = \"grayscale\") \n",
        "# преобразуем в массив нампи\n",
        "image_5 = image.img_to_array(image_5) \n",
        "# решейп\n",
        "image_5 = image_5.reshape(28,28)\n",
        "plt.imshow(Image.fromarray(image_5).convert('RGB'))\n",
        "print('Пример картинки, нарисованной от руки')\n",
        "plt.show()\n",
        "\n",
        "\n",
        "# инвентируем в чб\n",
        "image_5 = image.load_img(path, target_size=(28, 28), color_mode = \"grayscale\") \n",
        "image_5 = PIL.ImageOps.invert(image_5)\n",
        "# преобразуем в массив нампи\n",
        "image_5 = image.img_to_array(image_5) \n",
        "image_5 = image_5.reshape(28,28)\n",
        "plt.imshow(Image.fromarray(image_5).convert('RGB'))\n",
        "print('Пример картинки')\n",
        "plt.show()\n",
        "# нормируем\n",
        "image_5 = image_5.reshape(1,784)\n",
        "image_5 = image_5.astype('float32')\n",
        "image_5 = image_5 / 255"
      ],
      "execution_count": null,
      "outputs": [
        {
          "output_type": "stream",
          "text": [
            "Пример картинки, нарисованной от руки\n"
          ],
          "name": "stdout"
        },
        {
          "output_type": "display_data",
          "data": {
            "image/png": "[encoded data removed]",
            "text/plain": [
              "<Figure size 432x288 with 1 Axes>"
            ]
          },
          "metadata": {
            "tags": [],
            "needs_background": "light"
          }
        },
        {
          "output_type": "stream",
          "text": [
            "Пример картинки\n"
          ],
          "name": "stdout"
        },
        {
          "output_type": "display_data",
          "data": {
            "image/png": "[encoded data removed]",
            "text/plain": [
              "<Figure size 432x288 with 1 Axes>"
            ]
          },
          "metadata": {
            "tags": [],
            "needs_background": "light"
          }
        }
      ]
    },
    {
      "cell_type": "code",
      "metadata": {
        "id": "Aq2dpqOkiQln"
      },
      "source": [
        "#Распознаём все тестовые картинки\n",
        "prediction = model_9.predict(image_5)"
      ],
      "execution_count": null,
      "outputs": []
    },
    {
      "cell_type": "code",
      "metadata": {
        "colab": {
          "base_uri": "https://localhost:8080/"
        },
        "id": "PXww3zSo5Dof",
        "outputId": "d29fe896-de0c-4537-f3d0-34e0022f7c33"
      },
      "source": [
        "prediction  "
      ],
      "execution_count": null,
      "outputs": [
        {
          "output_type": "execute_result",
          "data": {
            "text/plain": [
              "array([[6.1645513e-14, 7.9826967e-14, 1.2204851e-12, 1.3350704e-07,\n",
              "        5.0616434e-13, 9.9999380e-01, 5.6920503e-11, 2.5765512e-13,\n",
              "        2.2622055e-09, 6.0370344e-06]], dtype=float32)"
            ]
          },
          "metadata": {
            "tags": []
          },
          "execution_count": 117
        }
      ]
    },
    {
      "cell_type": "code",
      "metadata": {
        "colab": {
          "base_uri": "https://localhost:8080/"
        },
        "id": "fUNR4TuV5E0P",
        "outputId": "c365bca9-1b04-44e4-83e4-5a1a62c3ae77"
      },
      "source": [
        "np.argmax(prediction)"
      ],
      "execution_count": null,
      "outputs": [
        {
          "output_type": "execute_result",
          "data": {
            "text/plain": [
              "5"
            ]
          },
          "metadata": {
            "tags": []
          },
          "execution_count": 118
        }
      ]
    }
  ]
}