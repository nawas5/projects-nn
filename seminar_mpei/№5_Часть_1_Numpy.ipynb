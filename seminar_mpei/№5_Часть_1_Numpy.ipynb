{
  "nbformat": 4,
  "nbformat_minor": 0,
  "metadata": {
    "colab": {
      "name": "№5. Часть 1. Numpy.ipynb",
      "provenance": [],
      "collapsed_sections": [
        "XiwGik5zeW2v",
        "EJun_WgOjjrB",
        "1nqUgUoPjzQk",
        "zuqshmeilMhB",
        "3x0_2VHlljJz",
        "T0lL7_X4223L",
        "xda5awa44CNN",
        "93FARpkQ7jE0"
      ]
    },
    "kernelspec": {
      "name": "python3",
      "display_name": "Python 3"
    },
    "language_info": {
      "name": "python"
    }
  },
  "cells": [
    {
      "cell_type": "markdown",
      "metadata": {
        "id": "DwT-TS1cafhj"
      },
      "source": [
        "# Курс \"Название\"\n",
        "\n",
        "---\n",
        "# Семинар 5. Введение в библиотеки Python, Matplotlib"
      ]
    },
    {
      "cell_type": "markdown",
      "metadata": {
        "id": "VYGr8UgtUv5B"
      },
      "source": [
        "<html>\n",
        "  <head>\n",
        "    <meta charset='utf-8'>\n",
        "  </head>\n",
        "  <body>\n",
        "    <ul>\n",
        "      <li><strong>1. Введение в анализ данных и разработку на языке Python</strong>\n",
        "      <ul>\n",
        "        <li>1.1 Преимущества и недостатки языка Python. Python как инструмент для анализа данных</li>\n",
        "      </ul>\n",
        "    </ul>\n",
        "    <ul>\n",
        "      <li><strong>2. Библиотека NumPy для решения задач анализа данных и машинного обучения</strong>\n",
        "      <ul>\n",
        "        <li>2.1 Математические дисциплины в анализе данных и машинном обучении</li>\n",
        "      </ul>\n",
        "      <ul>\n",
        "        <li>2.2 Введение в NumPy</li>\n",
        "      </ul>\n",
        "    </ul>\n",
        "    <ul>\n",
        "      <li><strong>3. Графическое представление данных с помощью Matplotlib</strong>\n",
        "      <ul>\n",
        "        <li>3.1 Базовые объекты. Конфигурирование Matplotlib</li>\n",
        "      </ul>\n",
        "      <ul>\n",
        "        <li>3.2 Примеры использования бибилиотеки Matplotlib</li>\n",
        "      </ul>\n",
        "    </ul>\n",
        "  </body>\n",
        "</html>\n"
      ]
    },
    {
      "cell_type": "markdown",
      "metadata": {
        "id": "zXQ8stkp4AO0"
      },
      "source": [
        "Прочитайте про Google Colab [здесь](https://colab.research.google.com/notebooks/intro.ipynb#scrollTo=GJBs_flRovLc)"
      ]
    },
    {
      "cell_type": "markdown",
      "metadata": {
        "id": "nH8o6WbE3xB3"
      },
      "source": [
        "**Дополнительная литература **\n",
        "\n",
        "Уэс Маккинли, Python и анализ данных/ Пер. с англ. Слинкин А. А. - М.: ДМК Пресс, 2015. - 482 с.: ил. C. 93"
      ]
    },
    {
      "cell_type": "markdown",
      "metadata": {
        "id": "bNUSEpVZZHmD"
      },
      "source": [
        "На что ссылались [Открытые материалы по Python](https://github.com/capitanov/py-tutorial)"
      ]
    },
    {
      "cell_type": "markdown",
      "metadata": {
        "id": "aUkcJoxAG6zC"
      },
      "source": [
        "**Загрузим библиотеки в проект**"
      ]
    },
    {
      "cell_type": "code",
      "metadata": {
        "id": "j098igHTG-EM"
      },
      "source": [
        "import numpy as np\n",
        "import matplotlib.pyplot as plt"
      ],
      "execution_count": null,
      "outputs": []
    },
    {
      "cell_type": "markdown",
      "metadata": {
        "id": "XiwGik5zeW2v"
      },
      "source": [
        "# **1. Введение в анализ данных и разработку на языке Python**"
      ]
    },
    {
      "cell_type": "markdown",
      "metadata": {
        "id": "KiVZsR04eb_q"
      },
      "source": [
        "В настоящий момент Python является наиболее популярным языком в анализе данных и машинном обучении. \n",
        "\n",
        "Обзор на языки программирования дополнительно можно почитать [здесь](https://habr.com/ru/post/337330/)"
      ]
    },
    {
      "cell_type": "markdown",
      "metadata": {
        "id": "znRv1wjvfKIU"
      },
      "source": [
        "**Основные преимущества языка Python**\n",
        "\n",
        "\n",
        "\n",
        "*   Скорость разработки (количество времени, затраченное программитом на постановку эксперимента)\n",
        "*   Многочисленное сообщество (поддержка по многим возникающим вопросам)\n",
        "*   Большое количество открытых библиотек для анализа данных и машинного обучения:\n",
        "    *   ```numpy``` - работа с массивами данных\n",
        "    *   ```scipy``` - работа с научными вычислениями и статистикой\n",
        "    *   ```pandas``` - работа с массивами структуированных данных\n",
        "    *   ```matplotlib``` - визуализация\n",
        "    *   ```scikit-learn``` - методы машинного обучения\n",
        "    *   ```keras``` - методы глубокого обучения\n",
        "    *   ```tensorflow``` - работа с тензорами и глубокое машинное обучение\n",
        "    *   ```torch``` - работа с тензорами и глубокое машинное обучение\n",
        "*   Оптимизация с использованием низкоуровневых языков программирования (C++)\n",
        "*   Интеграция с кодом низкоуровневых языков программирования (C++)\n",
        "*   Универсальность языка - решение широкого круга задач\n"
      ]
    },
    {
      "cell_type": "markdown",
      "metadata": {
        "id": "d92Is1pxhvj_"
      },
      "source": [
        "**Основные недостатки языка Python**\n",
        "\n",
        "\n",
        "\n",
        "*   Относительно низкая скорость работы по сравнению с компилируемыми языками программирования (C++ и Java)\n",
        "*   Отсутствие строгой типизации - подверженность ошибкам\n",
        "\n"
      ]
    },
    {
      "cell_type": "markdown",
      "metadata": {
        "id": "zbAt4ecAiLSw"
      },
      "source": [
        "Python отлично подходит для решения задач, в которых время разработки программы гораздо \"дороже\", чем время её исполнения. \n",
        "\n",
        "В рамках задач анализа данных, где большое количество времени затрачивается аналитиком для проверки гипотез о закономерностях в даннх и настройке алгоритмов машинного обучения, Python, как правило, сильно экономит время и бюджет.\n",
        "\n",
        "Для задач, требующих быстроту исполнения (например, получения отклика от высоконагруженнного сервера или обработки потокового видео), будет оправдано переложить исследовательской код программы, написанной на Python, на комплилируемый язык программирования."
      ]
    },
    {
      "cell_type": "markdown",
      "metadata": {
        "id": "EJun_WgOjjrB"
      },
      "source": [
        "# **2. Библиотека NumPy для решения задач анализа данных и машинного обучения**"
      ]
    },
    {
      "cell_type": "markdown",
      "metadata": {
        "id": "1nqUgUoPjzQk"
      },
      "source": [
        "## 2.1 Математические дисциплины в анализе данных и машинном обучении"
      ]
    },
    {
      "cell_type": "markdown",
      "metadata": {
        "id": "Gh4OjnWlj_Ze"
      },
      "source": [
        "**Математические дисциплины в анализе данных и машинном обучении:**\n",
        "\n",
        "\n",
        "*   Линейная алгебра\n",
        "    \n",
        "    *  Одномерные векторы и двумерные матрицы\n",
        "    *  Операции над одномерными векторами\n",
        "    *  Операции над матрицами\n",
        "    *  Транспонирование матриц, обратные матрицы\n",
        "\n",
        "*   Математический анализ \n",
        "    *  Одномерные функции\n",
        "    *  Многомерные функции и поверхности\n",
        "    *  Локальные и глобальные минимумы и максимумы\n",
        "    *  Производные\n",
        "    *  Интерполяция и экстраполяция функций   \n",
        "\n",
        "*   Теория вероятностей и математическая статистика\n",
        "    *  Случайные величины\n",
        "    *  Вероятности событий\n",
        "    *  Распределения случайных величин\n",
        "    *  Квантили и персентили\n",
        "    *  Визуализация случайных распределений  \n",
        "    *  Ковариация и корреляция\n",
        "\n",
        "Некоторые дополнительные тематики:\n",
        "*   Метрические пространства. Расстояния и меры близости "
      ]
    },
    {
      "cell_type": "markdown",
      "metadata": {
        "id": "TeczttmQkORg"
      },
      "source": [
        "Дорожная карта по изучению математических дисциплин в анализе данных и машинном обучении (подробнее в [статье](https://habr.com/ru/post/432670/)):\n",
        "\n",
        "![alt text](https://hsto.org/webt/ip/me/rw/ipmerwtq9xzslux320ojsbdur_k.png)"
      ]
    },
    {
      "cell_type": "markdown",
      "metadata": {
        "id": "BRhYjA9ZkwW4"
      },
      "source": [
        "**Библиотеки языка Python в решении задач анализа данных и машинного обучения**"
      ]
    },
    {
      "cell_type": "markdown",
      "metadata": {
        "id": "zuqshmeilMhB"
      },
      "source": [
        "### Numpy"
      ]
    },
    {
      "cell_type": "markdown",
      "metadata": {
        "id": "7DmyZY5dlbi2"
      },
      "source": [
        "Основные инструменты и возможности библиотеки NumPy:\n",
        "\n",
        "*    ndarray, быстрый и потребляющий мало памяти многомерный массив,\n",
        "предоставляющий векторные арифметические операции\n",
        "*    стандартные математические функции для выполнения быстрых опера­ций над целыми массивами без явного выписывания циклов\n",
        "*    средства для чтения массива данных с диска и записи его на диск\n",
        "*    алгоритмы линейной алгебры, генерация случайных чисел и преобразова­ние Фурье\n",
        "*    средства для интеграции с кодом, написанным на С, С++ или Fortran"
      ]
    },
    {
      "cell_type": "markdown",
      "metadata": {
        "id": "SrNbXO95lfdH"
      },
      "source": [
        "Наиболее значимые возможности библиотеки NumPy в решении задач анализа данных:\n",
        "*    быстрые векторные операции для переформатирования и очистки данных,\n",
        "выборки подмножеств и фильтрации, преобразований и других видов вы­числений\n",
        "*    стандартные алгоритмы работы с массивами, например: фильтрация, уда­ление дубликатов и теоретико-множественные операции\n",
        "*    эффективная описательная статистика, агрегирование и обобщение данных\n",
        "*    выравнивание данных и реляционные операции объединения и соединения разнородных наборов данных\n",
        "*    описание условной логики в виде выражений-массивов вместо циклов с ветвлением ```if-elif-else```\n",
        "*    групповые операции с данными (агрегирование, преобразование, примене­ние функции)"
      ]
    },
    {
      "cell_type": "markdown",
      "metadata": {
        "id": "3x0_2VHlljJz"
      },
      "source": [
        "### SciPy"
      ]
    },
    {
      "cell_type": "markdown",
      "metadata": {
        "id": "srsv4R2ullO4"
      },
      "source": [
        "SciPy организовано в подпакеты, охватывающих различные научные вычислительные области. Они приведены в следующей таблице:\n",
        "\n",
        "![alt text](https://drive.google.com/uc?id=1c5rGwvXOqsFhMVGE2XdXXE5OnEZ6CZYC)"
      ]
    },
    {
      "cell_type": "markdown",
      "metadata": {
        "id": "ozoaWEc4lrXZ"
      },
      "source": [
        "## 2.2 Введение в NumPy"
      ]
    },
    {
      "cell_type": "markdown",
      "metadata": {
        "id": "T0lL7_X4223L"
      },
      "source": [
        "### 2.2.1 Быстрые поэлементные операции над массивами"
      ]
    },
    {
      "cell_type": "markdown",
      "metadata": {
        "id": "GtjOCE3UmFde"
      },
      "source": [
        "**Основы**"
      ]
    },
    {
      "cell_type": "markdown",
      "metadata": {
        "id": "xCDVeTlhzapu"
      },
      "source": [
        "Основной объект в Numpy - однородный многомерный массив **ndarray**, представляющий собой контейнер элементов (как правило, чисел) только одного типа, проиндексированных натуральными числами.\n",
        "\n",
        "Размерности массива в Numpy называют осями **(axis)**."
      ]
    },
    {
      "cell_type": "code",
      "metadata": {
        "colab": {
          "base_uri": "https://localhost:8080/",
          "height": 35
        },
        "id": "xNfDj3-Jz-ra",
        "outputId": "f2dc5c78-d604-4f61-aff1-4ada4f299912"
      },
      "source": [
        "# Подгрузим библиотеку в проект\n",
        "import numpy as np\n",
        "# Так-же можно посмотреть версию библиотеки\n",
        "np.__version__"
      ],
      "execution_count": null,
      "outputs": [
        {
          "output_type": "execute_result",
          "data": {
            "application/vnd.google.colaboratory.intrinsic+json": {
              "type": "string"
            },
            "text/plain": [
              "'1.19.5'"
            ]
          },
          "metadata": {},
          "execution_count": 1
        }
      ]
    },
    {
      "cell_type": "markdown",
      "metadata": {
        "id": "2pn5r-jI0TAh"
      },
      "source": [
        "**Создание ndarray**\n",
        "\n",
        "Функции создания массива ndarray:\n",
        "\n",
        "![alt text](https://drive.google.com/uc?id=1x1-pFEatUPospJm0LG4hLSEB85KcP5EI)"
      ]
    },
    {
      "cell_type": "markdown",
      "metadata": {
        "id": "bv5M4O-B0hXW"
      },
      "source": [
        "Самый простой способ создания массива - через list (список) в Python:"
      ]
    },
    {
      "cell_type": "code",
      "metadata": {
        "colab": {
          "base_uri": "https://localhost:8080/"
        },
        "id": "DrSTzpga0n1j",
        "outputId": "873521fb-dd54-44e2-b95d-6705a9cf5468"
      },
      "source": [
        "data = np.array([[1, 2, 3],\n",
        "                 [4, 5, 6]])\n",
        "print('Тип объекта data: ', type(data))\n",
        "print('Тип элемента объекта data: ', data.dtype)\n",
        "print('Размер объекта data: ', data.shape)"
      ],
      "execution_count": null,
      "outputs": [
        {
          "output_type": "stream",
          "text": [
            "Тип объекта data:  <class 'numpy.ndarray'>\n",
            "Тип элемента объекта data:  int64\n",
            "Размер объекта data:  (2, 3)\n"
          ],
          "name": "stdout"
        }
      ]
    },
    {
      "cell_type": "markdown",
      "metadata": {
        "id": "J2SDBwtb1KhA"
      },
      "source": [
        "С помощью встроенного метода arange([start,] stop[, step,], dtype=None)"
      ]
    },
    {
      "cell_type": "code",
      "metadata": {
        "colab": {
          "base_uri": "https://localhost:8080/"
        },
        "id": "uuG1AfdE0MhU",
        "outputId": "3019cad2-102b-4cac-9366-658107a57273"
      },
      "source": [
        "print('Подобие функции range')\n",
        "data = np.arange(10)\n",
        "data"
      ],
      "execution_count": null,
      "outputs": [
        {
          "output_type": "stream",
          "text": [
            "Подобие функции range\n"
          ],
          "name": "stdout"
        },
        {
          "output_type": "execute_result",
          "data": {
            "text/plain": [
              "array([0, 1, 2, 3, 4, 5, 6, 7, 8, 9])"
            ]
          },
          "metadata": {},
          "execution_count": 6
        }
      ]
    },
    {
      "cell_type": "markdown",
      "metadata": {
        "id": "vnoCLtGoz8EM"
      },
      "source": [
        "**Типы данных для ndarray**\n",
        "\n",
        "![alt text](https://drive.google.com/uc?id=1laOM-l8KmPfr3IAHDrj5i-G9hpf3qltv)"
      ]
    },
    {
      "cell_type": "code",
      "metadata": {
        "colab": {
          "base_uri": "https://localhost:8080/"
        },
        "id": "lcm4IK1Lwr1r",
        "outputId": "bf79baeb-d385-46a9-b197-89209d4ba691"
      },
      "source": [
        "arr1 = np.array([1, 2, 3], dtype=np.float64)\n",
        "arr2 = np.array([1, 2, 3], dtype=np.int32)\n",
        "print('Тип массива arr1:', arr1.dtype)\n",
        "print('Тип массива arr2:', arr2.dtype)"
      ],
      "execution_count": null,
      "outputs": [
        {
          "output_type": "stream",
          "text": [
            "Тип массива arr1: float64\n",
            "Тип массива arr2: int32\n"
          ],
          "name": "stdout"
        }
      ]
    },
    {
      "cell_type": "code",
      "metadata": {
        "colab": {
          "base_uri": "https://localhost:8080/"
        },
        "id": "9GbdT38P2N29",
        "outputId": "2faaa870-c16c-44f1-952e-c88bd758114d"
      },
      "source": [
        "print('Преобразование типов данных:')\n",
        "arr = np.array([1, 2, 3, 4, 5])\n",
        "print('до',arr.dtype)\n",
        "\n",
        "float_arr = arr.astype(np.float64)\n",
        "print('после',float_arr.dtype)"
      ],
      "execution_count": null,
      "outputs": [
        {
          "output_type": "stream",
          "text": [
            "Преобразование типов данных:\n",
            "до int64\n",
            "после float64\n"
          ],
          "name": "stdout"
        }
      ]
    },
    {
      "cell_type": "code",
      "metadata": {
        "colab": {
          "base_uri": "https://localhost:8080/"
        },
        "id": "4mcTdByT2cNr",
        "outputId": "7f1e9fca-47c3-41f8-8e1b-5b5fa402f5b8"
      },
      "source": [
        "print('Преобразование типов данных:')\n",
        "\n",
        "arr = np.array([3.7, -1.2, -2.6, 0.5, 12.9, 10.1])\n",
        "print('Исходный массив типа', arr.dtype)\n",
        "print(arr)\n",
        "\n",
        "print('Массив типа int32')\n",
        "print(arr.astype(np.int32))\n",
        "\n",
        "print('Массив типа string_')\n",
        "print(arr.astype(np.string_))"
      ],
      "execution_count": null,
      "outputs": [
        {
          "output_type": "stream",
          "text": [
            "Преобразование типов данных:\n",
            "Исходный массив типа float64\n",
            "[ 3.7 -1.2 -2.6  0.5 12.9 10.1]\n",
            "Массив типа int32\n",
            "[ 3 -1 -2  0 12 10]\n",
            "Массив типа string_\n",
            "[b'3.7' b'-1.2' b'-2.6' b'0.5' b'12.9' b'10.1']\n"
          ],
          "name": "stdout"
        }
      ]
    },
    {
      "cell_type": "markdown",
      "metadata": {
        "id": "2PtRrplC2_mL"
      },
      "source": [
        "**Операции между массивами и скалярами**"
      ]
    },
    {
      "cell_type": "code",
      "metadata": {
        "colab": {
          "base_uri": "https://localhost:8080/"
        },
        "id": "1H9VBcrW3Bn9",
        "outputId": "ba9f6426-8c8d-4820-e917-b1d5a6d3f337"
      },
      "source": [
        "arr1 = np.array([[1., 2., 3.], [4., 5., 6.]])\n",
        "arr2 = np.array([[4., 5., 6.], [1., 2., 3.]])\n",
        "print('Арифметические операции между массивами:')\n",
        "print(arr1)\n",
        "print(arr2)\n",
        "\n",
        "print('*'*30)\n",
        "print('Поэлементное умножение:')\n",
        "print(arr1 * arr2)\n",
        "\n",
        "print('*'*30)\n",
        "print('Поэлементное деление:')\n",
        "print(arr1/arr2)\n",
        "\n",
        "print('*'*30)\n",
        "print('Поэлементное сложение:')\n",
        "print(arr1 + arr2)\n",
        "\n",
        "print('*'*30)\n",
        "print('Поэлементная разность:')\n",
        "print(arr1 - arr2)"
      ],
      "execution_count": null,
      "outputs": [
        {
          "output_type": "stream",
          "text": [
            "Арифметические операции между массивами:\n",
            "[[1. 2. 3.]\n",
            " [4. 5. 6.]]\n",
            "[[4. 5. 6.]\n",
            " [1. 2. 3.]]\n",
            "******************************\n",
            "Поэлементное умножение:\n",
            "[[ 4. 10. 18.]\n",
            " [ 4. 10. 18.]]\n",
            "******************************\n",
            "Поэлементное деление:\n",
            "[[0.25 0.4  0.5 ]\n",
            " [4.   2.5  2.  ]]\n",
            "******************************\n",
            "Поэлементное сложение:\n",
            "[[5. 7. 9.]\n",
            " [5. 7. 9.]]\n",
            "******************************\n",
            "Поэлементная разность:\n",
            "[[-3. -3. -3.]\n",
            " [ 3.  3.  3.]]\n"
          ],
          "name": "stdout"
        }
      ]
    },
    {
      "cell_type": "code",
      "metadata": {
        "colab": {
          "base_uri": "https://localhost:8080/"
        },
        "id": "ZqDiJLG93Gdn",
        "outputId": "43a5b049-1dc4-4b1f-c110-e7cf4c41262f"
      },
      "source": [
        "print('Поэлементное сравнение элементов массивов:')\n",
        "print(arr1 > arr2)"
      ],
      "execution_count": null,
      "outputs": [
        {
          "output_type": "stream",
          "text": [
            "Поэлементное сравнение элементов массивов:\n",
            "[[False False False]\n",
            " [ True  True  True]]\n"
          ],
          "name": "stdout"
        }
      ]
    },
    {
      "cell_type": "code",
      "metadata": {
        "colab": {
          "base_uri": "https://localhost:8080/"
        },
        "id": "kpYv2x2t3ICh",
        "outputId": "d1c6fbb7-c6bc-4c83-f598-5c8b21bb265a"
      },
      "source": [
        "print('Операция со скалярами:')\n",
        "print(arr1 * 5)\n",
        "print(arr1 / 5)\n",
        "print(arr1 + 5)\n",
        "print(arr1 - 5)"
      ],
      "execution_count": null,
      "outputs": [
        {
          "output_type": "stream",
          "text": [
            "Операция со скалярами:\n",
            "[[ 5. 10. 15.]\n",
            " [20. 25. 30.]]\n",
            "[[0.2 0.4 0.6]\n",
            " [0.8 1.  1.2]]\n",
            "[[ 6.  7.  8.]\n",
            " [ 9. 10. 11.]]\n",
            "[[-4. -3. -2.]\n",
            " [-1.  0.  1.]]\n"
          ],
          "name": "stdout"
        }
      ]
    },
    {
      "cell_type": "markdown",
      "metadata": {
        "id": "P2AoWz773LOF"
      },
      "source": [
        "**Быстрые поэлементарные операции над массивами**"
      ]
    },
    {
      "cell_type": "markdown",
      "metadata": {
        "id": "7_cx0rai3PYd"
      },
      "source": [
        "Бинарные функции\n",
        "\n",
        "![alt text](https://drive.google.com/uc?id=1fjUKRouIuFOY_whkBmZIww0SgodA8UEN)"
      ]
    },
    {
      "cell_type": "markdown",
      "metadata": {
        "id": "hpU3uKz43gw-"
      },
      "source": [
        "Унарные функции\n",
        "\n",
        "![alt text](https://drive.google.com/uc?id=13mdlDmD4DOWOvCQyM2wxPJvKEiURGi8H)"
      ]
    },
    {
      "cell_type": "code",
      "metadata": {
        "colab": {
          "base_uri": "https://localhost:8080/"
        },
        "id": "c8lJypkg3hT5",
        "outputId": "67345bb7-b169-44a8-d14b-5eeb91cf8b6d"
      },
      "source": [
        "arr = np.arange(10)\n",
        "print('Взятие корня всех элементов массива:')\n",
        "print(arr)\n",
        "print(np.sqrt(arr))"
      ],
      "execution_count": null,
      "outputs": [
        {
          "output_type": "stream",
          "text": [
            "Взятие корня всех элементов массива:\n",
            "[0 1 2 3 4 5 6 7 8 9]\n",
            "[0.         1.         1.41421356 1.73205081 2.         2.23606798\n",
            " 2.44948974 2.64575131 2.82842712 3.        ]\n"
          ],
          "name": "stdout"
        }
      ]
    },
    {
      "cell_type": "code",
      "metadata": {
        "colab": {
          "base_uri": "https://localhost:8080/"
        },
        "id": "pyucnoyl3o1H",
        "outputId": "b45ab91b-5961-48b9-9c1d-b5302715d08a"
      },
      "source": [
        "arr = [1.3, 1.2, 2.0, np.nan, 3.0, 1.0]\n",
        "print('Проверка на наличие нечислового значения NaN в массиве:')\n",
        "print(arr)\n",
        "print(np.isnan(arr))"
      ],
      "execution_count": null,
      "outputs": [
        {
          "output_type": "stream",
          "text": [
            "Проверка на наличие нечислового значения NaN в массиве:\n",
            "[1.3, 1.2, 2.0, nan, 3.0, 1.0]\n",
            "[False False False  True False False]\n"
          ],
          "name": "stdout"
        }
      ]
    },
    {
      "cell_type": "markdown",
      "metadata": {
        "id": "O2RGHj7V4eJq"
      },
      "source": [
        "**Массивы с начальными значениями**"
      ]
    },
    {
      "cell_type": "markdown",
      "metadata": {
        "id": "N38qdQNa4hTy"
      },
      "source": [
        "Можно создавать массивы, заполненные нулями, единицами, случайным мусором или пользовательским значением"
      ]
    },
    {
      "cell_type": "code",
      "metadata": {
        "colab": {
          "base_uri": "https://localhost:8080/"
        },
        "id": "dsFWT9SC4vi6",
        "outputId": "321a3aaf-15a9-4ad6-abf7-2b48b9a2d778"
      },
      "source": [
        "np.zeros(5, dtype=int)"
      ],
      "execution_count": null,
      "outputs": [
        {
          "output_type": "execute_result",
          "data": {
            "text/plain": [
              "array([0, 0, 0, 0, 0])"
            ]
          },
          "metadata": {},
          "execution_count": 27
        }
      ]
    },
    {
      "cell_type": "code",
      "metadata": {
        "colab": {
          "base_uri": "https://localhost:8080/"
        },
        "id": "7ZATjBMj4xT9",
        "outputId": "ad2ffde8-7ad3-4096-c53f-0d01ace4f0eb"
      },
      "source": [
        "np.ones((2,5))"
      ],
      "execution_count": null,
      "outputs": [
        {
          "output_type": "execute_result",
          "data": {
            "text/plain": [
              "array([[1., 1., 1., 1., 1.],\n",
              "       [1., 1., 1., 1., 1.]])"
            ]
          },
          "metadata": {},
          "execution_count": 22
        }
      ]
    },
    {
      "cell_type": "code",
      "metadata": {
        "colab": {
          "base_uri": "https://localhost:8080/"
        },
        "id": "JRNCuFku4zMX",
        "outputId": "232dc500-4105-44e6-9be5-b7a46156a9de"
      },
      "source": [
        "np.full((2,3), 5)"
      ],
      "execution_count": null,
      "outputs": [
        {
          "output_type": "execute_result",
          "data": {
            "text/plain": [
              "array([[5, 5, 5],\n",
              "       [5, 5, 5]])"
            ]
          },
          "metadata": {},
          "execution_count": 23
        }
      ]
    },
    {
      "cell_type": "code",
      "metadata": {
        "colab": {
          "base_uri": "https://localhost:8080/"
        },
        "id": "lGYEV1VO4_Pn",
        "outputId": "ab1e075e-1ae2-4738-acbe-c210ee505b87"
      },
      "source": [
        "b = np.empty(5)\n",
        "b.fill(555)\n",
        "b"
      ],
      "execution_count": null,
      "outputs": [
        {
          "output_type": "execute_result",
          "data": {
            "text/plain": [
              "array([555., 555., 555., 555., 555.])"
            ]
          },
          "metadata": {},
          "execution_count": 30
        }
      ]
    },
    {
      "cell_type": "code",
      "metadata": {
        "colab": {
          "base_uri": "https://localhost:8080/"
        },
        "id": "QGrXbP3v5UTc",
        "outputId": "5a7aa1dd-4186-42a9-822a-3033e724500b"
      },
      "source": [
        "np.linspace(0, 1, 5)"
      ],
      "execution_count": null,
      "outputs": [
        {
          "output_type": "execute_result",
          "data": {
            "text/plain": [
              "array([0.  , 0.25, 0.5 , 0.75, 1.  ])"
            ]
          },
          "metadata": {},
          "execution_count": 31
        }
      ]
    },
    {
      "cell_type": "code",
      "metadata": {
        "colab": {
          "base_uri": "https://localhost:8080/"
        },
        "id": "NNI4i1xQ5X2W",
        "outputId": "67a3b561-69c2-4029-84c2-a13e2d2dffb4"
      },
      "source": [
        "np.eye(5, dtype=int)"
      ],
      "execution_count": null,
      "outputs": [
        {
          "output_type": "execute_result",
          "data": {
            "text/plain": [
              "array([[1, 0, 0, 0, 0],\n",
              "       [0, 1, 0, 0, 0],\n",
              "       [0, 0, 1, 0, 0],\n",
              "       [0, 0, 0, 1, 0],\n",
              "       [0, 0, 0, 0, 1]])"
            ]
          },
          "metadata": {},
          "execution_count": 32
        }
      ]
    },
    {
      "cell_type": "markdown",
      "metadata": {
        "id": "xda5awa44CNN"
      },
      "source": [
        "### 2.2.2 Индексирование и вырезание"
      ]
    },
    {
      "cell_type": "markdown",
      "metadata": {
        "id": "j6ETMIxD5eQA"
      },
      "source": [
        "**Индексирование**"
      ]
    },
    {
      "cell_type": "markdown",
      "metadata": {
        "id": "Pz1uZb3U4NTk"
      },
      "source": [
        "Индексирование одномерных массивов ```ndarray``` осуществляется в точности как и обыкновенных ```list```. Для двумерных массивов можно в качестве дополнительного пояснения рассмотреть следующую картинку:\n",
        "\n",
        "![alt text](https://drive.google.com/uc?id=1_eVlCkFsQv-vrDVn6pP3a-44uCZqUsAa)"
      ]
    },
    {
      "cell_type": "code",
      "metadata": {
        "colab": {
          "base_uri": "https://localhost:8080/"
        },
        "id": "J7nJGCHH4FWY",
        "outputId": "7bc2c07c-abd0-4005-9308-d4833f6372f4"
      },
      "source": [
        "import numpy as np\n",
        "arr = np.zeros(10) + 1\n",
        "print('Исходный массив\\n',arr)\n",
        "print('Элемент с индексом 5:',arr[5])\n",
        "print('Последний элемент:',arr[-1])"
      ],
      "execution_count": null,
      "outputs": [
        {
          "output_type": "stream",
          "text": [
            "Исходный массив\n",
            " [1. 1. 1. 1. 1. 1. 1. 1. 1. 1.]\n",
            "Элемент с индексом 5: 1.0\n",
            "Последний элемент: 1.0\n"
          ],
          "name": "stdout"
        }
      ]
    },
    {
      "cell_type": "code",
      "metadata": {
        "colab": {
          "base_uri": "https://localhost:8080/"
        },
        "id": "0fm87w7r4RNc",
        "outputId": "49e61cab-8716-478e-c159-f3f1d14fff0b"
      },
      "source": [
        "arr2d = np.array([[1, 2, 3], [4, 5, 6], [7, 8, 9]])\n",
        "print('Исходный массив\\n',arr2d)\n",
        "print('Элемент 2 строки 0 столбца:', arr2d[2][0])\n",
        "print('Элемент 2 строки 0 столбца:', arr2d[2,0])\n",
        "print('Cтрока 0:', arr2d[0])"
      ],
      "execution_count": null,
      "outputs": [
        {
          "output_type": "stream",
          "text": [
            "Исходный массив\n",
            " [[1 2 3]\n",
            " [4 5 6]\n",
            " [7 8 9]]\n",
            "Элемент 2 строки 0 столбца: 7\n",
            "Элемент 2 строки 0 столбца: 7\n",
            "Cтрока 0: [1 2 3]\n"
          ],
          "name": "stdout"
        }
      ]
    },
    {
      "cell_type": "markdown",
      "metadata": {
        "id": "vYqCE0x25hhK"
      },
      "source": [
        "**Срез**"
      ]
    },
    {
      "cell_type": "markdown",
      "metadata": {
        "id": "-ehj_epU5rQl"
      },
      "source": [
        "Операции среза также выполнены по аналогии со списками, но важно помнить, что срез ```ndarray``` не является копией массива, а только его представлением. Некоторые конфигурации срезов представлены на картинке ниже:\n",
        "\n",
        "![alt text](https://drive.google.com/uc?id=1cQpyJFuS06F8bo1ulYOdPhDyybOVW5WO)"
      ]
    },
    {
      "cell_type": "code",
      "metadata": {
        "colab": {
          "base_uri": "https://localhost:8080/"
        },
        "id": "e8k9XPvU5rsX",
        "outputId": "e7ad2803-07ba-4133-a648-3ab8c6a0a6a4"
      },
      "source": [
        "arr = np.arange(10)\n",
        "print('Исходный массив:',arr[:])\n",
        "print('Элементы с индексами от 5 до 8:',arr[5:9])\n",
        "print('Элементы с индексами до 8:',arr[:9])\n",
        "print('Элементы с индексами до 8:',arr[0:9])\n",
        "print('Элементы с индексами до 8:',arr[0:-1])\n",
        "print('Последний элемент:',arr[-1:])"
      ],
      "execution_count": null,
      "outputs": [
        {
          "output_type": "stream",
          "text": [
            "Исходный массив: [0 1 2 3 4 5 6 7 8 9]\n",
            "Элементы с индексами от 5 до 8: [5 6 7 8]\n",
            "Элементы с индексами до 8: [0 1 2 3 4 5 6 7 8]\n",
            "Элементы с индексами до 8: [0 1 2 3 4 5 6 7 8]\n",
            "Элементы с индексами до 8: [0 1 2 3 4 5 6 7 8]\n",
            "Последний элемент: [9]\n"
          ],
          "name": "stdout"
        }
      ]
    },
    {
      "cell_type": "code",
      "metadata": {
        "colab": {
          "base_uri": "https://localhost:8080/"
        },
        "id": "3Ro2kUUB59ai",
        "outputId": "1459df22-42ed-4447-ebe4-4b12d86fc627"
      },
      "source": [
        "arr2d = np.array([[1, 2, 3], [4, 5, 6], [7, 8, 9]])\n",
        "print('Исходный массив:\\n',arr2d[:,:])\n",
        "print('Все строки кроме первой:\\n', arr2d[1:])\n",
        "print('Все строки кроме первой:\\n', arr2d[1:,:])\n",
        "print('Все столбцы кроме последнего:\\n', arr2d[:,:-1])\n",
        "print('Квадратная подматрица в верхнем правом углу:\\n', arr2d[:2,1:])"
      ],
      "execution_count": null,
      "outputs": [
        {
          "output_type": "stream",
          "text": [
            "Исходный массив:\n",
            " [[1 2 3]\n",
            " [4 5 6]\n",
            " [7 8 9]]\n",
            "Все строки кроме первой:\n",
            " [[4 5 6]\n",
            " [7 8 9]]\n",
            "Все строки кроме первой:\n",
            " [[4 5 6]\n",
            " [7 8 9]]\n",
            "Все столбцы кроме последнего:\n",
            " [[1 2]\n",
            " [4 5]\n",
            " [7 8]]\n",
            "Квадратная подматрица в верхнем правом углу:\n",
            " [[2 3]\n",
            " [5 6]]\n"
          ],
          "name": "stdout"
        }
      ]
    },
    {
      "cell_type": "markdown",
      "metadata": {
        "id": "SfZCPuXa6Hr5"
      },
      "source": [
        "**Булева индексация**"
      ]
    },
    {
      "cell_type": "code",
      "metadata": {
        "colab": {
          "base_uri": "https://localhost:8080/"
        },
        "id": "ec6RpCvF6TLn",
        "outputId": "7e71c64e-eabf-413c-b3d3-89add7c8be10"
      },
      "source": [
        "arr2d = np.array([[1, 2, 3], [4, 5, 6], [7, 8, 9]])\n",
        "arr2d"
      ],
      "execution_count": null,
      "outputs": [
        {
          "output_type": "execute_result",
          "data": {
            "text/plain": [
              "array([[1, 2, 3],\n",
              "       [4, 5, 6],\n",
              "       [7, 8, 9]])"
            ]
          },
          "metadata": {},
          "execution_count": 38
        }
      ]
    },
    {
      "cell_type": "code",
      "metadata": {
        "colab": {
          "base_uri": "https://localhost:8080/"
        },
        "id": "VEKInnA16Jol",
        "outputId": "1ad5cb95-5a3d-44ff-c300-fc7c040865fb"
      },
      "source": [
        "print('Применение поэлементных логических операций:')\n",
        "bool_mask = (arr2d > 2) & (arr2d < 8) \n",
        "print(bool_mask)"
      ],
      "execution_count": null,
      "outputs": [
        {
          "output_type": "stream",
          "text": [
            "Применение поэлементных логических операций:\n",
            "[[False False  True]\n",
            " [ True  True  True]\n",
            " [ True False False]]\n"
          ],
          "name": "stdout"
        }
      ]
    },
    {
      "cell_type": "code",
      "metadata": {
        "colab": {
          "base_uri": "https://localhost:8080/"
        },
        "id": "8498CBJf6Lc9",
        "outputId": "34e7deff-802d-4671-a3f3-3989d19e24ac"
      },
      "source": [
        "print(\"Выбор элементов, удовлетворяющих условию:\")\n",
        "arr2d[bool_mask]"
      ],
      "execution_count": null,
      "outputs": [
        {
          "output_type": "stream",
          "text": [
            "Выбор элементов, удовлетворяющих условию:\n"
          ],
          "name": "stdout"
        },
        {
          "output_type": "execute_result",
          "data": {
            "text/plain": [
              "array([3, 4, 5, 6, 7])"
            ]
          },
          "metadata": {},
          "execution_count": 40
        }
      ]
    },
    {
      "cell_type": "code",
      "metadata": {
        "colab": {
          "base_uri": "https://localhost:8080/"
        },
        "id": "HnEe0bB76OIm",
        "outputId": "cdf6eff2-dd2c-417d-94ca-afd437bdc8a0"
      },
      "source": [
        "print(\"Замена элементов, не удовлетворяющих условию:\")\n",
        "arr2d_cut = arr2d.copy()\n",
        "arr2d_cut[~bool_mask] = 3\n",
        "print('* при использовании булевой индексации:')\n",
        "print(arr2d_cut)\n",
        "\n",
        "print('* при использовании функции np.where():')\n",
        "print(np.where(bool_mask, arr2d, 3))"
      ],
      "execution_count": null,
      "outputs": [
        {
          "output_type": "stream",
          "text": [
            "Замена элементов, не удовлетворяющих условию:\n",
            "* при использовании булевой индексации:\n",
            "[[3 3 3]\n",
            " [4 5 6]\n",
            " [7 3 3]]\n",
            "* при использовании функции np.where():\n",
            "[[3 3 3]\n",
            " [4 5 6]\n",
            " [7 3 3]]\n"
          ],
          "name": "stdout"
        }
      ]
    },
    {
      "cell_type": "markdown",
      "metadata": {
        "id": "9cMlBH0G6dan"
      },
      "source": [
        "**Индексирование с помощью целочисленных массивов**"
      ]
    },
    {
      "cell_type": "code",
      "metadata": {
        "id": "_eLkgQDN6isN"
      },
      "source": [
        "np.random.seed(29) # Для воспроизводимости результатов"
      ],
      "execution_count": null,
      "outputs": []
    },
    {
      "cell_type": "code",
      "metadata": {
        "colab": {
          "base_uri": "https://localhost:8080/"
        },
        "id": "wiiyFz6H6ln6",
        "outputId": "d52c97a4-47a8-408b-88cc-c25f0d03bbb3"
      },
      "source": [
        "arr = np.random.randint(5, size=(5, 5))\n",
        "print('Исходная матрица:\\n', arr)"
      ],
      "execution_count": null,
      "outputs": [
        {
          "output_type": "stream",
          "text": [
            "Исходная матрица:\n",
            " [[1 3 0 2 1]\n",
            " [4 0 3 0 4]\n",
            " [2 0 3 3 3]\n",
            " [3 2 2 3 2]\n",
            " [3 2 0 0 2]]\n"
          ],
          "name": "stdout"
        }
      ]
    },
    {
      "cell_type": "code",
      "metadata": {
        "colab": {
          "base_uri": "https://localhost:8080/"
        },
        "id": "ObMS_S3B6pW5",
        "outputId": "93aff503-ad62-4661-ffc4-fe50516def70"
      },
      "source": [
        "print('Подвыборка из строк 1,3,4:')\n",
        "arr[[1,3,4]]"
      ],
      "execution_count": null,
      "outputs": [
        {
          "output_type": "stream",
          "text": [
            "Подвыборка из строк 1,3,4:\n"
          ],
          "name": "stdout"
        },
        {
          "output_type": "execute_result",
          "data": {
            "text/plain": [
              "array([[4, 0, 3, 0, 4],\n",
              "       [3, 2, 2, 3, 2],\n",
              "       [3, 2, 0, 0, 2]])"
            ]
          },
          "metadata": {},
          "execution_count": 48
        }
      ]
    },
    {
      "cell_type": "code",
      "metadata": {
        "colab": {
          "base_uri": "https://localhost:8080/"
        },
        "id": "PLM_WX376sCH",
        "outputId": "71c1e445-b5ac-4ead-8613-0ccdab3c6a70"
      },
      "source": [
        "print('Подвыборка из столбцов 1,3,4:')\n",
        "arr[:,[1,3,4]]"
      ],
      "execution_count": null,
      "outputs": [
        {
          "output_type": "stream",
          "text": [
            "Подвыборка из столбцов 1,3,4:\n"
          ],
          "name": "stdout"
        },
        {
          "output_type": "execute_result",
          "data": {
            "text/plain": [
              "array([[3, 2, 1],\n",
              "       [0, 0, 4],\n",
              "       [0, 3, 3],\n",
              "       [2, 3, 2],\n",
              "       [2, 0, 2]])"
            ]
          },
          "metadata": {},
          "execution_count": 50
        }
      ]
    },
    {
      "cell_type": "code",
      "metadata": {
        "colab": {
          "base_uri": "https://localhost:8080/"
        },
        "id": "lvM2ifpV6tZB",
        "outputId": "e270b23d-5482-41c9-a0ee-c2fa7b76f5df"
      },
      "source": [
        "print('Подвыборка элементов, стоящих на пересечении соответствующих  строк и столбцов с номерами 1,3,4:')\n",
        "arr[[1,3,4],[1,3,4]]"
      ],
      "execution_count": null,
      "outputs": [
        {
          "output_type": "stream",
          "text": [
            "Подвыборка элементов, стоящих на пересечении соответствующих  строк и столбцов с номерами 1,3,4:\n"
          ],
          "name": "stdout"
        },
        {
          "output_type": "execute_result",
          "data": {
            "text/plain": [
              "array([0, 3, 2])"
            ]
          },
          "metadata": {},
          "execution_count": 51
        }
      ]
    },
    {
      "cell_type": "markdown",
      "metadata": {
        "id": "93FARpkQ7jE0"
      },
      "source": [
        "### 2.2.3 Уход от циклов: обработка данных с применением массивов"
      ]
    },
    {
      "cell_type": "markdown",
      "metadata": {
        "id": "TuFoxsQq7s6G"
      },
      "source": [
        "**Перебор значений массива**"
      ]
    },
    {
      "cell_type": "code",
      "metadata": {
        "colab": {
          "base_uri": "https://localhost:8080/"
        },
        "id": "WPU5mcDH7pbg",
        "outputId": "e464ca04-2e05-4af6-bb5a-914fb6874f0d"
      },
      "source": [
        "d = np.arange(15).reshape(3,5)\n",
        "d"
      ],
      "execution_count": null,
      "outputs": [
        {
          "output_type": "execute_result",
          "data": {
            "text/plain": [
              "array([[ 0,  1,  2,  3,  4],\n",
              "       [ 5,  6,  7,  8,  9],\n",
              "       [10, 11, 12, 13, 14]])"
            ]
          },
          "metadata": {},
          "execution_count": 52
        }
      ]
    },
    {
      "cell_type": "code",
      "metadata": {
        "colab": {
          "base_uri": "https://localhost:8080/"
        },
        "id": "W-K7TO6D701a",
        "outputId": "d933dc37-8715-4861-b72b-e4338586de89"
      },
      "source": [
        "# Проход в цикле по строкам\n",
        "for row in d:\n",
        "  print('Каждая строка * 5:', row * 5)"
      ],
      "execution_count": null,
      "outputs": [
        {
          "output_type": "stream",
          "text": [
            "Каждая строка * 5: [ 0  5 10 15 20]\n",
            "Каждая строка * 5: [25 30 35 40 45]\n",
            "Каждая строка * 5: [50 55 60 65 70]\n"
          ],
          "name": "stdout"
        }
      ]
    },
    {
      "cell_type": "code",
      "metadata": {
        "colab": {
          "base_uri": "https://localhost:8080/"
        },
        "id": "G4SlJiMX8KEM",
        "outputId": "af5b2149-47d1-4ed0-eb9c-95183f9d67c7"
      },
      "source": [
        "# Проход по всем элементам в цикле с помощью итератора:\n",
        "for el in d.flat:\n",
        "  if el < 8:\n",
        "    print(el)"
      ],
      "execution_count": null,
      "outputs": [
        {
          "output_type": "stream",
          "text": [
            "0\n",
            "1\n",
            "2\n",
            "3\n",
            "4\n",
            "5\n",
            "6\n",
            "7\n"
          ],
          "name": "stdout"
        }
      ]
    },
    {
      "cell_type": "markdown",
      "metadata": {
        "id": "8hQ--tLr9VQL"
      },
      "source": [
        "**Изменение формы массива с помощью метода reshape()**"
      ]
    },
    {
      "cell_type": "code",
      "metadata": {
        "colab": {
          "base_uri": "https://localhost:8080/"
        },
        "id": "q8u9Sw-u9SxZ",
        "outputId": "97a4733b-0675-4e48-8165-fb341ef8667a"
      },
      "source": [
        "a1 = np.arange(1, 13)  # числа от 1 до 12\n",
        "print('Исходный массив:')\n",
        "print(a1.shape)\n",
        "print(a1)"
      ],
      "execution_count": null,
      "outputs": [
        {
          "output_type": "stream",
          "text": [
            "Исходный массив:\n",
            "(12,)\n",
            "[ 1  2  3  4  5  6  7  8  9 10 11 12]\n"
          ],
          "name": "stdout"
        }
      ]
    },
    {
      "cell_type": "code",
      "metadata": {
        "colab": {
          "base_uri": "https://localhost:8080/"
        },
        "id": "_7MWxytq9bp6",
        "outputId": "f5198587-3ec5-453f-e3a7-e2d15a08217e"
      },
      "source": [
        "a1_2d = a1.reshape(3, 4)\n",
        "print('Двумерный массив после преобразования размера:')\n",
        "print(a1_2d.shape)\n",
        "print(a1_2d)\n",
        "\n",
        "print('Двумерный массив с автоматическим вычислением размера:')\n",
        "a1_2d = a1.reshape(3, -1)\n",
        "print(a1_2d.shape)\n",
        "print(a1_2d)"
      ],
      "execution_count": null,
      "outputs": [
        {
          "output_type": "stream",
          "text": [
            "Двумерный массив после преобразования размера:\n",
            "(3, 4)\n",
            "[[ 1  2  3  4]\n",
            " [ 5  6  7  8]\n",
            " [ 9 10 11 12]]\n",
            "Двумерный массив с автоматическим вычислением размера:\n",
            "(3, 4)\n",
            "[[ 1  2  3  4]\n",
            " [ 5  6  7  8]\n",
            " [ 9 10 11 12]]\n"
          ],
          "name": "stdout"
        }
      ]
    },
    {
      "cell_type": "code",
      "metadata": {
        "colab": {
          "base_uri": "https://localhost:8080/"
        },
        "id": "ed9P28uX9ehK",
        "outputId": "92e4b89f-c579-4835-8084-69295c602683"
      },
      "source": [
        "print('Преобразование одномерного массива в двумерный:')\n",
        "print('до')\n",
        "print(a1)\n",
        "print(a1.shape)\n",
        "\n",
        "print('после')\n",
        "print(a1.reshape(1,-1))\n",
        "print(a1.reshape(1,-1).shape)"
      ],
      "execution_count": null,
      "outputs": [
        {
          "output_type": "stream",
          "text": [
            "Преобразование одномерного массива в двумерный:\n",
            "до\n",
            "[ 1  2  3  4  5  6  7  8  9 10 11 12]\n",
            "(12,)\n",
            "после\n",
            "[[ 1  2  3  4  5  6  7  8  9 10 11 12]]\n",
            "(1, 12)\n"
          ],
          "name": "stdout"
        }
      ]
    },
    {
      "cell_type": "markdown",
      "metadata": {
        "id": "yD_aXylV9jR1"
      },
      "source": [
        "**Схлопование массива в одномерный методом ravel()**"
      ]
    },
    {
      "cell_type": "code",
      "metadata": {
        "colab": {
          "base_uri": "https://localhost:8080/"
        },
        "id": "nRZwEgdp9kyD",
        "outputId": "e8555efa-59bd-4b42-8fee-fe52c11696c3"
      },
      "source": [
        "print('Исходный массив:')\n",
        "print(a1_2d)\n",
        "\n",
        "print('Схлопываем строка за строкой:')\n",
        "print(a1_2d.ravel()) \n",
        "\n",
        "print('Схлопываем столбец за столбцом:')\n",
        "print(a1_2d.ravel(order='F'))"
      ],
      "execution_count": null,
      "outputs": [
        {
          "output_type": "stream",
          "text": [
            "Исходный массив:\n",
            "[[ 1  2  3  4]\n",
            " [ 5  6  7  8]\n",
            " [ 9 10 11 12]]\n",
            "Схлопываем строка за строкой:\n",
            "[ 1  2  3  4  5  6  7  8  9 10 11 12]\n",
            "Схлопываем столбец за столбцом:\n",
            "[ 1  5  9  2  6 10  3  7 11  4  8 12]\n"
          ],
          "name": "stdout"
        }
      ]
    },
    {
      "cell_type": "markdown",
      "metadata": {
        "id": "lwfntOn49piF"
      },
      "source": [
        "**Конкатенация массивов методами stack() и hstack()**"
      ]
    },
    {
      "cell_type": "markdown",
      "metadata": {
        "id": "Av0Q00rC9sRj"
      },
      "source": [
        "![alt text](https://drive.google.com/uc?id=1vIq1Qn3_ZiJ7P0hIS0jjRkQ18_mKo3Co)"
      ]
    },
    {
      "cell_type": "code",
      "metadata": {
        "colab": {
          "base_uri": "https://localhost:8080/"
        },
        "id": "4ydjewdm9qc7",
        "outputId": "a6063410-e166-418b-8d4b-ed5b179f88aa"
      },
      "source": [
        "a1 = np.arange(1, 13)\n",
        "print('Массив 1:')\n",
        "print(a1)\n",
        "print('Массив 2:')\n",
        "a2 = np.arange(13, 25)\n",
        "print(a2)\n",
        "\n",
        "print('Горизонтальная конкатенация:')\n",
        "print(np.hstack((a1, a2)))\n",
        "print(np.stack((a1, a2)))\n",
        "print('Вертикальныя конкатенация:')\n",
        "print(np.stack((a1, a2), axis=1))"
      ],
      "execution_count": null,
      "outputs": [
        {
          "output_type": "stream",
          "text": [
            "Массив 1:\n",
            "[ 1  2  3  4  5  6  7  8  9 10 11 12]\n",
            "Массив 2:\n",
            "[13 14 15 16 17 18 19 20 21 22 23 24]\n",
            "Горизонтальная конкатенация:\n",
            "[ 1  2  3  4  5  6  7  8  9 10 11 12 13 14 15 16 17 18 19 20 21 22 23 24]\n",
            "[[ 1  2  3  4  5  6  7  8  9 10 11 12]\n",
            " [13 14 15 16 17 18 19 20 21 22 23 24]]\n",
            "Вертикальныя конкатенация:\n",
            "[[ 1 13]\n",
            " [ 2 14]\n",
            " [ 3 15]\n",
            " [ 4 16]\n",
            " [ 5 17]\n",
            " [ 6 18]\n",
            " [ 7 19]\n",
            " [ 8 20]\n",
            " [ 9 21]\n",
            " [10 22]\n",
            " [11 23]\n",
            " [12 24]]\n"
          ],
          "name": "stdout"
        }
      ]
    },
    {
      "cell_type": "markdown",
      "metadata": {
        "id": "jKMOOznG9wsr"
      },
      "source": [
        "**Объединение двумерных массивов в трехмерный**"
      ]
    },
    {
      "cell_type": "markdown",
      "metadata": {
        "id": "HoX4aN7x9zn1"
      },
      "source": [
        "![alt text](https://drive.google.com/uc?id=1XMAVpMKVmI6665VDIrFwcvUla0_Ps5Wb)"
      ]
    },
    {
      "cell_type": "code",
      "metadata": {
        "colab": {
          "base_uri": "https://localhost:8080/"
        },
        "id": "OzeKd7Ph9zJB",
        "outputId": "55fa1172-aa8e-4e68-d772-7974022e7b47"
      },
      "source": [
        "a1 = np.arange(1, 13).reshape(3, -1)\n",
        "print('Массив 1:')\n",
        "print(a1)\n",
        "print('Массив 2:')\n",
        "a2 = np.arange(13, 25).reshape(3, -1)\n",
        "print(a2)"
      ],
      "execution_count": null,
      "outputs": [
        {
          "output_type": "stream",
          "text": [
            "Массив 1:\n",
            "[[ 1  2  3  4]\n",
            " [ 5  6  7  8]\n",
            " [ 9 10 11 12]]\n",
            "Массив 2:\n",
            "[[13 14 15 16]\n",
            " [17 18 19 20]\n",
            " [21 22 23 24]]\n"
          ],
          "name": "stdout"
        }
      ]
    },
    {
      "cell_type": "code",
      "metadata": {
        "colab": {
          "base_uri": "https://localhost:8080/"
        },
        "id": "XiCt9oq294K7",
        "outputId": "a0edc350-6c51-4be1-e4a5-5db7c6ad8d6f"
      },
      "source": [
        "print('Соединение по оси 0:')\n",
        "a3_0 = np.stack((a1, a2))\n",
        "print(a3_0)\n",
        "print('Размер:', a3_0.shape)\n",
        "\n",
        "print('Соединение по оси 1:')\n",
        "a3_1 = np.stack((a1, a2), axis=1)\n",
        "print(a3_1)\n",
        "print('Размер:', a3_1.shape)\n",
        "\n",
        "print('Соединение по оси 2:')\n",
        "a3_2 = np.stack((a1, a2), axis=2)\n",
        "print(a3_2)\n",
        "print('Размер:', a3_2.shape)"
      ],
      "execution_count": null,
      "outputs": [
        {
          "output_type": "stream",
          "text": [
            "Соединение по оси 0:\n",
            "[[[ 1  2  3  4]\n",
            "  [ 5  6  7  8]\n",
            "  [ 9 10 11 12]]\n",
            "\n",
            " [[13 14 15 16]\n",
            "  [17 18 19 20]\n",
            "  [21 22 23 24]]]\n",
            "Размер: (2, 3, 4)\n",
            "Соединение по оси 1:\n",
            "[[[ 1  2  3  4]\n",
            "  [13 14 15 16]]\n",
            "\n",
            " [[ 5  6  7  8]\n",
            "  [17 18 19 20]]\n",
            "\n",
            " [[ 9 10 11 12]\n",
            "  [21 22 23 24]]]\n",
            "Размер: (3, 2, 4)\n",
            "Соединение по оси 2:\n",
            "[[[ 1 13]\n",
            "  [ 2 14]\n",
            "  [ 3 15]\n",
            "  [ 4 16]]\n",
            "\n",
            " [[ 5 17]\n",
            "  [ 6 18]\n",
            "  [ 7 19]\n",
            "  [ 8 20]]\n",
            "\n",
            " [[ 9 21]\n",
            "  [10 22]\n",
            "  [11 23]\n",
            "  [12 24]]]\n",
            "Размер: (3, 4, 2)\n"
          ],
          "name": "stdout"
        }
      ]
    },
    {
      "cell_type": "markdown",
      "metadata": {
        "id": "Qmm9Kwrd-Ah5"
      },
      "source": [
        "**Векторизация**"
      ]
    },
    {
      "cell_type": "markdown",
      "metadata": {
        "id": "RVrc0vaj-EQx"
      },
      "source": [
        "Замена явных циклов выражениями-массивами"
      ]
    },
    {
      "cell_type": "code",
      "metadata": {
        "colab": {
          "base_uri": "https://localhost:8080/"
        },
        "id": "eqckyPeY-CRT",
        "outputId": "1e77afbe-aa98-4985-8369-d968c545aef0"
      },
      "source": [
        "points = np.arange(-5, 5, 1)\n",
        "print(points)"
      ],
      "execution_count": null,
      "outputs": [
        {
          "output_type": "stream",
          "text": [
            "[-5 -4 -3 -2 -1  0  1  2  3  4]\n"
          ],
          "name": "stdout"
        }
      ]
    },
    {
      "cell_type": "code",
      "metadata": {
        "colab": {
          "base_uri": "https://localhost:8080/"
        },
        "id": "XBVKYhZz-NLA",
        "outputId": "b5489be9-2dd0-4ae1-d043-15d1fe1a4a90"
      },
      "source": [
        "xs, ys = np.meshgrid(points, points)\n",
        "print(xs)\n",
        "print(ys)"
      ],
      "execution_count": null,
      "outputs": [
        {
          "output_type": "stream",
          "text": [
            "[[-5 -4 -3 -2 -1  0  1  2  3  4]\n",
            " [-5 -4 -3 -2 -1  0  1  2  3  4]\n",
            " [-5 -4 -3 -2 -1  0  1  2  3  4]\n",
            " [-5 -4 -3 -2 -1  0  1  2  3  4]\n",
            " [-5 -4 -3 -2 -1  0  1  2  3  4]\n",
            " [-5 -4 -3 -2 -1  0  1  2  3  4]\n",
            " [-5 -4 -3 -2 -1  0  1  2  3  4]\n",
            " [-5 -4 -3 -2 -1  0  1  2  3  4]\n",
            " [-5 -4 -3 -2 -1  0  1  2  3  4]\n",
            " [-5 -4 -3 -2 -1  0  1  2  3  4]]\n",
            "[[-5 -5 -5 -5 -5 -5 -5 -5 -5 -5]\n",
            " [-4 -4 -4 -4 -4 -4 -4 -4 -4 -4]\n",
            " [-3 -3 -3 -3 -3 -3 -3 -3 -3 -3]\n",
            " [-2 -2 -2 -2 -2 -2 -2 -2 -2 -2]\n",
            " [-1 -1 -1 -1 -1 -1 -1 -1 -1 -1]\n",
            " [ 0  0  0  0  0  0  0  0  0  0]\n",
            " [ 1  1  1  1  1  1  1  1  1  1]\n",
            " [ 2  2  2  2  2  2  2  2  2  2]\n",
            " [ 3  3  3  3  3  3  3  3  3  3]\n",
            " [ 4  4  4  4  4  4  4  4  4  4]]\n"
          ],
          "name": "stdout"
        }
      ]
    },
    {
      "cell_type": "markdown",
      "metadata": {
        "id": "FeoUyPdb-2UW"
      },
      "source": [
        "**Broadcasting**"
      ]
    },
    {
      "cell_type": "markdown",
      "metadata": {
        "id": "_6_-XJZR_EaM"
      },
      "source": [
        "Набор правил, который позволяет функциям и методам производить корректные вычисления при работе с многомерными массивами и массивами разной длины.\n",
        "\n",
        "Главное правило - если массивы имеют разную размрность, то к массивам меньшей длины будет применяться операция повторения, до тех пор, пока размерности массивов не совпадут"
      ]
    },
    {
      "cell_type": "markdown",
      "metadata": {
        "id": "1a1asiFk_Xxb"
      },
      "source": [
        "![image.png](data:image/png;base64,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)"
      ]
    },
    {
      "cell_type": "code",
      "metadata": {
        "colab": {
          "base_uri": "https://localhost:8080/"
        },
        "id": "8eQtbMD1_Ck2",
        "outputId": "78cb6fa5-fd8c-453b-ca6c-30d72f192002"
      },
      "source": [
        "arr = np.arange(12)\n",
        "print(arr)\n",
        "print(arr * 4)"
      ],
      "execution_count": null,
      "outputs": [
        {
          "output_type": "stream",
          "text": [
            "[ 0  1  2  3  4  5  6  7  8  9 10 11]\n",
            "[ 0  4  8 12 16 20 24 28 32 36 40 44]\n"
          ],
          "name": "stdout"
        }
      ]
    },
    {
      "cell_type": "code",
      "metadata": {
        "colab": {
          "base_uri": "https://localhost:8080/"
        },
        "id": "t6tNj5u2_eKY",
        "outputId": "e7330e79-2b22-4dda-a1d8-544af4e4078b"
      },
      "source": [
        "arr0 = np.arange(4)\n",
        "arr = np.stack((arr0,arr0,arr0),axis=1)\n",
        "\n",
        "vec = np.array([1,2,3])\n",
        "\n",
        "print('Изначальная матрица:')\n",
        "print(arr)\n",
        "print('Вектор для суммирования:')\n",
        "print(vec)\n",
        "\n",
        "print('Результат суммирования:')\n",
        "print(arr + vec)"
      ],
      "execution_count": null,
      "outputs": [
        {
          "output_type": "stream",
          "text": [
            "Изначальная матрица:\n",
            "[[0 0 0]\n",
            " [1 1 1]\n",
            " [2 2 2]\n",
            " [3 3 3]]\n",
            "Вектор для суммирования:\n",
            "[1 2 3]\n",
            "Результат суммирования:\n",
            "[[1 2 3]\n",
            " [2 3 4]\n",
            " [3 4 5]\n",
            " [4 5 6]]\n"
          ],
          "name": "stdout"
        }
      ]
    },
    {
      "cell_type": "code",
      "metadata": {
        "colab": {
          "base_uri": "https://localhost:8080/"
        },
        "id": "gwKirkTD_lGU",
        "outputId": "ea3f1ed8-ed70-43d3-e84a-ddee9f40eead"
      },
      "source": [
        "arr = np.random.randn(4, 3)\n",
        "print('Изначальная матрица:')\n",
        "print(arr)\n",
        "\n",
        "print('Средние значения по столбцам:')\n",
        "print(arr.mean(0))\n",
        "\n",
        "print('Центрированные значения в столбцах:')\n",
        "demeaned = arr - arr.mean(0)\n",
        "print(demeaned)\n",
        "\n",
        "print('Средние значения по столбцам в центированной матрице:')\n",
        "print(demeaned.mean(0))"
      ],
      "execution_count": null,
      "outputs": [
        {
          "output_type": "stream",
          "text": [
            "Изначальная матрица:\n",
            "[[ 0.24367168  0.66858507  1.29696349]\n",
            " [ 0.99062627  1.89088641 -0.31756113]\n",
            " [-0.1692602  -2.31076975 -0.55949954]\n",
            " [ 0.19711825  1.71137105  0.25394272]]\n",
            "Средние значения по столбцам:\n",
            "[0.315539   0.49001819 0.16846139]\n",
            "Центрированные значения в столбцах:\n",
            "[[-0.07186732  0.17856688  1.12850211]\n",
            " [ 0.67508727  1.40086821 -0.48602251]\n",
            " [-0.4847992  -2.80078794 -0.72796092]\n",
            " [-0.11842075  1.22135285  0.08548133]]\n",
            "Средние значения по столбцам в центированной матрице:\n",
            "[-3.46944695e-17  0.00000000e+00  0.00000000e+00]\n"
          ],
          "name": "stdout"
        }
      ]
    },
    {
      "cell_type": "markdown",
      "metadata": {
        "id": "CiJfMWyK_1AU"
      },
      "source": [
        "**Разбиение массивов**"
      ]
    },
    {
      "cell_type": "markdown",
      "metadata": {
        "id": "DhmQHjDd_27O"
      },
      "source": [
        "Методы:\n",
        "\n",
        "vsplit - разбивает массивы на подмассивы (векторы) вдоль вертикальной оси (по строкам)\n",
        "\n",
        "hsplit - разбивает массивы на подмассивы (векторы) вдоль горизонтальной оси (по столбцам)\n",
        "\n",
        "split - разбивает массивы на подмассивы вдоль выбранной оси"
      ]
    },
    {
      "cell_type": "code",
      "metadata": {
        "colab": {
          "base_uri": "https://localhost:8080/"
        },
        "id": "yFd6JH1pAKJn",
        "outputId": "981c121b-e261-4321-ded4-360447e0ecab"
      },
      "source": [
        "d = np.arange(16).reshape(4,4)\n",
        "d"
      ],
      "execution_count": null,
      "outputs": [
        {
          "output_type": "execute_result",
          "data": {
            "text/plain": [
              "array([[ 0,  1,  2,  3],\n",
              "       [ 4,  5,  6,  7],\n",
              "       [ 8,  9, 10, 11],\n",
              "       [12, 13, 14, 15]])"
            ]
          },
          "metadata": {},
          "execution_count": 75
        }
      ]
    },
    {
      "cell_type": "code",
      "metadata": {
        "colab": {
          "base_uri": "https://localhost:8080/"
        },
        "id": "lTGpMfFBAPq2",
        "outputId": "e30e64a0-4a99-45b8-cc2e-69dbcd2a5e10"
      },
      "source": [
        "np.vsplit(d, 4)"
      ],
      "execution_count": null,
      "outputs": [
        {
          "output_type": "execute_result",
          "data": {
            "text/plain": [
              "[array([[0, 1, 2, 3]]),\n",
              " array([[4, 5, 6, 7]]),\n",
              " array([[ 8,  9, 10, 11]]),\n",
              " array([[12, 13, 14, 15]])]"
            ]
          },
          "metadata": {},
          "execution_count": 76
        }
      ]
    },
    {
      "cell_type": "code",
      "metadata": {
        "colab": {
          "base_uri": "https://localhost:8080/"
        },
        "id": "7cIb9aMHASPa",
        "outputId": "7e929d28-929e-4580-8886-cdc4dacc6f8f"
      },
      "source": [
        "np.hsplit(d, 2)"
      ],
      "execution_count": null,
      "outputs": [
        {
          "output_type": "execute_result",
          "data": {
            "text/plain": [
              "[array([[ 0,  1],\n",
              "        [ 4,  5],\n",
              "        [ 8,  9],\n",
              "        [12, 13]]), array([[ 2,  3],\n",
              "        [ 6,  7],\n",
              "        [10, 11],\n",
              "        [14, 15]])]"
            ]
          },
          "metadata": {},
          "execution_count": 77
        }
      ]
    },
    {
      "cell_type": "code",
      "metadata": {
        "colab": {
          "base_uri": "https://localhost:8080/"
        },
        "id": "Uco55c1IAVWd",
        "outputId": "66b33c40-de47-438f-ab22-c95e7d3eef96"
      },
      "source": [
        "# axis = 0  - по вертикальной оси\n",
        "np.split(d, 2, axis=0)"
      ],
      "execution_count": null,
      "outputs": [
        {
          "output_type": "execute_result",
          "data": {
            "text/plain": [
              "[array([[0, 1, 2, 3],\n",
              "        [4, 5, 6, 7]]), array([[ 8,  9, 10, 11],\n",
              "        [12, 13, 14, 15]])]"
            ]
          },
          "metadata": {},
          "execution_count": 78
        }
      ]
    },
    {
      "cell_type": "code",
      "metadata": {
        "colab": {
          "base_uri": "https://localhost:8080/"
        },
        "id": "22-IT7AAAaZ2",
        "outputId": "2b704614-5592-4fe3-be31-9a0dce39c578"
      },
      "source": [
        "# axis = 1 - по горизонтальной оси\n",
        "np.split(d, 2, axis=1)"
      ],
      "execution_count": null,
      "outputs": [
        {
          "output_type": "execute_result",
          "data": {
            "text/plain": [
              "[array([[ 0,  1],\n",
              "        [ 4,  5],\n",
              "        [ 8,  9],\n",
              "        [12, 13]]), array([[ 2,  3],\n",
              "        [ 6,  7],\n",
              "        [10, 11],\n",
              "        [14, 15]])]"
            ]
          },
          "metadata": {},
          "execution_count": 79
        }
      ]
    },
    {
      "cell_type": "markdown",
      "metadata": {
        "id": "FlcYXmEGA9zG"
      },
      "source": [
        "### 2.2.4 Математические и статические операции"
      ]
    },
    {
      "cell_type": "markdown",
      "metadata": {
        "id": "qBKb7rTZBIDE"
      },
      "source": [
        "Рассмотрим функции Numpy, позволяющие вычислить статистики массивов в целом или вдоль одной оси. Также рассмотрим функции, которые позволяют решать задачи линейной алгебры и теории вероятностей"
      ]
    },
    {
      "cell_type": "markdown",
      "metadata": {
        "id": "nBci-awDBtqw"
      },
      "source": [
        "**Математические и статические методы**"
      ]
    },
    {
      "cell_type": "markdown",
      "metadata": {
        "id": "IkjkmzxPBwWI"
      },
      "source": [
        "![alt text](https://drive.google.com/uc?id=1XvWjo9XCAS-CqSs0qKtrU-rZ4boW155k)"
      ]
    },
    {
      "cell_type": "markdown",
      "metadata": {
        "id": "hb6a7QrzB0B8"
      },
      "source": [
        "np.sum - сумма\n",
        "\n",
        "np.nansum - сумма без учета NaN\n",
        "\n",
        "приставка nan применима ко всем методам"
      ]
    },
    {
      "cell_type": "code",
      "metadata": {
        "colab": {
          "base_uri": "https://localhost:8080/"
        },
        "id": "G7T8Yue5BwqI",
        "outputId": "aa3ecdd2-9903-4b06-b89e-9f6320326fff"
      },
      "source": [
        "arr = np.random.randn(5, 4)\n",
        "print('Исходная матрица\\n', arr)\n",
        "print('Среднее значение', arr.mean())\n",
        "print('Среднее значение', np.mean(arr))\n",
        "print('Сумма элементов', arr.sum())"
      ],
      "execution_count": null,
      "outputs": [
        {
          "output_type": "stream",
          "text": [
            "Исходная матрица\n",
            " [[ 1.88132975 -0.9104608  -1.60892029  0.52954982]\n",
            " [-0.43969747 -0.11137613  2.1984452  -0.5756465 ]\n",
            " [ 0.28603782  1.10089254 -0.8824175  -1.18493165]\n",
            " [ 0.2397606  -0.71091761  1.74410287  0.67688325]\n",
            " [ 1.14835421  1.10861613  0.18297961 -0.34242482]]\n",
            "Среднее значение 0.21650795146717156\n",
            "Среднее значение 0.21650795146717156\n",
            "Сумма элементов 4.330159029343431\n"
          ],
          "name": "stdout"
        }
      ]
    },
    {
      "cell_type": "code",
      "metadata": {
        "colab": {
          "base_uri": "https://localhost:8080/"
        },
        "id": "PjXXPsk5CF51",
        "outputId": "d8d439df-f80d-4538-8b19-789676bbff97"
      },
      "source": [
        "print('Среднее значение по строкам', arr.mean(axis=1))\n",
        "print('Среднее значение по столбцам', arr.mean(axis=0))\n",
        "print('Сумма значений по столбцам', arr.sum(axis=0))\n",
        "print('Сумма значений по строкам', arr.sum(axis=1))"
      ],
      "execution_count": null,
      "outputs": [
        {
          "output_type": "stream",
          "text": [
            "Среднее значение по строкам [-0.02712538  0.26793128 -0.1701047   0.48745728  0.52438128]\n",
            "Среднее значение по столбцам [ 0.62315698  0.09535083  0.32683798 -0.17931398]\n",
            "Сумма значений по столбцам [ 3.1157849   0.47675413  1.6341899  -0.89656989]\n",
            "Сумма значений по строкам [-0.10850153  1.0717251  -0.68041879  1.94982911  2.09752513]\n"
          ],
          "name": "stdout"
        }
      ]
    },
    {
      "cell_type": "markdown",
      "metadata": {
        "id": "k2jH9ybyDzqZ"
      },
      "source": [
        "Numpy поддерживает функции, которые вычисляют накапливающее значение, например аккумулятор и кумулирующее произведение. Эти функции применяются в разных задачах, например фильтрации сигналов"
      ]
    },
    {
      "cell_type": "code",
      "metadata": {
        "colab": {
          "base_uri": "https://localhost:8080/"
        },
        "id": "cd_smHBbCJRv",
        "outputId": "8daafd80-71df-4f87-ce03-f09992e42cec"
      },
      "source": [
        "arr = np.array([0, 1, 2, 3, 4, 5, 6, 7])\n",
        "print('Исходный массив:', arr)\n",
        "print('Сумма с промежуточными результатами:', arr.cumsum())"
      ],
      "execution_count": null,
      "outputs": [
        {
          "output_type": "stream",
          "text": [
            "Исходный массив: [0 1 2 3 4 5 6 7]\n",
            "Сумма с промежуточными результатами: [ 0  1  3  6 10 15 21 28]\n"
          ],
          "name": "stdout"
        }
      ]
    },
    {
      "cell_type": "code",
      "metadata": {
        "colab": {
          "base_uri": "https://localhost:8080/"
        },
        "id": "JQgBMhaWBBaS",
        "outputId": "a412fbb2-eacd-4cd6-8858-0209bb6face6"
      },
      "source": [
        "print('Индекс максимального элемента массива:', arr.argmax())"
      ],
      "execution_count": null,
      "outputs": [
        {
          "output_type": "stream",
          "text": [
            "Индекс максимального элемента массива: 7\n"
          ],
          "name": "stdout"
        }
      ]
    },
    {
      "cell_type": "code",
      "metadata": {
        "colab": {
          "base_uri": "https://localhost:8080/"
        },
        "id": "0Q94lCZ3DY1p",
        "outputId": "1b1273c8-3c63-4dbc-bcd6-c65c09d385c7"
      },
      "source": [
        "# Когда применяем обычную функцию\n",
        "arrnan = np.array([0, 1, 2, 3, np.nan, 5, 6, 7])\n",
        "print('Исходный массив:', arrnan)\n",
        "print('Сумма с промежуточными результатами:', np.cumsum(arrnan))"
      ],
      "execution_count": null,
      "outputs": [
        {
          "output_type": "stream",
          "text": [
            "Исходный массив: [ 0.  1.  2.  3. nan  5.  6.  7.]\n",
            "Сумма с промежуточными результатами: [ 0.  1.  3.  6. nan nan nan nan]\n"
          ],
          "name": "stdout"
        }
      ]
    },
    {
      "cell_type": "code",
      "metadata": {
        "colab": {
          "base_uri": "https://localhost:8080/"
        },
        "id": "rGTbMN7lCMSx",
        "outputId": "75f540e7-e5ee-4b4b-9b4f-1b7a2e171c08"
      },
      "source": [
        "# Без учета NaN\n",
        "arrnan = np.array([0, 1, 2, 3, np.nan, 5, 6, 7])\n",
        "print('Исходный массив:', arrnan)\n",
        "print('Сумма с промежуточными результатами:', np.nancumsum(arrnan))"
      ],
      "execution_count": null,
      "outputs": [
        {
          "output_type": "stream",
          "text": [
            "Исходный массив: [ 0.  1.  2.  3. nan  5.  6.  7.]\n",
            "Сумма с промежуточными результатами: [ 0.  1.  3.  6.  6. 11. 17. 24.]\n"
          ],
          "name": "stdout"
        }
      ]
    },
    {
      "cell_type": "markdown",
      "metadata": {
        "id": "1dsi97i8DpiT"
      },
      "source": [
        "**Методы булевых массивов**"
      ]
    },
    {
      "cell_type": "code",
      "metadata": {
        "colab": {
          "base_uri": "https://localhost:8080/"
        },
        "id": "tgv2SoLXEJep",
        "outputId": "2cb78ae7-0c59-474d-a1ab-891f1328755d"
      },
      "source": [
        "arr = np.random.randn(5, 4)\n",
        "print('Исходная матрица\\n', arr)\n",
        "\n",
        "print('Количество положительных значений:',(arr>0).sum())"
      ],
      "execution_count": null,
      "outputs": [
        {
          "output_type": "stream",
          "text": [
            "Исходная матрица\n",
            " [[ 0.09260824  0.17252557 -0.72360451  0.23231358]\n",
            " [-0.85709313  1.25644024 -0.60153313  0.79602256]\n",
            " [-0.12575    -0.32786541  0.09826019  0.26879829]\n",
            " [-1.0183898   0.49804058  0.47310501 -0.42978209]\n",
            " [ 0.36352589  0.60432165 -1.13384251 -0.82415533]]\n",
            "Количество положительных значений: 11\n"
          ],
          "name": "stdout"
        }
      ]
    },
    {
      "cell_type": "code",
      "metadata": {
        "colab": {
          "base_uri": "https://localhost:8080/"
        },
        "id": "f8oyF46vEMlQ",
        "outputId": "0079297b-ed11-4eaf-87c7-754662ef0b0c"
      },
      "source": [
        "bool_arr = np.array([True, False, False])\n",
        "print('Все True:', bool_arr.all())\n",
        "print('Хотя бы один True:', bool_arr.any())"
      ],
      "execution_count": null,
      "outputs": [
        {
          "output_type": "stream",
          "text": [
            "Все True: False\n",
            "Хотя бы один True: True\n"
          ],
          "name": "stdout"
        }
      ]
    },
    {
      "cell_type": "markdown",
      "metadata": {
        "id": "19C7GnISEPSH"
      },
      "source": [
        "**Теоретико- множественные операции**"
      ]
    },
    {
      "cell_type": "markdown",
      "metadata": {
        "id": "gSQdeLVkEhz2"
      },
      "source": [
        "![alt text](https://drive.google.com/uc?id=1ziuzpdxlN4tPQwVBk0ij2GFN_0PK37hu)"
      ]
    },
    {
      "cell_type": "code",
      "metadata": {
        "colab": {
          "base_uri": "https://localhost:8080/"
        },
        "id": "LmwqH1fpEiuK",
        "outputId": "5fef3c97-a999-4141-d81c-c351123e6d37"
      },
      "source": [
        "ints = np.array([3, 3, 3, 2, 2, 1, 1, 4, 4])\n",
        "np.unique(ints)"
      ],
      "execution_count": null,
      "outputs": [
        {
          "output_type": "execute_result",
          "data": {
            "text/plain": [
              "array([1, 2, 3, 4])"
            ]
          },
          "metadata": {},
          "execution_count": 98
        }
      ]
    },
    {
      "cell_type": "markdown",
      "metadata": {
        "id": "CdKybqeoElPw"
      },
      "source": [
        "**Линейная алгебра**"
      ]
    },
    {
      "cell_type": "markdown",
      "metadata": {
        "id": "bp3AYZi8Es4C"
      },
      "source": [
        "![alt text](https://drive.google.com/uc?id=1gpvES_c1py_Ww3JKYq7v-HWidLp468pl)"
      ]
    },
    {
      "cell_type": "code",
      "metadata": {
        "colab": {
          "base_uri": "https://localhost:8080/"
        },
        "id": "G3WZe-1NEtM8",
        "outputId": "d838d047-5e8a-4af3-842c-c8d71daef941"
      },
      "source": [
        "A = np.array([[1., 2., 3.], [4., 5., 6.]])\n",
        "B = np.array([[6., 23.], [-1, 7], [8, 9]])\n",
        "print('Матрица A')\n",
        "print(A)\n",
        "print('Матрица B')\n",
        "print(B)\n",
        "\n",
        "print('Произведение матриц A*B')\n",
        "print(A.dot(B))\n",
        "\n",
        "print('Произведение матриц A*B')\n",
        "print(np.dot(A, B))\n",
        "\n",
        "print('Произведение матриц A*B')\n",
        "print(A @ B)"
      ],
      "execution_count": null,
      "outputs": [
        {
          "output_type": "stream",
          "text": [
            "Матрица A\n",
            "[[1. 2. 3.]\n",
            " [4. 5. 6.]]\n",
            "Матрица B\n",
            "[[ 6. 23.]\n",
            " [-1.  7.]\n",
            " [ 8.  9.]]\n",
            "Произведение матриц A*B\n",
            "[[ 28.  64.]\n",
            " [ 67. 181.]]\n",
            "Произведение матриц A*B\n",
            "[[ 28.  64.]\n",
            " [ 67. 181.]]\n",
            "Произведение матриц A*B\n",
            "[[ 28.  64.]\n",
            " [ 67. 181.]]\n"
          ],
          "name": "stdout"
        }
      ]
    },
    {
      "cell_type": "code",
      "metadata": {
        "colab": {
          "base_uri": "https://localhost:8080/"
        },
        "id": "ekRkiQkBExbj",
        "outputId": "cb094629-30f9-4d86-ef2e-280ab0314726"
      },
      "source": [
        "X = np.random.randn(5, 5)\n",
        "print('Исходная матрица:')\n",
        "print(X)\n",
        "\n",
        "mat = X.T.dot(X)\n",
        "print('Матрица Xtr*X:')\n",
        "print(mat)"
      ],
      "execution_count": null,
      "outputs": [
        {
          "output_type": "stream",
          "text": [
            "Исходная матрица:\n",
            "[[-1.39407718 -0.65038898 -0.55004437 -0.22063437 -0.57429247]\n",
            " [-0.78794866  0.03147863 -0.88157061  0.07335102 -0.03084551]\n",
            " [ 0.67429943 -1.59026607  0.27076498 -0.03217659  0.1449159 ]\n",
            " [ 1.17840499 -0.08181883 -0.75478285 -2.60519783 -0.50118753]\n",
            " [ 0.77021706 -0.63137292 -0.82447747 -0.24807806 -0.08570506]]\n",
            "Матрица Xtr*X:\n",
            "[[ 5.00086664 -0.77313652  0.11954686 -3.03296423  0.26601603]\n",
            " [-0.77313652  3.358269    0.48171201  0.5667605   0.23720612]\n",
            " [ 0.11954686  0.48171201  2.40248948  2.21887572  0.83126663]\n",
            " [-3.03296423  0.5667605   2.21887572  6.90369368  1.44673742]\n",
            " [ 0.26601603  0.23720612  0.83126663  1.44673742  0.61029821]]\n"
          ],
          "name": "stdout"
        }
      ]
    },
    {
      "cell_type": "code",
      "metadata": {
        "colab": {
          "base_uri": "https://localhost:8080/"
        },
        "id": "efxHVSwmEzt1",
        "outputId": "d784cbdc-4b34-4618-d96e-ab8f11052a65"
      },
      "source": [
        "print('Обратная матрица для Xtr*X:')\n",
        "print(np.linalg.inv(mat))"
      ],
      "execution_count": null,
      "outputs": [
        {
          "output_type": "stream",
          "text": [
            "Обратная матрица для Xtr*X:\n",
            "[[ 1.27250629  0.34271759 -0.06269915  1.34593072 -3.79304802]\n",
            " [ 0.34271759  0.40036816 -0.05582282  0.36488078 -1.09392616]\n",
            " [-0.06269915 -0.05582282  0.80641392 -0.12368674 -0.75615862]\n",
            " [ 1.34593072  0.36488078 -0.12368674  1.71553021 -4.62674831]\n",
            " [-3.79304802 -1.09392616 -0.75615862 -4.62674831 15.71486987]]\n"
          ],
          "name": "stdout"
        }
      ]
    },
    {
      "cell_type": "code",
      "metadata": {
        "colab": {
          "base_uri": "https://localhost:8080/"
        },
        "id": "Pj7HGeUJE3Oa",
        "outputId": "a69db6d2-4b55-4941-bbfd-d7ba06bd382c"
      },
      "source": [
        "# DOP\n",
        "print('(Xtr*X)*(Xtr*X)^(-1):')\n",
        "print(mat.dot(np.linalg.inv(mat)))"
      ],
      "execution_count": null,
      "outputs": [
        {
          "output_type": "stream",
          "text": [
            "(Xtr*X)*(Xtr*X)^(-1):\n",
            "[[ 1.00000000e+00  7.59858398e-17  1.73981778e-17 -5.66958757e-16\n",
            "   1.95007388e-15]\n",
            " [ 1.91930726e-16  1.00000000e+00  1.38243543e-18  3.42925690e-16\n",
            "   1.26451676e-16]\n",
            " [-4.42133569e-17 -3.54150733e-17  1.00000000e+00 -4.77373681e-17\n",
            "   7.05142383e-16]\n",
            " [-2.14715047e-16 -2.29968043e-16  3.20528364e-16  1.00000000e+00\n",
            "  -2.53519280e-15]\n",
            " [-2.66756269e-16 -6.24961419e-17  1.18630537e-16 -1.07897340e-16\n",
            "   1.00000000e+00]]\n"
          ],
          "name": "stdout"
        }
      ]
    },
    {
      "cell_type": "code",
      "metadata": {
        "colab": {
          "base_uri": "https://localhost:8080/"
        },
        "id": "X77-_R5TE-G4",
        "outputId": "e80baab4-78a4-4099-b038-99d8cae6062c"
      },
      "source": [
        "s,v,d = np.linalg.svd(mat)\n",
        "s"
      ],
      "execution_count": null,
      "outputs": [
        {
          "output_type": "execute_result",
          "data": {
            "text/plain": [
              "array([[-0.50612054, -0.74684062,  0.10608405, -0.34791341, -0.23189116],\n",
              "       [ 0.15291629,  0.12635533,  0.96554168, -0.15446079, -0.06724627],\n",
              "       [ 0.25362303, -0.51333275,  0.15311732,  0.80456493, -0.03735245],\n",
              "       [ 0.79841398, -0.28584444, -0.17481971, -0.41383909, -0.28107535],\n",
              "       [ 0.13663483, -0.28468555,  0.04968488, -0.19107748,  0.92806566]])"
            ]
          },
          "metadata": {},
          "execution_count": 103
        }
      ]
    },
    {
      "cell_type": "markdown",
      "metadata": {
        "id": "tctKd__QFCFU"
      },
      "source": [
        "**Генерация 'случайных' чисел**"
      ]
    },
    {
      "cell_type": "markdown",
      "metadata": {
        "id": "5rZMNhUpFHXS"
      },
      "source": [
        "![alt text](https://drive.google.com/uc?id=1Z36qj4Pxk_kITNINUFzXl03sZwyr7NEP)"
      ]
    },
    {
      "cell_type": "code",
      "metadata": {
        "colab": {
          "base_uri": "https://localhost:8080/"
        },
        "id": "zQchEE2WFL7d",
        "outputId": "aabe2f41-203c-4c7a-9ac7-51b5937e9f86"
      },
      "source": [
        "samples = np.random.normal(size=(4, 4))\n",
        "samples"
      ],
      "execution_count": null,
      "outputs": [
        {
          "output_type": "execute_result",
          "data": {
            "text/plain": [
              "array([[-1.01283112,  0.31424733, -0.90802408, -1.4123037 ],\n",
              "       [ 1.46564877, -0.2257763 ,  0.0675282 , -1.42474819],\n",
              "       [-0.54438272,  0.11092259, -1.15099358,  0.37569802],\n",
              "       [-0.60063869, -0.29169375, -0.60170661,  1.85227818]])"
            ]
          },
          "metadata": {},
          "execution_count": 115
        }
      ]
    },
    {
      "cell_type": "code",
      "metadata": {
        "colab": {
          "base_uri": "https://localhost:8080/"
        },
        "id": "7Ui1DIvpFei4",
        "outputId": "447dbacc-5c30-4bc9-f8f3-28bb07a5904b"
      },
      "source": [
        "np.random.seed(42)\n",
        "samples = np.random.normal(size=(4, 4))\n",
        "samples"
      ],
      "execution_count": null,
      "outputs": [
        {
          "output_type": "execute_result",
          "data": {
            "text/plain": [
              "array([[ 0.49671415, -0.1382643 ,  0.64768854,  1.52302986],\n",
              "       [-0.23415337, -0.23413696,  1.57921282,  0.76743473],\n",
              "       [-0.46947439,  0.54256004, -0.46341769, -0.46572975],\n",
              "       [ 0.24196227, -1.91328024, -1.72491783, -0.56228753]])"
            ]
          },
          "metadata": {},
          "execution_count": 114
        }
      ]
    }
  ]
}